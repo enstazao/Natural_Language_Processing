{
 "cells": [
  {
   "cell_type": "markdown",
   "metadata": {},
   "source": [
    "# Lab01: Getting Started with NLTK"
   ]
  },
  {
   "cell_type": "markdown",
   "metadata": {},
   "source": [
    "## Task1: Getting Ready"
   ]
  },
  {
   "cell_type": "code",
   "execution_count": 5,
   "metadata": {
    "tags": []
   },
   "outputs": [
    {
     "name": "stdout",
     "output_type": "stream",
     "text": [
      "Requirement already satisfied: nltk in /home/jadi/anaconda3/lib/python3.11/site-packages (3.8.1)\n",
      "Requirement already satisfied: click in /home/jadi/anaconda3/lib/python3.11/site-packages (from nltk) (8.0.4)\n",
      "Requirement already satisfied: joblib in /home/jadi/anaconda3/lib/python3.11/site-packages (from nltk) (1.2.0)\n",
      "Requirement already satisfied: regex>=2021.8.3 in /home/jadi/anaconda3/lib/python3.11/site-packages (from nltk) (2022.7.9)\n",
      "Requirement already satisfied: tqdm in /home/jadi/anaconda3/lib/python3.11/site-packages (from nltk) (4.65.0)\n",
      "Collecting latexify-py\n",
      "  Obtaining dependency information for latexify-py from https://files.pythonhosted.org/packages/eb/5d/63c1b16a53016d278a780431d855e9f8f61194ba9303b46e7fb5b5802ee6/latexify_py-0.4.2-py3-none-any.whl.metadata\n",
      "  Downloading latexify_py-0.4.2-py3-none-any.whl.metadata (3.9 kB)\n",
      "Requirement already satisfied: dill>=0.3.2 in /home/jadi/anaconda3/lib/python3.11/site-packages (from latexify-py) (0.3.6)\n",
      "Downloading latexify_py-0.4.2-py3-none-any.whl (38 kB)\n",
      "Installing collected packages: latexify-py\n",
      "Successfully installed latexify-py-0.4.2\n"
     ]
    }
   ],
   "source": [
    "!pip install nltk\n",
    "!pip install latexify-py"
   ]
  },
  {
   "cell_type": "code",
   "execution_count": 2,
   "metadata": {
    "tags": []
   },
   "outputs": [
    {
     "name": "stdout",
     "output_type": "stream",
     "text": [
      "showing info https://raw.githubusercontent.com/nltk/nltk_data/gh-pages/index.xml\n"
     ]
    },
    {
     "data": {
      "text/plain": [
       "True"
      ]
     },
     "execution_count": 2,
     "metadata": {},
     "output_type": "execute_result"
    }
   ],
   "source": [
    "import nltk\n",
    "nltk.download()"
   ]
  },
  {
   "cell_type": "code",
   "execution_count": 3,
   "metadata": {
    "tags": []
   },
   "outputs": [
    {
     "name": "stderr",
     "output_type": "stream",
     "text": [
      "[nltk_data] Downloading collection 'book'\n",
      "[nltk_data]    | \n",
      "[nltk_data]    | Downloading package abc to /home/jadi/nltk_data...\n",
      "[nltk_data]    |   Unzipping corpora/abc.zip.\n",
      "[nltk_data]    | Downloading package brown to /home/jadi/nltk_data...\n",
      "[nltk_data]    |   Unzipping corpora/brown.zip.\n",
      "[nltk_data]    | Downloading package chat80 to /home/jadi/nltk_data...\n",
      "[nltk_data]    |   Unzipping corpora/chat80.zip.\n",
      "[nltk_data]    | Downloading package cmudict to\n",
      "[nltk_data]    |     /home/jadi/nltk_data...\n",
      "[nltk_data]    |   Unzipping corpora/cmudict.zip.\n",
      "[nltk_data]    | Downloading package conll2000 to\n",
      "[nltk_data]    |     /home/jadi/nltk_data...\n",
      "[nltk_data]    |   Unzipping corpora/conll2000.zip.\n",
      "[nltk_data]    | Downloading package conll2002 to\n",
      "[nltk_data]    |     /home/jadi/nltk_data...\n",
      "[nltk_data]    |   Unzipping corpora/conll2002.zip.\n",
      "[nltk_data]    | Downloading package dependency_treebank to\n",
      "[nltk_data]    |     /home/jadi/nltk_data...\n",
      "[nltk_data]    |   Unzipping corpora/dependency_treebank.zip.\n",
      "[nltk_data]    | Downloading package genesis to\n",
      "[nltk_data]    |     /home/jadi/nltk_data...\n",
      "[nltk_data]    |   Unzipping corpora/genesis.zip.\n",
      "[nltk_data]    | Downloading package gutenberg to\n",
      "[nltk_data]    |     /home/jadi/nltk_data...\n",
      "[nltk_data]    |   Unzipping corpora/gutenberg.zip.\n",
      "[nltk_data]    | Downloading package ieer to /home/jadi/nltk_data...\n",
      "[nltk_data]    |   Unzipping corpora/ieer.zip.\n",
      "[nltk_data]    | Downloading package inaugural to\n",
      "[nltk_data]    |     /home/jadi/nltk_data...\n",
      "[nltk_data]    |   Unzipping corpora/inaugural.zip.\n",
      "[nltk_data]    | Downloading package movie_reviews to\n",
      "[nltk_data]    |     /home/jadi/nltk_data...\n",
      "[nltk_data]    |   Unzipping corpora/movie_reviews.zip.\n",
      "[nltk_data]    | Downloading package nps_chat to\n",
      "[nltk_data]    |     /home/jadi/nltk_data...\n",
      "[nltk_data]    |   Unzipping corpora/nps_chat.zip.\n",
      "[nltk_data]    | Downloading package names to /home/jadi/nltk_data...\n",
      "[nltk_data]    |   Unzipping corpora/names.zip.\n",
      "[nltk_data]    | Downloading package ppattach to\n",
      "[nltk_data]    |     /home/jadi/nltk_data...\n",
      "[nltk_data]    |   Unzipping corpora/ppattach.zip.\n",
      "[nltk_data]    | Downloading package reuters to\n",
      "[nltk_data]    |     /home/jadi/nltk_data...\n",
      "[nltk_data]    | Downloading package senseval to\n",
      "[nltk_data]    |     /home/jadi/nltk_data...\n",
      "[nltk_data]    |   Unzipping corpora/senseval.zip.\n",
      "[nltk_data]    | Downloading package state_union to\n",
      "[nltk_data]    |     /home/jadi/nltk_data...\n",
      "[nltk_data]    |   Unzipping corpora/state_union.zip.\n",
      "[nltk_data]    | Downloading package stopwords to\n",
      "[nltk_data]    |     /home/jadi/nltk_data...\n",
      "[nltk_data]    |   Unzipping corpora/stopwords.zip.\n",
      "[nltk_data]    | Downloading package swadesh to\n",
      "[nltk_data]    |     /home/jadi/nltk_data...\n",
      "[nltk_data]    |   Unzipping corpora/swadesh.zip.\n",
      "[nltk_data]    | Downloading package timit to /home/jadi/nltk_data...\n",
      "[nltk_data]    |   Unzipping corpora/timit.zip.\n",
      "[nltk_data]    | Downloading package treebank to\n",
      "[nltk_data]    |     /home/jadi/nltk_data...\n",
      "[nltk_data]    |   Unzipping corpora/treebank.zip.\n",
      "[nltk_data]    | Downloading package toolbox to\n",
      "[nltk_data]    |     /home/jadi/nltk_data...\n",
      "[nltk_data]    |   Unzipping corpora/toolbox.zip.\n",
      "[nltk_data]    | Downloading package udhr to /home/jadi/nltk_data...\n",
      "[nltk_data]    |   Unzipping corpora/udhr.zip.\n",
      "[nltk_data]    | Downloading package udhr2 to /home/jadi/nltk_data...\n",
      "[nltk_data]    |   Unzipping corpora/udhr2.zip.\n",
      "[nltk_data]    | Downloading package unicode_samples to\n",
      "[nltk_data]    |     /home/jadi/nltk_data...\n",
      "[nltk_data]    |   Unzipping corpora/unicode_samples.zip.\n",
      "[nltk_data]    | Downloading package webtext to\n",
      "[nltk_data]    |     /home/jadi/nltk_data...\n",
      "[nltk_data]    |   Unzipping corpora/webtext.zip.\n",
      "[nltk_data]    | Downloading package wordnet to\n",
      "[nltk_data]    |     /home/jadi/nltk_data...\n",
      "[nltk_data]    | Downloading package wordnet_ic to\n",
      "[nltk_data]    |     /home/jadi/nltk_data...\n",
      "[nltk_data]    |   Unzipping corpora/wordnet_ic.zip.\n",
      "[nltk_data]    | Downloading package words to /home/jadi/nltk_data...\n",
      "[nltk_data]    |   Unzipping corpora/words.zip.\n",
      "[nltk_data]    | Downloading package maxent_treebank_pos_tagger to\n",
      "[nltk_data]    |     /home/jadi/nltk_data...\n",
      "[nltk_data]    |   Unzipping taggers/maxent_treebank_pos_tagger.zip.\n",
      "[nltk_data]    | Downloading package maxent_ne_chunker to\n",
      "[nltk_data]    |     /home/jadi/nltk_data...\n",
      "[nltk_data]    |   Unzipping chunkers/maxent_ne_chunker.zip.\n",
      "[nltk_data]    | Downloading package universal_tagset to\n",
      "[nltk_data]    |     /home/jadi/nltk_data...\n",
      "[nltk_data]    |   Unzipping taggers/universal_tagset.zip.\n",
      "[nltk_data]    | Downloading package punkt to /home/jadi/nltk_data...\n",
      "[nltk_data]    |   Unzipping tokenizers/punkt.zip.\n",
      "[nltk_data]    | Downloading package book_grammars to\n",
      "[nltk_data]    |     /home/jadi/nltk_data...\n",
      "[nltk_data]    |   Unzipping grammars/book_grammars.zip.\n",
      "[nltk_data]    | Downloading package city_database to\n",
      "[nltk_data]    |     /home/jadi/nltk_data...\n",
      "[nltk_data]    |   Unzipping corpora/city_database.zip.\n",
      "[nltk_data]    | Downloading package tagsets to\n",
      "[nltk_data]    |     /home/jadi/nltk_data...\n",
      "[nltk_data]    |   Unzipping help/tagsets.zip.\n",
      "[nltk_data]    | Downloading package panlex_swadesh to\n",
      "[nltk_data]    |     /home/jadi/nltk_data...\n",
      "[nltk_data]    | Downloading package averaged_perceptron_tagger to\n",
      "[nltk_data]    |     /home/jadi/nltk_data...\n",
      "[nltk_data]    |   Unzipping taggers/averaged_perceptron_tagger.zip.\n",
      "[nltk_data]    | \n",
      "[nltk_data]  Done downloading collection book\n"
     ]
    },
    {
     "data": {
      "text/plain": [
       "True"
      ]
     },
     "execution_count": 3,
     "metadata": {},
     "output_type": "execute_result"
    }
   ],
   "source": [
    "# Download the book module \"typically refer to the collection of texts\"\n",
    "nltk.download('book')"
   ]
  },
  {
   "cell_type": "code",
   "execution_count": 4,
   "metadata": {},
   "outputs": [
    {
     "name": "stdout",
     "output_type": "stream",
     "text": [
      "*** Introductory Examples for the NLTK Book ***\n",
      "Loading text1, ..., text9 and sent1, ..., sent9\n",
      "Type the name of the text or sentence to view it.\n",
      "Type: 'texts()' or 'sents()' to list the materials.\n",
      "text1: Moby Dick by Herman Melville 1851\n",
      "text2: Sense and Sensibility by Jane Austen 1811\n",
      "text3: The Book of Genesis\n",
      "text4: Inaugural Address Corpus\n",
      "text5: Chat Corpus\n",
      "text6: Monty Python and the Holy Grail\n",
      "text7: Wall Street Journal\n",
      "text8: Personals Corpus\n",
      "text9: The Man Who Was Thursday by G . K . Chesterton 1908\n"
     ]
    }
   ],
   "source": [
    "# import all the datasets and functions provided by book module\n",
    "from nltk.book import *"
   ]
  },
  {
   "cell_type": "code",
   "execution_count": 5,
   "metadata": {},
   "outputs": [
    {
     "name": "stdout",
     "output_type": "stream",
     "text": [
      "Displaying 25 of 49 matches:\n",
      "des cometh within the chaos of this monster ' s mouth , be it beast , boat , or\n",
      "nter into the dreadful gulf of this monster ' s ( whale ' s ) mouth , are immed\n",
      "time with a lance ; but the furious monster at length rushed on the boat ; hims\n",
      " . Such a portentous and mysterious monster roused all my curiosity . Then the \n",
      "and flank with the most exasperated monster . Long usage had , for this Stubb ,\n",
      "ACK ).-- Under this head I reckon a monster which , by the various names of Fin\n",
      "arned the history of that murderous monster against whom I and all the others h\n",
      "ocity , cunning , and malice in the monster attacked ; therefore it was , that \n",
      "iathan is restricted to the ignoble monster primitively pursued in the North ; \n",
      " and incontestable character of the monster to strike the imagination with unwo\n",
      "mberment . Then , in darting at the monster , knife in hand , he had but given \n",
      "e rock ; instead of this we saw the monster sailing off with the utmost gravity\n",
      "e at Constantinople , a great sea - monster was captured in the neighboring Pro\n",
      " Of what precise species this sea - monster was , is not mentioned . But as he \n",
      "man reasoning , Procopius ' s sea - monster , that for half a century stove the\n",
      "hale ,\" as he called the fictitious monster which he declared to be incessantly\n",
      "d his intention to hunt that mortal monster in person . But such a supposition \n",
      "ng us on and on , in order that the monster might turn round upon us , and rend\n",
      "d famous , and most deadly immortal monster , Don ;-- but that would be too lon\n",
      "oluntarily lifted his voice for the monster , though for some little time past \n",
      "s rescuing Andromeda from the sea - monster or whale . Where did Guido get the \n",
      " huge corpulence of that Hogarthian monster undulates on the surface , scarcely\n",
      "nd is drawn just balancing upon the monster ' s spine ; and standing in that pr\n",
      " of cutting - in ) hove over to the monster as if to a quay ; and a boat , hurr\n",
      "eet in length . They fancy that the monster to which these arms belonged ordina\n"
     ]
    }
   ],
   "source": [
    "# Print all the occurances of the 'monster' word along with some surronding context (some words)\n",
    "text1.concordance(\"monster\")"
   ]
  },
  {
   "cell_type": "code",
   "execution_count": 6,
   "metadata": {},
   "outputs": [
    {
     "name": "stdout",
     "output_type": "stream",
     "text": [
      "whale ship world sea whales boat pequod other sun leviathan thing king\n",
      "water head captain air crew cabin body more\n"
     ]
    }
   ],
   "source": [
    "# Return the similar words like 'monster' that are used in similar context as monster\n",
    "text1.similar(\"monster\")"
   ]
  },
  {
   "cell_type": "code",
   "execution_count": 7,
   "metadata": {},
   "outputs": [
    {
     "name": "stdout",
     "output_type": "stream",
     "text": [
      "the_that\n"
     ]
    }
   ],
   "source": [
    "text1.common_contexts([\"monster\", \"person\"])"
   ]
  },
  {
   "cell_type": "code",
   "execution_count": 8,
   "metadata": {},
   "outputs": [
    {
     "name": "stdout",
     "output_type": "stream",
     "text": [
      "No common contexts were found\n"
     ]
    }
   ],
   "source": [
    "text1.common_contexts([\"might\", \"turn\"])"
   ]
  },
  {
   "cell_type": "code",
   "execution_count": 9,
   "metadata": {},
   "outputs": [
    {
     "name": "stdout",
     "output_type": "stream",
     "text": [
      "the_and\n"
     ]
    }
   ],
   "source": [
    "text1.common_contexts(['monster', 'mouth'])"
   ]
  },
  {
   "cell_type": "code",
   "execution_count": 10,
   "metadata": {},
   "outputs": [
    {
     "data": {
      "image/png": "[encoded data removed]",
      "text/plain": [
       "<Figure size 432x288 with 1 Axes>"
      ]
     },
     "metadata": {
      "needs_background": "light"
     },
     "output_type": "display_data"
    }
   ],
   "source": [
    "# Dispersion plot show the relative position of the words in the given text, where they occur and how they are distributed in the text\n",
    "text1.dispersion_plot([\"the\", ',', 'monster'])"
   ]
  },
  {
   "cell_type": "code",
   "execution_count": 11,
   "metadata": {},
   "outputs": [
    {
     "data": {
      "image/png": "[encoded data removed]",
      "text/plain": [
       "<Figure size 432x288 with 1 Axes>"
      ]
     },
     "metadata": {
      "needs_background": "light"
     },
     "output_type": "display_data"
    }
   ],
   "source": [
    "text1.dispersion_plot([\"monster\", 'evil', 'devil'])"
   ]
  },
  {
   "cell_type": "code",
   "execution_count": 12,
   "metadata": {},
   "outputs": [
    {
     "name": "stdout",
     "output_type": "stream",
     "text": [
      "19317\n",
      "['territories', 'Counterpane', 'She', 'idol', 'tragic', 'stages', 'sick', 'fashions', 'shriek', 'prophet']\n"
     ]
    }
   ],
   "source": [
    "# No repetition allowed in set, set to get all the unique words\n",
    "# Printing only 10 as a lot of unique words\n",
    "unique_words = list(set(text1))\n",
    "print(len(unique_words))\n",
    "print(unique_words[:10])"
   ]
  },
  {
   "cell_type": "code",
   "execution_count": 13,
   "metadata": {},
   "outputs": [],
   "source": [
    "# View the sorted list\n",
    "sorted_text1_unique_words = sorted(set(text1))"
   ]
  },
  {
   "cell_type": "code",
   "execution_count": 14,
   "metadata": {},
   "outputs": [
    {
     "name": "stdout",
     "output_type": "stream",
     "text": [
      "First 10:  ['!', '!\"', '!\"--', \"!'\", '!\\'\"', '!)', '!)\"', '!*', '!--', '!--\"']\n",
      "Last 10:  ['zag', 'zay', 'zeal', 'zephyr', 'zig', 'zodiac', 'zone', 'zoned', 'zones', 'zoology']\n"
     ]
    }
   ],
   "source": [
    "print(\"First 10: \", sorted_text1_unique_words[:10])\n",
    "print(\"Last 10: \", sorted_text1_unique_words[-10:])"
   ]
  },
  {
   "cell_type": "code",
   "execution_count": 15,
   "metadata": {},
   "outputs": [
    {
     "name": "stdout",
     "output_type": "stream",
     "text": [
      "Vocabulary size for text1: 260819\n",
      "Vocabulary size for text2: 141576\n",
      "Vocabulary size for text3: 44764\n",
      "Vocabulary size for text4: 152901\n",
      "Vocabulary size for text5: 45010\n",
      "Vocabulary size for text6: 16967\n",
      "Vocabulary size for text7: 100676\n",
      "Vocabulary size for text8: 4867\n",
      "Vocabulary size for text9: 69213\n"
     ]
    }
   ],
   "source": [
    "# Check the sizes of the vocabulary for different texts\n",
    "vocab_size_text1 = len(text1)\n",
    "vocab_size_text2 = len(text2)\n",
    "vocab_size_text3 = len(text3)\n",
    "vocab_size_text4 = len(text4)\n",
    "vocab_size_text5 = len(text5)\n",
    "vocab_size_text6 = len(text6)\n",
    "vocab_size_text7 = len(text7)\n",
    "vocab_size_text8 = len(text8)\n",
    "vocab_size_text9 = len(text9)\n",
    "\n",
    "print(f\"Vocabulary size for text1: {vocab_size_text1}\")\n",
    "print(f\"Vocabulary size for text2: {vocab_size_text2}\")\n",
    "print(f\"Vocabulary size for text3: {vocab_size_text3}\")\n",
    "print(f\"Vocabulary size for text4: {vocab_size_text4}\")\n",
    "print(f\"Vocabulary size for text5: {vocab_size_text5}\")\n",
    "print(f\"Vocabulary size for text6: {vocab_size_text6}\")\n",
    "print(f\"Vocabulary size for text7: {vocab_size_text7}\")\n",
    "print(f\"Vocabulary size for text8: {vocab_size_text8}\")\n",
    "print(f\"Vocabulary size for text9: {vocab_size_text9}\")"
   ]
  },
  {
   "cell_type": "markdown",
   "metadata": {},
   "source": [
    "### Lexical Richness\n",
    "Lexical richness is a measure of the diversity and variety of words used in a piece of text. \n",
    "\n",
    "$$ \\text{Lexical Richness} = \\frac{\\text{Number of Unique Words}}{\\text{Total Number of Words}} $$\n"
   ]
  },
  {
   "cell_type": "code",
   "execution_count": 16,
   "metadata": {},
   "outputs": [
    {
     "name": "stdout",
     "output_type": "stream",
     "text": [
      "Requirement already satisfied: latexify-py==0.2.0 in /home/jadi/anaconda3/lib/python3.7/site-packages (0.2.0)\n",
      "Requirement already satisfied: dill>=0.3.2 in /home/jadi/anaconda3/lib/python3.7/site-packages (from latexify-py==0.2.0) (0.3.7)\n",
      "\u001b[33mDEPRECATION: pyodbc 4.0.0-unsupported has a non-standard version number. pip 24.0 will enforce this behaviour change. A possible replacement is to upgrade to a newer version of pyodbc or contact the author to suggest that they release a version with a conforming version number. Discussion can be found at https://github.com/pypa/pip/issues/12063\u001b[0m\u001b[33m\n",
      "\u001b[0m"
     ]
    }
   ],
   "source": [
    "!pip install latexify-py==0.2.0"
   ]
  },
  {
   "cell_type": "code",
   "execution_count": 17,
   "metadata": {},
   "outputs": [],
   "source": [
    "import latexify\n",
    "\n",
    "@latexify.function\n",
    "def lexical_richness(text):\n",
    "    unique_words = set(text)\n",
    "    return len(unique_words) / len(text)"
   ]
  },
  {
   "cell_type": "code",
   "execution_count": 18,
   "metadata": {},
   "outputs": [
    {
     "data": {
      "text/latex": [
       "$$ \\displaystyle \\begin{array}{l} unique_words = \\mathrm{set}\\left(text\\right) \\\\ \\mathrm{lexical_richness}(text) = \\frac{\\mathrm{len}\\left(unique_words\\right)}{\\mathrm{len}\\left(text\\right)} \\end{array} $$"
      ],
      "text/plain": [
       "<latexify.frontend.LatexifiedFunction at 0x7efc56ba0e50>"
      ]
     },
     "execution_count": 18,
     "metadata": {},
     "output_type": "execute_result"
    }
   ],
   "source": [
    "lexical_richness"
   ]
  },
  {
   "cell_type": "code",
   "execution_count": 19,
   "metadata": {},
   "outputs": [
    {
     "name": "stdout",
     "output_type": "stream",
     "text": [
      "Moby Dick by Herman Melville 1851\n"
     ]
    }
   ],
   "source": [
    "# To get the corpous name\n",
    "print(text1.name)"
   ]
  },
  {
   "cell_type": "code",
   "execution_count": 20,
   "metadata": {},
   "outputs": [
    {
     "name": "stdout",
     "output_type": "stream",
     "text": [
      "260819\n"
     ]
    }
   ],
   "source": [
    "# To get the corpous length\n",
    "print(len(text1))"
   ]
  },
  {
   "cell_type": "code",
   "execution_count": 21,
   "metadata": {},
   "outputs": [
    {
     "name": "stdout",
     "output_type": "stream",
     "text": [
      "19317\n"
     ]
    }
   ],
   "source": [
    "# To get the unique words\n",
    "print(len(set(text1)))"
   ]
  },
  {
   "cell_type": "code",
   "execution_count": 22,
   "metadata": {},
   "outputs": [
    {
     "name": "stdout",
     "output_type": "stream",
     "text": [
      "Lexical richness of text1 =>  0.07406285585022564\n"
     ]
    }
   ],
   "source": [
    "# To get the lexical richness of any corpous\n",
    "lexical_richness_text1 = lexical_richness(text1)\n",
    "print(\"Lexical richness of text1 => \", lexical_richness_text1)"
   ]
  },
  {
   "cell_type": "markdown",
   "metadata": {},
   "source": [
    "## Table"
   ]
  },
  {
   "cell_type": "code",
   "execution_count": 23,
   "metadata": {},
   "outputs": [
    {
     "name": "stdout",
     "output_type": "stream",
     "text": [
      "| Corpus         Text1           | Text2           | Text3           | Text4           | Text5           | Text6           | Text7           | Text8           | Text9           |\n",
      "| ------------------------------|---------------|---------------|---------------|---------------|---------------|---------------|---------------|---------------|\n",
      "| Corpus Name    | Moby Dick by Herman Melville 1851| Sense and Sensibility by Jane Austen 1811| The Book of Genesis| Inaugural Address Corpus| Chat Corpus    | Monty Python and the Holy Grail| Wall Street Journal| Personals Corpus| The Man Who Was Thursday by G . K . Chesterton 1908\n",
      "\n",
      "| Corpus Length  | 260819         | 141576         | 44764          | 152901         | 45010          | 16967          | 100676         | 4867           | 69213          \n",
      "\n",
      "| Unique Words   | 19317          | 6833           | 2789           | 10025          | 6066           | 2166           | 12408          | 1108           | 6807           \n",
      "\n",
      "| Lexical Richness| 0.0741         | 0.0483         | 0.0623         | 0.0656         | 0.1348         | 0.1277         | 0.1232         | 0.2277         | 0.0983         \n",
      "\n",
      "| ------------------------------|---------------|---------------|---------------|---------------|---------------|---------------|---------------|---------------|\n"
     ]
    }
   ],
   "source": [
    "# Function to fill the table\n",
    "def fill_table(corpus_names, corpora):\n",
    "    # Table header\n",
    "    header = f\"| {'Corpus': <15}\"\n",
    "    header += ' | '.join([f'{name: <15}' for name in corpus_names]) + ' |'\n",
    "    print(header)\n",
    "    \n",
    "    # Table separator\n",
    "    separator = f\"| {'-' * 15}\"\n",
    "    separator += '|'.join(['-' * 15 for _ in corpus_names]) + '|'\n",
    "    print(separator)\n",
    "    \n",
    "    # Table content\n",
    "    for attribute in [\"Corpus Name\", \"Corpus Length\", \"Unique Words\", \"Lexical Richness\"]:\n",
    "        row = f\"| {attribute: <15}\"\n",
    "        for corpus_name, corpus in zip(corpus_names, corpora):\n",
    "            if attribute == \"Corpus Name\":\n",
    "                row += f\"| {getattr(corpus, 'name', ''): <15}\"\n",
    "            elif attribute == \"Corpus Length\":\n",
    "                row += f\"| {len(corpus): <15}\"\n",
    "            elif attribute == \"Unique Words\":\n",
    "                row += f\"| {len(set(corpus)): <15}\"\n",
    "            elif attribute == \"Lexical Richness\":\n",
    "                row += f\"| {lexical_richness(corpus): <15.4f}\"\n",
    "        print(row + \"\\n\")\n",
    "    \n",
    "    # Table bottom line\n",
    "    bottom_line = f\"| {'-' * 15}\"\n",
    "    bottom_line += '|'.join(['-' * 15 for _ in corpus_names]) + '|'\n",
    "    print(bottom_line)\n",
    "\n",
    "# Example usage\n",
    "corpus_names = [\"Text1\", \"Text2\", \"Text3\", \"Text4\", \"Text5\", \"Text6\", \"Text7\", \"Text8\", \"Text9\"]\n",
    "corpora = [text1, text2, text3, text4, text5, text6, text7, text8, text9]\n",
    "\n",
    "fill_table(corpus_names, corpora)\n"
   ]
  },
  {
   "cell_type": "markdown",
   "metadata": {},
   "source": [
    "# Task 2: Term Frequency"
   ]
  },
  {
   "cell_type": "code",
   "execution_count": 24,
   "metadata": {},
   "outputs": [
    {
     "data": {
      "text/plain": [
       "0.018786974875296663"
      ]
     },
     "execution_count": 24,
     "metadata": {},
     "output_type": "execute_result"
    }
   ],
   "source": [
    "# Count of frequency of a particular word\n",
    "text1.count('monster') / len(text1) * 100"
   ]
  },
  {
   "cell_type": "code",
   "execution_count": 25,
   "metadata": {},
   "outputs": [],
   "source": [
    "@latexify.function\n",
    "def TF(corpus, token):\n",
    "    token_count_in_corpus = corpus.count(token)\n",
    "    total_terms_in_corpus = len(corpus)\n",
    "    return token_count_in_corpus / total_terms_in_corpus * 100"
   ]
  },
  {
   "cell_type": "code",
   "execution_count": 26,
   "metadata": {},
   "outputs": [
    {
     "data": {
      "text/latex": [
       "$$ \\displaystyle \\begin{array}{l} token_count_in_corpus = \\mathrm{corpus.count}\\left(token\\right) \\\\ total_terms_in_corpus = \\mathrm{len}\\left(corpus\\right) \\\\ \\mathrm{TF}(corpus, token) = \\frac{token_count_in_corpus}{total_terms_in_corpus} {100} \\end{array} $$"
      ],
      "text/plain": [
       "<latexify.frontend.LatexifiedFunction at 0x7efc576de750>"
      ]
     },
     "execution_count": 26,
     "metadata": {},
     "output_type": "execute_result"
    }
   ],
   "source": [
    "TF"
   ]
  },
  {
   "cell_type": "code",
   "execution_count": 27,
   "metadata": {},
   "outputs": [
    {
     "data": {
      "text/plain": [
       "0.018786974875296663"
      ]
     },
     "execution_count": 27,
     "metadata": {},
     "output_type": "execute_result"
    }
   ],
   "source": [
    "TF(text1, 'monster')"
   ]
  },
  {
   "cell_type": "code",
   "execution_count": 28,
   "metadata": {},
   "outputs": [],
   "source": [
    "# Log Scales\n",
    "import math\n",
    "\n",
    "@latexify.function\n",
    "def LOGTF(corpus, token):\n",
    "    token_count_in_corpus = corpus.count(token)\n",
    "    total_terms_in_corpus = len(corpus)\n",
    "    \n",
    "    return math.log(token_count_in_corpus + 1, 10)"
   ]
  },
  {
   "cell_type": "code",
   "execution_count": 29,
   "metadata": {},
   "outputs": [
    {
     "data": {
      "text/plain": [
       "1.6989700043360185"
      ]
     },
     "execution_count": 29,
     "metadata": {},
     "output_type": "execute_result"
    }
   ],
   "source": [
    "math.log(text1.count('monster')+1,10)"
   ]
  },
  {
   "cell_type": "code",
   "execution_count": 30,
   "metadata": {},
   "outputs": [
    {
     "data": {
      "text/latex": [
       "$$ \\displaystyle \\begin{array}{l} token_count_in_corpus = \\mathrm{corpus.count}\\left(token\\right) \\\\ total_terms_in_corpus = \\mathrm{len}\\left(corpus\\right) \\\\ \\mathrm{LOGTF}(corpus, token) = \\log{\\left({token_count_in_corpus + {1}, {10}}\\right)} \\end{array} $$"
      ],
      "text/plain": [
       "<latexify.frontend.LatexifiedFunction at 0x7efc907b6ed0>"
      ]
     },
     "execution_count": 30,
     "metadata": {},
     "output_type": "execute_result"
    }
   ],
   "source": [
    "LOGTF"
   ]
  },
  {
   "cell_type": "code",
   "execution_count": 31,
   "metadata": {},
   "outputs": [
    {
     "data": {
      "text/plain": [
       "(1.6989700043360185, 4.272166625140787, 4.137417414990392)"
      ]
     },
     "execution_count": 31,
     "metadata": {},
     "output_type": "execute_result"
    }
   ],
   "source": [
    "LOGTF(text1, 'monster'), LOGTF(text1, ','), LOGTF(text1, 'the')"
   ]
  },
  {
   "cell_type": "code",
   "execution_count": 32,
   "metadata": {},
   "outputs": [],
   "source": [
    "# IDF: how often a term occured in the collection of documents\n",
    "\n",
    "@latexify.function\n",
    "def IDF(token, corpus, number_of_corpuses=9):\n",
    "    count_of_token_in_one_corpus = corpus.count(token)\n",
    "    \n",
    "    return math.log(((number_of_corpuses + 1) / (count_of_token_in_one_corpus + 1)), 10)"
   ]
  },
  {
   "cell_type": "code",
   "execution_count": 33,
   "metadata": {},
   "outputs": [
    {
     "data": {
      "text/latex": [
       "$$ \\displaystyle \\begin{array}{l} count_of_token_in_one_corpus = \\mathrm{corpus.count}\\left(token\\right) \\\\ \\mathrm{IDF}(token, corpus, number_of_corpuses) = \\log{\\left({\\frac{number_of_corpuses + {1}}{count_of_token_in_one_corpus + {1}}, {10}}\\right)} \\end{array} $$"
      ],
      "text/plain": [
       "<latexify.frontend.LatexifiedFunction at 0x7efc576cf410>"
      ]
     },
     "execution_count": 33,
     "metadata": {},
     "output_type": "execute_result"
    }
   ],
   "source": [
    "IDF"
   ]
  },
  {
   "cell_type": "code",
   "execution_count": 34,
   "metadata": {},
   "outputs": [
    {
     "data": {
      "text/plain": [
       "-0.6989700043360187"
      ]
     },
     "execution_count": 34,
     "metadata": {},
     "output_type": "execute_result"
    }
   ],
   "source": [
    "IDF('monster', text1)"
   ]
  },
  {
   "cell_type": "code",
   "execution_count": 35,
   "metadata": {},
   "outputs": [],
   "source": [
    "# Frequency Distribution \n",
    "fdist1 = FreqDist(text1)"
   ]
  },
  {
   "cell_type": "code",
   "execution_count": 36,
   "metadata": {},
   "outputs": [
    {
     "data": {
      "text/plain": [
       "[(',', 18713), ('the', 13721), ('.', 6862)]"
      ]
     },
     "execution_count": 36,
     "metadata": {},
     "output_type": "execute_result"
    }
   ],
   "source": [
    "fdist1.most_common(3)"
   ]
  },
  {
   "cell_type": "code",
   "execution_count": 37,
   "metadata": {},
   "outputs": [
    {
     "data": {
      "image/png": "[encoded data removed]",
      "text/plain": [
       "<Figure size 432x288 with 1 Axes>"
      ]
     },
     "metadata": {
      "needs_background": "light"
     },
     "output_type": "display_data"
    },
    {
     "data": {
      "text/plain": [
       "<matplotlib.axes._subplots.AxesSubplot at 0x7efc576df9d0>"
      ]
     },
     "execution_count": 37,
     "metadata": {},
     "output_type": "execute_result"
    }
   ],
   "source": [
    "fdist1.plot(5)"
   ]
  },
  {
   "cell_type": "code",
   "execution_count": 38,
   "metadata": {},
   "outputs": [
    {
     "data": {
      "image/png": "[encoded data removed]",
      "text/plain": [
       "<Figure size 432x288 with 1 Axes>"
      ]
     },
     "metadata": {
      "needs_background": "light"
     },
     "output_type": "display_data"
    },
    {
     "data": {
      "text/plain": [
       "<matplotlib.axes._subplots.AxesSubplot at 0x7efc57638090>"
      ]
     },
     "execution_count": 38,
     "metadata": {},
     "output_type": "execute_result"
    }
   ],
   "source": [
    "fdist1.plot(50)"
   ]
  },
  {
   "cell_type": "code",
   "execution_count": 39,
   "metadata": {},
   "outputs": [],
   "source": [
    "common_word_1 = fdist1.most_common(1)[0][0]\n",
    "common_word_2 = fdist1.most_common(2)[1][0]\n",
    "common_word_3 = fdist1.most_common(3)[2][0]"
   ]
  },
  {
   "cell_type": "code",
   "execution_count": 40,
   "metadata": {},
   "outputs": [
    {
     "name": "stdout",
     "output_type": "stream",
     "text": [
      ", the .\n"
     ]
    }
   ],
   "source": [
    "print(common_word_1, common_word_2, common_word_3)"
   ]
  },
  {
   "cell_type": "code",
   "execution_count": 41,
   "metadata": {},
   "outputs": [
    {
     "name": "stdout",
     "output_type": "stream",
     "text": [
      "Token           TF()            LOGTF()         IDF()          \n",
      "------------------------------------------------------------\n",
      "monster         0.02            1.70            -0.6990        \n",
      "evil            0.00            1.08            -0.0792        \n",
      "devil           0.02            1.72            -0.7160        \n",
      "the             5.26            4.14            -3.1374        \n",
      ",               7.17            4.27            -3.2722        \n",
      "the             5.26            4.14            -3.1374        \n",
      ".               2.63            3.84            -2.8365        \n"
     ]
    }
   ],
   "source": [
    "\n",
    "\n",
    "# Define the tokens\n",
    "tokens = ['monster', 'evil', 'devil', 'the', common_word_1, common_word_2, common_word_3]\n",
    "\n",
    "# Fill in the table for Text1\n",
    "text1_values = [TF(text1, token) for token in tokens]\n",
    "text1_log_values = [LOGTF(text1, token) for token in tokens]\n",
    "text1_idf_values = [IDF(token, text1) for token in tokens]\n",
    "\n",
    "# Print the table header\n",
    "print(f\"{'Token': <15} {'TF()': <15} {'LOGTF()': <15} {'IDF()': <15}\")\n",
    "print(\"-\" * 60)\n",
    "\n",
    "# Print the values for each token\n",
    "for i in range(len(tokens)):\n",
    "    token = tokens[i]\n",
    "    tf_value = text1_values[i]\n",
    "    logtf_value = text1_log_values[i]\n",
    "    idf_value = text1_idf_values[i]\n",
    "    \n",
    "    print(f\"{token: <15} {tf_value: <15.2f} {logtf_value: <15.2f} {idf_value: <15.4f}\")\n"
   ]
  },
  {
   "cell_type": "markdown",
   "metadata": {},
   "source": [
    "# Task 3: Tokenization & POS"
   ]
  },
  {
   "cell_type": "code",
   "execution_count": 42,
   "metadata": {},
   "outputs": [
    {
     "name": "stderr",
     "output_type": "stream",
     "text": [
      "[nltk_data] Downloading package punkt to /home/jadi/nltk_data...\n",
      "[nltk_data]   Package punkt is already up-to-date!\n"
     ]
    },
    {
     "data": {
      "text/plain": [
       "True"
      ]
     },
     "execution_count": 42,
     "metadata": {},
     "output_type": "execute_result"
    }
   ],
   "source": [
    "# Tokenization of the sentences and words\n",
    "nltk.download('punkt')"
   ]
  },
  {
   "cell_type": "code",
   "execution_count": 43,
   "metadata": {},
   "outputs": [],
   "source": [
    "text = \"NLTK is a powerful library for natural language processing.\"\n",
    "words = nltk.word_tokenize(text)\n",
    "sentences = nltk.sent_tokenize(text)"
   ]
  },
  {
   "cell_type": "code",
   "execution_count": 44,
   "metadata": {},
   "outputs": [
    {
     "name": "stdout",
     "output_type": "stream",
     "text": [
      "['NLTK', 'is', 'a', 'powerful', 'library', 'for', 'natural', 'language', 'processing', '.']\n",
      "['NLTK is a powerful library for natural language processing.']\n"
     ]
    }
   ],
   "source": [
    "print(words)\n",
    "print(sentences)"
   ]
  },
  {
   "cell_type": "code",
   "execution_count": 45,
   "metadata": {},
   "outputs": [],
   "source": [
    "text = \"I will take the NLP class on Tuesday.\"\n",
    "words = nltk.word_tokenize(text)\n",
    "sentences = nltk.sent_tokenize(text)"
   ]
  },
  {
   "cell_type": "code",
   "execution_count": 46,
   "metadata": {},
   "outputs": [
    {
     "name": "stdout",
     "output_type": "stream",
     "text": [
      "['I', 'will', 'take', 'the', 'NLP', 'class', 'on', 'Tuesday', '.']\n",
      "['I will take the NLP class on Tuesday.']\n"
     ]
    }
   ],
   "source": [
    "print(words)\n",
    "print(sentences)"
   ]
  },
  {
   "cell_type": "markdown",
   "metadata": {},
   "source": [
    "### Assign parts of speech tags to the sentencs"
   ]
  },
  {
   "cell_type": "code",
   "execution_count": 47,
   "metadata": {},
   "outputs": [
    {
     "name": "stderr",
     "output_type": "stream",
     "text": [
      "[nltk_data] Downloading package averaged_perceptron_tagger to\n",
      "[nltk_data]     /home/jadi/nltk_data...\n",
      "[nltk_data]   Package averaged_perceptron_tagger is already up-to-\n",
      "[nltk_data]       date!\n"
     ]
    },
    {
     "data": {
      "text/plain": [
       "True"
      ]
     },
     "execution_count": 47,
     "metadata": {},
     "output_type": "execute_result"
    }
   ],
   "source": [
    "nltk.download('averaged_perceptron_tagger')"
   ]
  },
  {
   "cell_type": "code",
   "execution_count": 48,
   "metadata": {},
   "outputs": [
    {
     "name": "stdout",
     "output_type": "stream",
     "text": [
      "[('I', 'PRP'), ('will', 'MD'), ('take', 'VB'), ('the', 'DT'), ('NLP', 'NNP'), ('class', 'NN'), ('on', 'IN'), ('Tuesday', 'NNP'), ('.', '.')]\n"
     ]
    }
   ],
   "source": [
    "tags = nltk.pos_tag(words)\n",
    "print(tags)"
   ]
  },
  {
   "cell_type": "markdown",
   "metadata": {},
   "source": [
    "### Remove some of the stop words"
   ]
  },
  {
   "cell_type": "code",
   "execution_count": 49,
   "metadata": {},
   "outputs": [
    {
     "name": "stderr",
     "output_type": "stream",
     "text": [
      "[nltk_data] Downloading package stopwords to /home/jadi/nltk_data...\n",
      "[nltk_data]   Package stopwords is already up-to-date!\n"
     ]
    },
    {
     "data": {
      "text/plain": [
       "True"
      ]
     },
     "execution_count": 49,
     "metadata": {},
     "output_type": "execute_result"
    }
   ],
   "source": [
    "nltk.download('stopwords')"
   ]
  },
  {
   "cell_type": "code",
   "execution_count": 50,
   "metadata": {},
   "outputs": [
    {
     "name": "stdout",
     "output_type": "stream",
     "text": [
      "['take', 'NLP', 'class', 'Tuesday', '.']\n"
     ]
    }
   ],
   "source": [
    "from nltk.corpus import stopwords\n",
    "\n",
    "filtered_words = [word for word in words if word.lower() not in stopwords.words('english')]\n",
    "\n",
    "print(filtered_words)"
   ]
  }
 ],
 "metadata": {
  "kernelspec": {
   "display_name": "Python 3 (ipykernel)",
   "language": "python",
   "name": "python3"
  },
  "language_info": {
   "codemirror_mode": {
    "name": "ipython",
    "version": 3
   },
   "file_extension": ".py",
   "mimetype": "text/x-python",
   "name": "python",
   "nbconvert_exporter": "python",
   "pygments_lexer": "ipython3",
   "version": "3.11.5"
  }
 },
 "nbformat": 4,
 "nbformat_minor": 4
}
