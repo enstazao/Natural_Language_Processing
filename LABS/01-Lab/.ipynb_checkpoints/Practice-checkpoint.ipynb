{
 "cells": [
  {
   "cell_type": "code",
   "execution_count": 1,
   "metadata": {},
   "outputs": [
    {
     "name": "stdout",
     "output_type": "stream",
     "text": [
      "Requirement already satisfied: nltk in /home/jadi/anaconda3/lib/python3.7/site-packages (3.4.5)\n",
      "Requirement already satisfied: six in /home/jadi/anaconda3/lib/python3.7/site-packages (from nltk) (1.14.0)\n",
      "\u001b[33mDEPRECATION: pyodbc 4.0.0-unsupported has a non-standard version number. pip 24.0 will enforce this behaviour change. A possible replacement is to upgrade to a newer version of pyodbc or contact the author to suggest that they release a version with a conforming version number. Discussion can be found at https://github.com/pypa/pip/issues/12063\u001b[0m\u001b[33m\n",
      "\u001b[0m"
     ]
    }
   ],
   "source": [
    "!pip install nltk"
   ]
  },
  {
   "cell_type": "markdown",
   "metadata": {},
   "source": [
    "# Task 1: Getting Ready"
   ]
  },
  {
   "cell_type": "code",
   "execution_count": 1,
   "metadata": {},
   "outputs": [
    {
     "name": "stderr",
     "output_type": "stream",
     "text": [
      "[nltk_data] Downloading collection 'book'\n",
      "[nltk_data]    | \n",
      "[nltk_data]    | Downloading package abc to /home/jadi/nltk_data...\n",
      "[nltk_data]    |   Package abc is already up-to-date!\n",
      "[nltk_data]    | Downloading package brown to /home/jadi/nltk_data...\n",
      "[nltk_data]    |   Package brown is already up-to-date!\n",
      "[nltk_data]    | Downloading package chat80 to /home/jadi/nltk_data...\n",
      "[nltk_data]    |   Package chat80 is already up-to-date!\n",
      "[nltk_data]    | Downloading package cmudict to\n",
      "[nltk_data]    |     /home/jadi/nltk_data...\n",
      "[nltk_data]    |   Package cmudict is already up-to-date!\n",
      "[nltk_data]    | Downloading package conll2000 to\n",
      "[nltk_data]    |     /home/jadi/nltk_data...\n",
      "[nltk_data]    |   Package conll2000 is already up-to-date!\n",
      "[nltk_data]    | Downloading package conll2002 to\n",
      "[nltk_data]    |     /home/jadi/nltk_data...\n",
      "[nltk_data]    |   Package conll2002 is already up-to-date!\n",
      "[nltk_data]    | Downloading package dependency_treebank to\n",
      "[nltk_data]    |     /home/jadi/nltk_data...\n",
      "[nltk_data]    |   Package dependency_treebank is already up-to-date!\n",
      "[nltk_data]    | Downloading package genesis to\n",
      "[nltk_data]    |     /home/jadi/nltk_data...\n",
      "[nltk_data]    |   Package genesis is already up-to-date!\n",
      "[nltk_data]    | Downloading package gutenberg to\n",
      "[nltk_data]    |     /home/jadi/nltk_data...\n",
      "[nltk_data]    |   Package gutenberg is already up-to-date!\n",
      "[nltk_data]    | Downloading package ieer to /home/jadi/nltk_data...\n",
      "[nltk_data]    |   Package ieer is already up-to-date!\n",
      "[nltk_data]    | Downloading package inaugural to\n",
      "[nltk_data]    |     /home/jadi/nltk_data...\n",
      "[nltk_data]    |   Package inaugural is already up-to-date!\n",
      "[nltk_data]    | Downloading package movie_reviews to\n",
      "[nltk_data]    |     /home/jadi/nltk_data...\n",
      "[nltk_data]    |   Package movie_reviews is already up-to-date!\n",
      "[nltk_data]    | Downloading package nps_chat to\n",
      "[nltk_data]    |     /home/jadi/nltk_data...\n",
      "[nltk_data]    |   Package nps_chat is already up-to-date!\n",
      "[nltk_data]    | Downloading package names to /home/jadi/nltk_data...\n",
      "[nltk_data]    |   Package names is already up-to-date!\n",
      "[nltk_data]    | Downloading package ppattach to\n",
      "[nltk_data]    |     /home/jadi/nltk_data...\n",
      "[nltk_data]    |   Package ppattach is already up-to-date!\n",
      "[nltk_data]    | Downloading package reuters to\n",
      "[nltk_data]    |     /home/jadi/nltk_data...\n",
      "[nltk_data]    |   Package reuters is already up-to-date!\n",
      "[nltk_data]    | Downloading package senseval to\n",
      "[nltk_data]    |     /home/jadi/nltk_data...\n",
      "[nltk_data]    |   Package senseval is already up-to-date!\n",
      "[nltk_data]    | Downloading package state_union to\n",
      "[nltk_data]    |     /home/jadi/nltk_data...\n",
      "[nltk_data]    |   Package state_union is already up-to-date!\n",
      "[nltk_data]    | Downloading package stopwords to\n",
      "[nltk_data]    |     /home/jadi/nltk_data...\n",
      "[nltk_data]    |   Package stopwords is already up-to-date!\n",
      "[nltk_data]    | Downloading package swadesh to\n",
      "[nltk_data]    |     /home/jadi/nltk_data...\n",
      "[nltk_data]    |   Package swadesh is already up-to-date!\n",
      "[nltk_data]    | Downloading package timit to /home/jadi/nltk_data...\n",
      "[nltk_data]    |   Package timit is already up-to-date!\n",
      "[nltk_data]    | Downloading package treebank to\n",
      "[nltk_data]    |     /home/jadi/nltk_data...\n",
      "[nltk_data]    |   Package treebank is already up-to-date!\n",
      "[nltk_data]    | Downloading package toolbox to\n",
      "[nltk_data]    |     /home/jadi/nltk_data...\n",
      "[nltk_data]    |   Package toolbox is already up-to-date!\n",
      "[nltk_data]    | Downloading package udhr to /home/jadi/nltk_data...\n",
      "[nltk_data]    |   Package udhr is already up-to-date!\n",
      "[nltk_data]    | Downloading package udhr2 to /home/jadi/nltk_data...\n",
      "[nltk_data]    |   Package udhr2 is already up-to-date!\n",
      "[nltk_data]    | Downloading package unicode_samples to\n",
      "[nltk_data]    |     /home/jadi/nltk_data...\n",
      "[nltk_data]    |   Package unicode_samples is already up-to-date!\n",
      "[nltk_data]    | Downloading package webtext to\n",
      "[nltk_data]    |     /home/jadi/nltk_data...\n",
      "[nltk_data]    |   Package webtext is already up-to-date!\n",
      "[nltk_data]    | Downloading package wordnet to\n",
      "[nltk_data]    |     /home/jadi/nltk_data...\n",
      "[nltk_data]    |   Package wordnet is already up-to-date!\n",
      "[nltk_data]    | Downloading package wordnet_ic to\n",
      "[nltk_data]    |     /home/jadi/nltk_data...\n",
      "[nltk_data]    |   Package wordnet_ic is already up-to-date!\n",
      "[nltk_data]    | Downloading package words to /home/jadi/nltk_data...\n",
      "[nltk_data]    |   Package words is already up-to-date!\n",
      "[nltk_data]    | Downloading package maxent_treebank_pos_tagger to\n",
      "[nltk_data]    |     /home/jadi/nltk_data...\n",
      "[nltk_data]    |   Package maxent_treebank_pos_tagger is already up-\n",
      "[nltk_data]    |       to-date!\n",
      "[nltk_data]    | Downloading package maxent_ne_chunker to\n",
      "[nltk_data]    |     /home/jadi/nltk_data...\n",
      "[nltk_data]    |   Package maxent_ne_chunker is already up-to-date!\n",
      "[nltk_data]    | Downloading package universal_tagset to\n",
      "[nltk_data]    |     /home/jadi/nltk_data...\n",
      "[nltk_data]    |   Package universal_tagset is already up-to-date!\n",
      "[nltk_data]    | Downloading package punkt to /home/jadi/nltk_data...\n",
      "[nltk_data]    |   Package punkt is already up-to-date!\n",
      "[nltk_data]    | Downloading package book_grammars to\n",
      "[nltk_data]    |     /home/jadi/nltk_data...\n",
      "[nltk_data]    |   Package book_grammars is already up-to-date!\n",
      "[nltk_data]    | Downloading package city_database to\n",
      "[nltk_data]    |     /home/jadi/nltk_data...\n",
      "[nltk_data]    |   Package city_database is already up-to-date!\n",
      "[nltk_data]    | Downloading package tagsets to\n",
      "[nltk_data]    |     /home/jadi/nltk_data...\n",
      "[nltk_data]    |   Package tagsets is already up-to-date!\n",
      "[nltk_data]    | Downloading package panlex_swadesh to\n",
      "[nltk_data]    |     /home/jadi/nltk_data...\n",
      "[nltk_data]    |   Package panlex_swadesh is already up-to-date!\n",
      "[nltk_data]    | Downloading package averaged_perceptron_tagger to\n",
      "[nltk_data]    |     /home/jadi/nltk_data...\n",
      "[nltk_data]    |   Package averaged_perceptron_tagger is already up-\n",
      "[nltk_data]    |       to-date!\n",
      "[nltk_data]    | \n",
      "[nltk_data]  Done downloading collection book\n"
     ]
    },
    {
     "data": {
      "text/plain": [
       "True"
      ]
     },
     "execution_count": 1,
     "metadata": {},
     "output_type": "execute_result"
    }
   ],
   "source": [
    "import nltk\n",
    "nltk.download('book')"
   ]
  },
  {
   "cell_type": "code",
   "execution_count": 2,
   "metadata": {},
   "outputs": [
    {
     "name": "stdout",
     "output_type": "stream",
     "text": [
      "*** Introductory Examples for the NLTK Book ***\n",
      "Loading text1, ..., text9 and sent1, ..., sent9\n",
      "Type the name of the text or sentence to view it.\n",
      "Type: 'texts()' or 'sents()' to list the materials.\n",
      "text1: Moby Dick by Herman Melville 1851\n",
      "text2: Sense and Sensibility by Jane Austen 1811\n",
      "text3: The Book of Genesis\n",
      "text4: Inaugural Address Corpus\n",
      "text5: Chat Corpus\n",
      "text6: Monty Python and the Holy Grail\n",
      "text7: Wall Street Journal\n",
      "text8: Personals Corpus\n",
      "text9: The Man Who Was Thursday by G . K . Chesterton 1908\n"
     ]
    }
   ],
   "source": [
    "from nltk.book import *"
   ]
  },
  {
   "cell_type": "code",
   "execution_count": 3,
   "metadata": {},
   "outputs": [
    {
     "name": "stdout",
     "output_type": "stream",
     "text": [
      "Displaying 25 of 49 matches:\n",
      "des cometh within the chaos of this monster ' s mouth , be it beast , boat , or\n",
      "nter into the dreadful gulf of this monster ' s ( whale ' s ) mouth , are immed\n",
      "time with a lance ; but the furious monster at length rushed on the boat ; hims\n",
      " . Such a portentous and mysterious monster roused all my curiosity . Then the \n",
      "and flank with the most exasperated monster . Long usage had , for this Stubb ,\n",
      "ACK ).-- Under this head I reckon a monster which , by the various names of Fin\n",
      "arned the history of that murderous monster against whom I and all the others h\n",
      "ocity , cunning , and malice in the monster attacked ; therefore it was , that \n",
      "iathan is restricted to the ignoble monster primitively pursued in the North ; \n",
      " and incontestable character of the monster to strike the imagination with unwo\n",
      "mberment . Then , in darting at the monster , knife in hand , he had but given \n",
      "e rock ; instead of this we saw the monster sailing off with the utmost gravity\n",
      "e at Constantinople , a great sea - monster was captured in the neighboring Pro\n",
      " Of what precise species this sea - monster was , is not mentioned . But as he \n",
      "man reasoning , Procopius ' s sea - monster , that for half a century stove the\n",
      "hale ,\" as he called the fictitious monster which he declared to be incessantly\n",
      "d his intention to hunt that mortal monster in person . But such a supposition \n",
      "ng us on and on , in order that the monster might turn round upon us , and rend\n",
      "d famous , and most deadly immortal monster , Don ;-- but that would be too lon\n",
      "oluntarily lifted his voice for the monster , though for some little time past \n",
      "s rescuing Andromeda from the sea - monster or whale . Where did Guido get the \n",
      " huge corpulence of that Hogarthian monster undulates on the surface , scarcely\n",
      "nd is drawn just balancing upon the monster ' s spine ; and standing in that pr\n",
      " of cutting - in ) hove over to the monster as if to a quay ; and a boat , hurr\n",
      "eet in length . They fancy that the monster to which these arms belonged ordina\n"
     ]
    }
   ],
   "source": [
    "text1.concordance(\"monster\")"
   ]
  },
  {
   "cell_type": "code",
   "execution_count": 4,
   "metadata": {},
   "outputs": [
    {
     "name": "stdout",
     "output_type": "stream",
     "text": [
      "whale ship world sea whales boat pequod other sun leviathan thing king\n",
      "water head captain air crew cabin body more\n"
     ]
    }
   ],
   "source": [
    "text1.similar('monster')"
   ]
  },
  {
   "cell_type": "code",
   "execution_count": 5,
   "metadata": {},
   "outputs": [
    {
     "name": "stdout",
     "output_type": "stream",
     "text": [
      "the_that\n"
     ]
    }
   ],
   "source": [
    "text1.common_contexts([\"monster\", \"person\"])"
   ]
  },
  {
   "cell_type": "code",
   "execution_count": 6,
   "metadata": {},
   "outputs": [
    {
     "data": {
      "image/png": "[encoded data removed]",
      "text/plain": [
       "<Figure size 432x288 with 1 Axes>"
      ]
     },
     "metadata": {
      "needs_background": "light"
     },
     "output_type": "display_data"
    }
   ],
   "source": [
    "text1.dispersion_plot([\"monster\", \"evil\", \"devil\"])"
   ]
  },
  {
   "cell_type": "code",
   "execution_count": 7,
   "metadata": {},
   "outputs": [
    {
     "name": "stdout",
     "output_type": "stream",
     "text": [
      "{'Herman', 'Moby', '1851', 'ETYMOLOGY', 'Melville', '[', 'Dick', '.', 'by', ']'}\n"
     ]
    }
   ],
   "source": [
    "print(set(text1[:10]))"
   ]
  },
  {
   "cell_type": "code",
   "execution_count": 8,
   "metadata": {},
   "outputs": [
    {
     "data": {
      "text/plain": [
       "44764"
      ]
     },
     "execution_count": 8,
     "metadata": {},
     "output_type": "execute_result"
    }
   ],
   "source": [
    "len(text3)"
   ]
  },
  {
   "cell_type": "code",
   "execution_count": 9,
   "metadata": {},
   "outputs": [
    {
     "name": "stdout",
     "output_type": "stream",
     "text": [
      "Text 1 Corpus Name is: Moby Dick by Herman Melville 1851\n",
      "Text 2 Corpus Name is: Sense and Sensibility by Jane Austen 1811\n",
      "Text 3 Corpus Name is: The Book of Genesis\n",
      "Text 4 Corpus Name is: Inaugural Address Corpus\n",
      "Text 5 Corpus Name is: Chat Corpus\n",
      "Text 6 Corpus Name is: Monty Python and the Holy Grail\n",
      "Text 7 Corpus Name is: Wall Street Journal\n",
      "Text 8 Corpus Name is: Personals Corpus\n",
      "Text 9 Corpus Name is: The Man Who Was Thursday by G . K . Chesterton 1908\n"
     ]
    }
   ],
   "source": [
    "print(\"Text 1 Corpus Name is:\", text1.name)\n",
    "print(\"Text 2 Corpus Name is:\", text2.name)\n",
    "print(\"Text 3 Corpus Name is:\", text3.name)\n",
    "print(\"Text 4 Corpus Name is:\", text4.name)\n",
    "print(\"Text 5 Corpus Name is:\", text5.name)\n",
    "print(\"Text 6 Corpus Name is:\", text6.name)\n",
    "print(\"Text 7 Corpus Name is:\", text7.name)\n",
    "print(\"Text 8 Corpus Name is:\", text8.name)\n",
    "print(\"Text 9 Corpus Name is:\", text9.name)\n"
   ]
  },
  {
   "cell_type": "code",
   "execution_count": 10,
   "metadata": {},
   "outputs": [
    {
     "name": "stdout",
     "output_type": "stream",
     "text": [
      "Text 1 Corpus Length: 260819\n",
      "Text 2 Corpus Length: 141576\n",
      "Text 3 Corpus Length: 44764\n",
      "Text 4 Corpus Length: 152901\n",
      "Text 5 Corpus Length: 45010\n",
      "Text 6 Corpus Length: 16967\n",
      "Text 7 Corpus Length: 100676\n",
      "Text 8 Corpus Length: 4867\n",
      "Text 9 Corpus Length: 69213\n"
     ]
    }
   ],
   "source": [
    "print(\"Text 1 Corpus Length:\", len(text1))\n",
    "print(\"Text 2 Corpus Length:\", len(text2))\n",
    "print(\"Text 3 Corpus Length:\", len(text3))\n",
    "print(\"Text 4 Corpus Length:\", len(text4))\n",
    "print(\"Text 5 Corpus Length:\", len(text5))\n",
    "print(\"Text 6 Corpus Length:\", len(text6))\n",
    "print(\"Text 7 Corpus Length:\", len(text7))\n",
    "print(\"Text 8 Corpus Length:\", len(text8))\n",
    "print(\"Text 9 Corpus Length:\", len(text9))\n"
   ]
  },
  {
   "cell_type": "code",
   "execution_count": 11,
   "metadata": {},
   "outputs": [
    {
     "name": "stdout",
     "output_type": "stream",
     "text": [
      "Text 1 Unique Words: 19317\n",
      "Text 2 Unique Words: 6833\n",
      "Text 3 Unique Words: 2789\n",
      "Text 4 Unique Words: 10025\n",
      "Text 5 Unique Words: 6066\n",
      "Text 6 Unique Words: 2166\n",
      "Text 7 Unique Words: 12408\n",
      "Text 8 Unique Words: 1108\n",
      "Text 9 Unique Words: 6807\n"
     ]
    }
   ],
   "source": [
    "print(\"Text 1 Unique Words:\", len(set(text1)))\n",
    "print(\"Text 2 Unique Words:\", len(set(text2)))\n",
    "print(\"Text 3 Unique Words:\", len(set(text3)))\n",
    "print(\"Text 4 Unique Words:\", len(set(text4)))\n",
    "print(\"Text 5 Unique Words:\", len(set(text5)))\n",
    "print(\"Text 6 Unique Words:\", len(set(text6)))\n",
    "print(\"Text 7 Unique Words:\", len(set(text7)))\n",
    "print(\"Text 8 Unique Words:\", len(set(text8)))\n",
    "print(\"Text 9 Unique Words:\", len(set(text9)))\n"
   ]
  },
  {
   "cell_type": "code",
   "execution_count": 12,
   "metadata": {},
   "outputs": [],
   "source": [
    "def lexical_richness(text):\n",
    "    unique_words = set(text)\n",
    "    return len(unique_words) / len(text)"
   ]
  },
  {
   "cell_type": "code",
   "execution_count": 13,
   "metadata": {},
   "outputs": [
    {
     "name": "stdout",
     "output_type": "stream",
     "text": [
      "Text 1 Lexical Richness: 0.07406285585022564\n",
      "Text 2 Lexical Richness: 0.04826383002768831\n",
      "Text 3 Lexical Richness: 0.06230453042623537\n",
      "Text 4 Lexical Richness: 0.06556530042314962\n",
      "Text 5 Lexical Richness: 0.13477005109975562\n",
      "Text 6 Lexical Richness: 0.1276595744680851\n",
      "Text 7 Lexical Richness: 0.12324685128531129\n",
      "Text 8 Lexical Richness: 0.22765564002465585\n",
      "Text 9 Lexical Richness: 0.0983485761345412\n"
     ]
    }
   ],
   "source": [
    "print(\"Text 1 Lexical Richness:\", lexical_richness(text1))\n",
    "print(\"Text 2 Lexical Richness:\", lexical_richness(text2))\n",
    "print(\"Text 3 Lexical Richness:\", lexical_richness(text3))\n",
    "print(\"Text 4 Lexical Richness:\", lexical_richness(text4))\n",
    "print(\"Text 5 Lexical Richness:\", lexical_richness(text5))\n",
    "print(\"Text 6 Lexical Richness:\", lexical_richness(text6))\n",
    "print(\"Text 7 Lexical Richness:\", lexical_richness(text7))\n",
    "print(\"Text 8 Lexical Richness:\", lexical_richness(text8))\n",
    "print(\"Text 9 Lexical Richness:\", lexical_richness(text9))"
   ]
  },
  {
   "cell_type": "code",
   "execution_count": 14,
   "metadata": {},
   "outputs": [
    {
     "data": {
      "text/plain": [
       "<Text: Moby Dick by Herman Melville 1851>"
      ]
     },
     "execution_count": 14,
     "metadata": {},
     "output_type": "execute_result"
    }
   ],
   "source": [
    "text1"
   ]
  },
  {
   "cell_type": "markdown",
   "metadata": {},
   "source": [
    "# Task 2: Term Frequency"
   ]
  },
  {
   "cell_type": "code",
   "execution_count": 16,
   "metadata": {},
   "outputs": [
    {
     "data": {
      "text/plain": [
       "0.018786974875296663"
      ]
     },
     "execution_count": 16,
     "metadata": {},
     "output_type": "execute_result"
    }
   ],
   "source": [
    "text1.count('monster') / len(text1) * 100"
   ]
  },
  {
   "cell_type": "code",
   "execution_count": 17,
   "metadata": {},
   "outputs": [],
   "source": [
    "import math\n",
    "def TF(corpus, token):\n",
    "    term_frequency = corpus.count(token) / len(corpus) * 100\n",
    "    return term_frequency\n",
    "\n",
    "def LOGTF(corpus, token):\n",
    "    term_frequency_log = math.log(corpus.count(token) + 1, 10)\n",
    "    return term_frequency_log"
   ]
  },
  {
   "cell_type": "code",
   "execution_count": 41,
   "metadata": {},
   "outputs": [],
   "source": [
    "def IDF(corpus_list, token):\n",
    "    document_frequency = sum(1 for corpus in corpus_list if token in corpus)\n",
    "\n",
    "    # Add 1 to both numerator and denominator for smoothing\n",
    "    inverse_document_frequency = math.log((len(corpus_list) + 1) / (document_frequency + 1), 10)\n",
    "    return inverse_document_frequency\n"
   ]
  },
  {
   "cell_type": "code",
   "execution_count": 37,
   "metadata": {},
   "outputs": [
    {
     "name": "stdout",
     "output_type": "stream",
     "text": [
      "Term Frequency of 'monster' in Text 1: 0.018786974875296663%\n",
      "Log-scaled Term Frequency of 'monster' in Text 1: 1.6989700043360185\n",
      "Inverse Document Frequency of 'monster': 0.3979400086720376\n"
     ]
    }
   ],
   "source": [
    "# Example usage\n",
    "token_to_check = 'monster'\n",
    "tf_value = TF(text1, token_to_check)\n",
    "tf_log_value = LOGTF(text1, token_to_check)\n",
    "idf_value = IDF([text1, text2, text3, text4, text5, text6, text7, text8, text9], token_to_check)\n",
    "\n",
    "print(f\"Term Frequency of '{token_to_check}' in Text 1: {tf_value}%\")\n",
    "print(f\"Log-scaled Term Frequency of '{token_to_check}' in Text 1: {tf_log_value}\")\n",
    "print(f\"Inverse Document Frequency of '{token_to_check}': {idf_value}\")\n"
   ]
  },
  {
   "cell_type": "code",
   "execution_count": 21,
   "metadata": {},
   "outputs": [],
   "source": [
    "fdist1 = FreqDist(text1)"
   ]
  },
  {
   "cell_type": "code",
   "execution_count": 50,
   "metadata": {},
   "outputs": [
    {
     "data": {
      "text/plain": [
       "[(',', 18713), ('the', 13721), ('.', 6862)]"
      ]
     },
     "execution_count": 50,
     "metadata": {},
     "output_type": "execute_result"
    }
   ],
   "source": [
    "fdist1.most_common(3)"
   ]
  },
  {
   "cell_type": "code",
   "execution_count": 23,
   "metadata": {},
   "outputs": [
    {
     "data": {
      "text/plain": [
       "','"
      ]
     },
     "execution_count": 23,
     "metadata": {},
     "output_type": "execute_result"
    }
   ],
   "source": [
    "fdist1.most_common(1)[0][0]"
   ]
  },
  {
   "cell_type": "code",
   "execution_count": 24,
   "metadata": {},
   "outputs": [
    {
     "data": {
      "text/plain": [
       "18713"
      ]
     },
     "execution_count": 24,
     "metadata": {},
     "output_type": "execute_result"
    }
   ],
   "source": [
    "fdist1.most_common(1)[0][1]"
   ]
  },
  {
   "cell_type": "code",
   "execution_count": 25,
   "metadata": {},
   "outputs": [
    {
     "data": {
      "text/plain": [
       "FreqDist({',': 18713, 'the': 13721, '.': 6862, 'of': 6536, 'and': 6024, 'a': 4569, 'to': 4542, ';': 4072, 'in': 3916, 'that': 2982, ...})"
      ]
     },
     "execution_count": 25,
     "metadata": {},
     "output_type": "execute_result"
    }
   ],
   "source": [
    "fdist1"
   ]
  },
  {
   "cell_type": "code",
   "execution_count": 26,
   "metadata": {},
   "outputs": [
    {
     "data": {
      "image/png": "[encoded data removed]",
      "text/plain": [
       "<Figure size 432x288 with 1 Axes>"
      ]
     },
     "metadata": {
      "needs_background": "light"
     },
     "output_type": "display_data"
    },
    {
     "data": {
      "text/plain": [
       "<matplotlib.axes._subplots.AxesSubplot at 0x7f17e9365990>"
      ]
     },
     "execution_count": 26,
     "metadata": {},
     "output_type": "execute_result"
    }
   ],
   "source": [
    "fdist1.plot(50)"
   ]
  },
  {
   "cell_type": "code",
   "execution_count": 27,
   "metadata": {},
   "outputs": [
    {
     "data": {
      "text/plain": [
       "[(',', 18713)]"
      ]
     },
     "execution_count": 27,
     "metadata": {},
     "output_type": "execute_result"
    }
   ],
   "source": [
    "fdist1.most_common(1)"
   ]
  },
  {
   "cell_type": "code",
   "execution_count": 30,
   "metadata": {},
   "outputs": [],
   "source": [
    "common_word_1 = fdist1.most_common(1)[0][0]\n",
    "common_word_2 = fdist1.most_common(2)[1][0]\n",
    "common_word_3 = fdist1.most_common(3)[2][0]"
   ]
  },
  {
   "cell_type": "code",
   "execution_count": 31,
   "metadata": {},
   "outputs": [
    {
     "name": "stdout",
     "output_type": "stream",
     "text": [
      ", the .\n"
     ]
    }
   ],
   "source": [
    "print(common_word_1, common_word_2, common_word_3)"
   ]
  },
  {
   "cell_type": "code",
   "execution_count": 42,
   "metadata": {},
   "outputs": [
    {
     "name": "stdout",
     "output_type": "stream",
     "text": [
      "Token           TF()            LOGTF()         IDF()          \n",
      "------------------------------------------------------------\n",
      "monster         0.02            1.70            0.40           \n",
      "evil            0.00            1.08            0.05           \n",
      "devil           0.02            1.72            0.30           \n",
      "the             5.26            4.14            0.00           \n",
      ",               7.17            4.27            0.00           \n",
      "the             5.26            4.14            0.00           \n",
      ".               2.63            3.84            0.00           \n"
     ]
    }
   ],
   "source": [
    "# Define the tokens\n",
    "tokens = ['monster', 'evil', 'devil', 'the', common_word_1, common_word_2, common_word_3]\n",
    "\n",
    "# Fill in the table for Text1\n",
    "text1_values = [TF(text1, token) for token in tokens]\n",
    "text1_log_values = [LOGTF(text1, token) for token in tokens]\n",
    "text1_idf_values = [IDF([text1, text2, text3, text4, text5, text6, text7, text8, text9], token) for token in tokens]\n",
    "\n",
    "# Print the table header\n",
    "print(f\"{'Token': <15} {'TF()': <15} {'LOGTF()': <15} {'IDF()': <15}\")\n",
    "print(\"-\" * 60)\n",
    "\n",
    "# Print the values for each token\n",
    "for i in range(len(tokens)):\n",
    "    token = tokens[i]\n",
    "    tf_value = text1_values[i]\n",
    "    logtf_value = text1_log_values[i]\n",
    "    idf_value = text1_idf_values[i]\n",
    "    \n",
    "    print(f\"{token: <15} {tf_value: <15.2f} {logtf_value: <15.2f} {idf_value: <15.2f}\")\n"
   ]
  },
  {
   "cell_type": "markdown",
   "metadata": {},
   "source": [
    "# Task 3: Tokenization & POS"
   ]
  },
  {
   "cell_type": "code",
   "execution_count": 43,
   "metadata": {},
   "outputs": [
    {
     "name": "stderr",
     "output_type": "stream",
     "text": [
      "[nltk_data] Downloading package punkt to /home/jadi/nltk_data...\n",
      "[nltk_data]   Package punkt is already up-to-date!\n"
     ]
    },
    {
     "data": {
      "text/plain": [
       "True"
      ]
     },
     "execution_count": 43,
     "metadata": {},
     "output_type": "execute_result"
    }
   ],
   "source": [
    "nltk.download('punkt')"
   ]
  },
  {
   "cell_type": "code",
   "execution_count": 44,
   "metadata": {},
   "outputs": [],
   "source": [
    "text = 'NLTK is a powerful library for natural language processing.'\n",
    "\n",
    "words = nltk.word_tokenize(text)\n",
    "\n",
    "sentences = nltk.sent_tokenize(text)"
   ]
  },
  {
   "cell_type": "code",
   "execution_count": 45,
   "metadata": {},
   "outputs": [
    {
     "name": "stdout",
     "output_type": "stream",
     "text": [
      "['NLTK', 'is', 'a', 'powerful', 'library', 'for', 'natural', 'language', 'processing', '.']\n",
      "['NLTK is a powerful library for natural language processing.']\n"
     ]
    }
   ],
   "source": [
    "print(words)\n",
    "print(sentences)"
   ]
  },
  {
   "cell_type": "code",
   "execution_count": 46,
   "metadata": {},
   "outputs": [
    {
     "name": "stderr",
     "output_type": "stream",
     "text": [
      "[nltk_data] Downloading package averaged_perceptron_tagger to\n",
      "[nltk_data]     /home/jadi/nltk_data...\n",
      "[nltk_data]   Package averaged_perceptron_tagger is already up-to-\n",
      "[nltk_data]       date!\n"
     ]
    },
    {
     "data": {
      "text/plain": [
       "True"
      ]
     },
     "execution_count": 46,
     "metadata": {},
     "output_type": "execute_result"
    }
   ],
   "source": [
    "nltk.download('averaged_perceptron_tagger')"
   ]
  },
  {
   "cell_type": "code",
   "execution_count": 47,
   "metadata": {},
   "outputs": [],
   "source": [
    "tags = nltk.pos_tag(words)"
   ]
  },
  {
   "cell_type": "code",
   "execution_count": 48,
   "metadata": {},
   "outputs": [
    {
     "name": "stdout",
     "output_type": "stream",
     "text": [
      "[('NLTK', 'NNP'), ('is', 'VBZ'), ('a', 'DT'), ('powerful', 'JJ'), ('library', 'NN'), ('for', 'IN'), ('natural', 'JJ'), ('language', 'NN'), ('processing', 'NN'), ('.', '.')]\n"
     ]
    }
   ],
   "source": [
    "print(tags)"
   ]
  },
  {
   "cell_type": "code",
   "execution_count": 49,
   "metadata": {},
   "outputs": [
    {
     "name": "stderr",
     "output_type": "stream",
     "text": [
      "[nltk_data] Downloading package stopwords to /home/jadi/nltk_data...\n",
      "[nltk_data]   Package stopwords is already up-to-date!\n"
     ]
    },
    {
     "data": {
      "text/plain": [
       "True"
      ]
     },
     "execution_count": 49,
     "metadata": {},
     "output_type": "execute_result"
    }
   ],
   "source": [
    "nltk.download('stopwords')"
   ]
  },
  {
   "cell_type": "code",
   "execution_count": 53,
   "metadata": {},
   "outputs": [
    {
     "name": "stdout",
     "output_type": "stream",
     "text": [
      "['NLTK', 'powerful', 'library', 'natural', 'language', 'processing', '.']\n"
     ]
    }
   ],
   "source": [
    "from nltk.corpus import stopwords\n",
    "\n",
    "filtered_words = [word for word in words if word.lower() not in stopwords.words('english')]\n",
    "\n",
    "print(filtered_words)\n"
   ]
  },
  {
   "cell_type": "code",
   "execution_count": null,
   "metadata": {},
   "outputs": [],
   "source": []
  }
 ],
 "metadata": {
  "kernelspec": {
   "display_name": "Python 3",
   "language": "python",
   "name": "python3"
  },
  "language_info": {
   "codemirror_mode": {
    "name": "ipython",
    "version": 3
   },
   "file_extension": ".py",
   "mimetype": "text/x-python",
   "name": "python",
   "nbconvert_exporter": "python",
   "pygments_lexer": "ipython3",
   "version": "3.7.6"
  }
 },
 "nbformat": 4,
 "nbformat_minor": 4
}
