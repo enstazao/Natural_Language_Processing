{
 "cells": [
  {
   "cell_type": "markdown",
   "id": "d161d3e3-bab5-417a-91cc-733f9ea47281",
   "metadata": {},
   "source": [
    "## Lab 04"
   ]
  },
  {
   "cell_type": "markdown",
   "id": "a0ccce92-eaba-4d73-95a9-f9e1ff5e9c38",
   "metadata": {},
   "source": [
    "## Task 5: Finding Multiple Patterns automatically in Sentences"
   ]
  },
  {
   "cell_type": "code",
   "execution_count": 2,
   "id": "109282a6-694b-4f45-babb-e3bf9f961532",
   "metadata": {
    "tags": []
   },
   "outputs": [
    {
     "data": {
      "text/html": [
       "<span class=\"tex2jax_ignore\"><svg xmlns=\"http://www.w3.org/2000/svg\" xmlns:xlink=\"http://www.w3.org/1999/xlink\" xml:lang=\"en\" id=\"bf03b0d8721a4f75ba3bfdb7321d12ff-0\" class=\"displacy\" width=\"925\" height=\"312.0\" direction=\"ltr\" style=\"max-width: none; height: 312.0px; color: #000000; background: #ffffff; font-family: Arial; direction: ltr\">\n",
       "<text class=\"displacy-token\" fill=\"currentColor\" text-anchor=\"middle\" y=\"222.0\">\n",
       "    <tspan class=\"displacy-word\" fill=\"currentColor\" x=\"50\">The</tspan>\n",
       "    <tspan class=\"displacy-tag\" dy=\"2em\" fill=\"currentColor\" x=\"50\">DET</tspan>\n",
       "</text>\n",
       "\n",
       "<text class=\"displacy-token\" fill=\"currentColor\" text-anchor=\"middle\" y=\"222.0\">\n",
       "    <tspan class=\"displacy-word\" fill=\"currentColor\" x=\"225\">big</tspan>\n",
       "    <tspan class=\"displacy-tag\" dy=\"2em\" fill=\"currentColor\" x=\"225\">ADJ</tspan>\n",
       "</text>\n",
       "\n",
       "<text class=\"displacy-token\" fill=\"currentColor\" text-anchor=\"middle\" y=\"222.0\">\n",
       "    <tspan class=\"displacy-word\" fill=\"currentColor\" x=\"400\">dog</tspan>\n",
       "    <tspan class=\"displacy-tag\" dy=\"2em\" fill=\"currentColor\" x=\"400\">NOUN</tspan>\n",
       "</text>\n",
       "\n",
       "<text class=\"displacy-token\" fill=\"currentColor\" text-anchor=\"middle\" y=\"222.0\">\n",
       "    <tspan class=\"displacy-word\" fill=\"currentColor\" x=\"575\">chased</tspan>\n",
       "    <tspan class=\"displacy-tag\" dy=\"2em\" fill=\"currentColor\" x=\"575\">VERB</tspan>\n",
       "</text>\n",
       "\n",
       "<text class=\"displacy-token\" fill=\"currentColor\" text-anchor=\"middle\" y=\"222.0\">\n",
       "    <tspan class=\"displacy-word\" fill=\"currentColor\" x=\"750\">everybody</tspan>\n",
       "    <tspan class=\"displacy-tag\" dy=\"2em\" fill=\"currentColor\" x=\"750\">PRON</tspan>\n",
       "</text>\n",
       "\n",
       "<g class=\"displacy-arrow\">\n",
       "    <path class=\"displacy-arc\" id=\"arrow-bf03b0d8721a4f75ba3bfdb7321d12ff-0-0\" stroke-width=\"2px\" d=\"M70,177.0 C70,2.0 400.0,2.0 400.0,177.0\" fill=\"none\" stroke=\"currentColor\"/>\n",
       "    <text dy=\"1.25em\" style=\"font-size: 0.8em; letter-spacing: 1px\">\n",
       "        <textPath xlink:href=\"#arrow-bf03b0d8721a4f75ba3bfdb7321d12ff-0-0\" class=\"displacy-label\" startOffset=\"50%\" side=\"left\" fill=\"currentColor\" text-anchor=\"middle\">det</textPath>\n",
       "    </text>\n",
       "    <path class=\"displacy-arrowhead\" d=\"M70,179.0 L62,167.0 78,167.0\" fill=\"currentColor\"/>\n",
       "</g>\n",
       "\n",
       "<g class=\"displacy-arrow\">\n",
       "    <path class=\"displacy-arc\" id=\"arrow-bf03b0d8721a4f75ba3bfdb7321d12ff-0-1\" stroke-width=\"2px\" d=\"M245,177.0 C245,89.5 395.0,89.5 395.0,177.0\" fill=\"none\" stroke=\"currentColor\"/>\n",
       "    <text dy=\"1.25em\" style=\"font-size: 0.8em; letter-spacing: 1px\">\n",
       "        <textPath xlink:href=\"#arrow-bf03b0d8721a4f75ba3bfdb7321d12ff-0-1\" class=\"displacy-label\" startOffset=\"50%\" side=\"left\" fill=\"currentColor\" text-anchor=\"middle\">amod</textPath>\n",
       "    </text>\n",
       "    <path class=\"displacy-arrowhead\" d=\"M245,179.0 L237,167.0 253,167.0\" fill=\"currentColor\"/>\n",
       "</g>\n",
       "\n",
       "<g class=\"displacy-arrow\">\n",
       "    <path class=\"displacy-arc\" id=\"arrow-bf03b0d8721a4f75ba3bfdb7321d12ff-0-2\" stroke-width=\"2px\" d=\"M420,177.0 C420,89.5 570.0,89.5 570.0,177.0\" fill=\"none\" stroke=\"currentColor\"/>\n",
       "    <text dy=\"1.25em\" style=\"font-size: 0.8em; letter-spacing: 1px\">\n",
       "        <textPath xlink:href=\"#arrow-bf03b0d8721a4f75ba3bfdb7321d12ff-0-2\" class=\"displacy-label\" startOffset=\"50%\" side=\"left\" fill=\"currentColor\" text-anchor=\"middle\">nsubj</textPath>\n",
       "    </text>\n",
       "    <path class=\"displacy-arrowhead\" d=\"M420,179.0 L412,167.0 428,167.0\" fill=\"currentColor\"/>\n",
       "</g>\n",
       "\n",
       "<g class=\"displacy-arrow\">\n",
       "    <path class=\"displacy-arc\" id=\"arrow-bf03b0d8721a4f75ba3bfdb7321d12ff-0-3\" stroke-width=\"2px\" d=\"M595,177.0 C595,89.5 745.0,89.5 745.0,177.0\" fill=\"none\" stroke=\"currentColor\"/>\n",
       "    <text dy=\"1.25em\" style=\"font-size: 0.8em; letter-spacing: 1px\">\n",
       "        <textPath xlink:href=\"#arrow-bf03b0d8721a4f75ba3bfdb7321d12ff-0-3\" class=\"displacy-label\" startOffset=\"50%\" side=\"left\" fill=\"currentColor\" text-anchor=\"middle\">dobj</textPath>\n",
       "    </text>\n",
       "    <path class=\"displacy-arrowhead\" d=\"M745.0,179.0 L753.0,167.0 737.0,167.0\" fill=\"currentColor\"/>\n",
       "</g>\n",
       "</svg></span>"
      ],
      "text/plain": [
       "<IPython.core.display.HTML object>"
      ]
     },
     "metadata": {},
     "output_type": "display_data"
    },
    {
     "name": "stdout",
     "output_type": "stream",
     "text": [
      "Matching Sentence:  dog chased everybody\n",
      "Pattern Type:  SubRootObject\n",
      "Dependency: dog-nsubj\n",
      "Dependency: chased-ROOT\n",
      "Dependency: everybody-dobj\n"
     ]
    }
   ],
   "source": [
    "from spacy.matcher import Matcher\n",
    "import spacy\n",
    "from spacy import displacy\n",
    "\n",
    "nlp = spacy.load('en_core_web_sm')\n",
    "# Create a Matcher\n",
    "matcher = Matcher(nlp.vocab)\n",
    "\n",
    "# Define a pattern\n",
    "pattern1 = [{\"DEP\": \"nsubj\"}, {\"DEP\": \"ROOT\"}, {\"DEP\": \"dobj\"}]\n",
    "\n",
    "# Add the pattern to the Matcher with a unique name\n",
    "matcher.add(\"SubRootObject\", [pattern1])\n",
    "\n",
    "# Process the text with spaCy\n",
    "doc = nlp(\"The big dog chased everybody\")\n",
    "\n",
    "# Find matches using the Matcher\n",
    "matches = matcher(doc)\n",
    "\n",
    "# Visualize the dependency tree\n",
    "displacy.render(doc, style='dep')\n",
    "\n",
    "# Not needed, only for illustration\n",
    "for pattern_id, start, end in matches:\n",
    "    print(\"Matching Sentence: \", doc[start:end])\n",
    "    print(\"Pattern Type: \", doc.vocab.strings[pattern_id])\n",
    "    \n",
    "    for token in doc[start:end]:\n",
    "        print(\"Dependency: {}-{}\".format(token, token.dep_))\n"
   ]
  },
  {
   "cell_type": "markdown",
   "id": "7f809c5b-12f9-48ea-b6b5-2a4382803fec",
   "metadata": {},
   "source": [
    "## 1. What text and dependencies did the above code catch for the sentence “The big dog chased everybody”."
   ]
  },
  {
   "cell_type": "markdown",
   "id": "49faa9b4-a6f0-4069-8b47-4bcd93029906",
   "metadata": {},
   "source": [
    "### Answer:\n",
    "\n",
    "**Input Sentence:** \"The big dog chased everybody.\"\n",
    "\n",
    "**Dependencies Caught:**\n",
    "- **Matching Sentence:** The big dog chased everybody.\n",
    "- **Pattern Type:** SubRootObject\n",
    "- **Dependency Details:**\n",
    "  - Token 1 (nsubj): The - Dependency: det\n",
    "  - Token 2 (ROOT): chased - Dependency: ROOT\n",
    "  - Token 3 (dobj): everybody - Dependency: nsubj"
   ]
  },
  {
   "cell_type": "markdown",
   "id": "1325922f-b8fb-4146-8b62-248c27f670af",
   "metadata": {},
   "source": [
    "### 2. Change the sentence to “The big dog chased the cat”. Does the pattern catch the SVO pattern? If not, add another pattern2 to the matcher. The pattern should be DEP: nsubj, DEP: ROOT, DEP: det, DEP: dobj. When done, update matcher.add(\"SubRootDetObject\", [pattern2])\n",
    "\n",
    "#### Match Successfully!!!"
   ]
  },
  {
   "cell_type": "code",
   "execution_count": 3,
   "id": "43ba4e62-ba2d-4f51-a9ce-93ab41ca5c01",
   "metadata": {
    "tags": []
   },
   "outputs": [
    {
     "data": {
      "text/html": [
       "<span class=\"tex2jax_ignore\"><svg xmlns=\"http://www.w3.org/2000/svg\" xmlns:xlink=\"http://www.w3.org/1999/xlink\" xml:lang=\"en\" id=\"0fe3dc69c39b464dbb49a507dc274ad2-0\" class=\"displacy\" width=\"1100\" height=\"312.0\" direction=\"ltr\" style=\"max-width: none; height: 312.0px; color: #000000; background: #ffffff; font-family: Arial; direction: ltr\">\n",
       "<text class=\"displacy-token\" fill=\"currentColor\" text-anchor=\"middle\" y=\"222.0\">\n",
       "    <tspan class=\"displacy-word\" fill=\"currentColor\" x=\"50\">The</tspan>\n",
       "    <tspan class=\"displacy-tag\" dy=\"2em\" fill=\"currentColor\" x=\"50\">DET</tspan>\n",
       "</text>\n",
       "\n",
       "<text class=\"displacy-token\" fill=\"currentColor\" text-anchor=\"middle\" y=\"222.0\">\n",
       "    <tspan class=\"displacy-word\" fill=\"currentColor\" x=\"225\">big</tspan>\n",
       "    <tspan class=\"displacy-tag\" dy=\"2em\" fill=\"currentColor\" x=\"225\">ADJ</tspan>\n",
       "</text>\n",
       "\n",
       "<text class=\"displacy-token\" fill=\"currentColor\" text-anchor=\"middle\" y=\"222.0\">\n",
       "    <tspan class=\"displacy-word\" fill=\"currentColor\" x=\"400\">dog</tspan>\n",
       "    <tspan class=\"displacy-tag\" dy=\"2em\" fill=\"currentColor\" x=\"400\">NOUN</tspan>\n",
       "</text>\n",
       "\n",
       "<text class=\"displacy-token\" fill=\"currentColor\" text-anchor=\"middle\" y=\"222.0\">\n",
       "    <tspan class=\"displacy-word\" fill=\"currentColor\" x=\"575\">chased</tspan>\n",
       "    <tspan class=\"displacy-tag\" dy=\"2em\" fill=\"currentColor\" x=\"575\">VERB</tspan>\n",
       "</text>\n",
       "\n",
       "<text class=\"displacy-token\" fill=\"currentColor\" text-anchor=\"middle\" y=\"222.0\">\n",
       "    <tspan class=\"displacy-word\" fill=\"currentColor\" x=\"750\">the</tspan>\n",
       "    <tspan class=\"displacy-tag\" dy=\"2em\" fill=\"currentColor\" x=\"750\">DET</tspan>\n",
       "</text>\n",
       "\n",
       "<text class=\"displacy-token\" fill=\"currentColor\" text-anchor=\"middle\" y=\"222.0\">\n",
       "    <tspan class=\"displacy-word\" fill=\"currentColor\" x=\"925\">cat</tspan>\n",
       "    <tspan class=\"displacy-tag\" dy=\"2em\" fill=\"currentColor\" x=\"925\">NOUN</tspan>\n",
       "</text>\n",
       "\n",
       "<g class=\"displacy-arrow\">\n",
       "    <path class=\"displacy-arc\" id=\"arrow-0fe3dc69c39b464dbb49a507dc274ad2-0-0\" stroke-width=\"2px\" d=\"M70,177.0 C70,2.0 400.0,2.0 400.0,177.0\" fill=\"none\" stroke=\"currentColor\"/>\n",
       "    <text dy=\"1.25em\" style=\"font-size: 0.8em; letter-spacing: 1px\">\n",
       "        <textPath xlink:href=\"#arrow-0fe3dc69c39b464dbb49a507dc274ad2-0-0\" class=\"displacy-label\" startOffset=\"50%\" side=\"left\" fill=\"currentColor\" text-anchor=\"middle\">det</textPath>\n",
       "    </text>\n",
       "    <path class=\"displacy-arrowhead\" d=\"M70,179.0 L62,167.0 78,167.0\" fill=\"currentColor\"/>\n",
       "</g>\n",
       "\n",
       "<g class=\"displacy-arrow\">\n",
       "    <path class=\"displacy-arc\" id=\"arrow-0fe3dc69c39b464dbb49a507dc274ad2-0-1\" stroke-width=\"2px\" d=\"M245,177.0 C245,89.5 395.0,89.5 395.0,177.0\" fill=\"none\" stroke=\"currentColor\"/>\n",
       "    <text dy=\"1.25em\" style=\"font-size: 0.8em; letter-spacing: 1px\">\n",
       "        <textPath xlink:href=\"#arrow-0fe3dc69c39b464dbb49a507dc274ad2-0-1\" class=\"displacy-label\" startOffset=\"50%\" side=\"left\" fill=\"currentColor\" text-anchor=\"middle\">amod</textPath>\n",
       "    </text>\n",
       "    <path class=\"displacy-arrowhead\" d=\"M245,179.0 L237,167.0 253,167.0\" fill=\"currentColor\"/>\n",
       "</g>\n",
       "\n",
       "<g class=\"displacy-arrow\">\n",
       "    <path class=\"displacy-arc\" id=\"arrow-0fe3dc69c39b464dbb49a507dc274ad2-0-2\" stroke-width=\"2px\" d=\"M420,177.0 C420,89.5 570.0,89.5 570.0,177.0\" fill=\"none\" stroke=\"currentColor\"/>\n",
       "    <text dy=\"1.25em\" style=\"font-size: 0.8em; letter-spacing: 1px\">\n",
       "        <textPath xlink:href=\"#arrow-0fe3dc69c39b464dbb49a507dc274ad2-0-2\" class=\"displacy-label\" startOffset=\"50%\" side=\"left\" fill=\"currentColor\" text-anchor=\"middle\">nsubj</textPath>\n",
       "    </text>\n",
       "    <path class=\"displacy-arrowhead\" d=\"M420,179.0 L412,167.0 428,167.0\" fill=\"currentColor\"/>\n",
       "</g>\n",
       "\n",
       "<g class=\"displacy-arrow\">\n",
       "    <path class=\"displacy-arc\" id=\"arrow-0fe3dc69c39b464dbb49a507dc274ad2-0-3\" stroke-width=\"2px\" d=\"M770,177.0 C770,89.5 920.0,89.5 920.0,177.0\" fill=\"none\" stroke=\"currentColor\"/>\n",
       "    <text dy=\"1.25em\" style=\"font-size: 0.8em; letter-spacing: 1px\">\n",
       "        <textPath xlink:href=\"#arrow-0fe3dc69c39b464dbb49a507dc274ad2-0-3\" class=\"displacy-label\" startOffset=\"50%\" side=\"left\" fill=\"currentColor\" text-anchor=\"middle\">det</textPath>\n",
       "    </text>\n",
       "    <path class=\"displacy-arrowhead\" d=\"M770,179.0 L762,167.0 778,167.0\" fill=\"currentColor\"/>\n",
       "</g>\n",
       "\n",
       "<g class=\"displacy-arrow\">\n",
       "    <path class=\"displacy-arc\" id=\"arrow-0fe3dc69c39b464dbb49a507dc274ad2-0-4\" stroke-width=\"2px\" d=\"M595,177.0 C595,2.0 925.0,2.0 925.0,177.0\" fill=\"none\" stroke=\"currentColor\"/>\n",
       "    <text dy=\"1.25em\" style=\"font-size: 0.8em; letter-spacing: 1px\">\n",
       "        <textPath xlink:href=\"#arrow-0fe3dc69c39b464dbb49a507dc274ad2-0-4\" class=\"displacy-label\" startOffset=\"50%\" side=\"left\" fill=\"currentColor\" text-anchor=\"middle\">dobj</textPath>\n",
       "    </text>\n",
       "    <path class=\"displacy-arrowhead\" d=\"M925.0,179.0 L933.0,167.0 917.0,167.0\" fill=\"currentColor\"/>\n",
       "</g>\n",
       "</svg></span>"
      ],
      "text/plain": [
       "<IPython.core.display.HTML object>"
      ]
     },
     "metadata": {},
     "output_type": "display_data"
    },
    {
     "name": "stdout",
     "output_type": "stream",
     "text": [
      "Token: The, Dependency: det\n",
      "Token: big, Dependency: amod\n",
      "Token: dog, Dependency: nsubj\n",
      "Token: chased, Dependency: ROOT\n",
      "Token: the, Dependency: det\n",
      "Token: cat, Dependency: dobj\n"
     ]
    }
   ],
   "source": [
    "from spacy.matcher import Matcher\n",
    "from spacy import displacy\n",
    "\n",
    "# Create a Matcher\n",
    "matcher = Matcher(nlp.vocab)\n",
    "\n",
    "# Define a pattern\n",
    "pattern1 = [{\"DEP\": \"nsubj\"}, {\"DEP\": \"ROOT\"}, {\"DEP\": \"dobj\"}]\n",
    "\n",
    "# Add the pattern to the Matcher with a unique name\n",
    "matcher.add(\"SubRootObject\", [pattern1])\n",
    "\n",
    "# Process the text with spaCy\n",
    "doc = nlp(\"The big dog chased the cat\")\n",
    "\n",
    "# Find matches using the Matcher\n",
    "matches = matcher(doc)\n",
    "\n",
    "# Visualize the dependency tree\n",
    "displacy.render(doc, style='dep')\n",
    "\n",
    "# Not needed, only for illustration\n",
    "for pattern_id, start, end in matches:\n",
    "    print(\"Matching Sentence: \", doc[start:end])\n",
    "    print(\"Pattern Type: \", doc.vocab.strings[pattern_id])\n",
    "\n",
    "# Separate printing to avoid mixing with visualization\n",
    "for token in doc:\n",
    "    print(\"Token: {}, Dependency: {}\".format(token.text, token.dep_))\n"
   ]
  },
  {
   "cell_type": "code",
   "execution_count": 4,
   "id": "a813e3f1-27ce-4474-9059-4ae8d5160c83",
   "metadata": {
    "tags": []
   },
   "outputs": [
    {
     "data": {
      "text/html": [
       "<span class=\"tex2jax_ignore\"><svg xmlns=\"http://www.w3.org/2000/svg\" xmlns:xlink=\"http://www.w3.org/1999/xlink\" xml:lang=\"en\" id=\"bdbf615a9e0f4324906b05d5ba6d8e18-0\" class=\"displacy\" width=\"1275\" height=\"399.5\" direction=\"ltr\" style=\"max-width: none; height: 399.5px; color: #000000; background: #ffffff; font-family: Arial; direction: ltr\">\n",
       "<text class=\"displacy-token\" fill=\"currentColor\" text-anchor=\"middle\" y=\"309.5\">\n",
       "    <tspan class=\"displacy-word\" fill=\"currentColor\" x=\"50\">The</tspan>\n",
       "    <tspan class=\"displacy-tag\" dy=\"2em\" fill=\"currentColor\" x=\"50\">DET</tspan>\n",
       "</text>\n",
       "\n",
       "<text class=\"displacy-token\" fill=\"currentColor\" text-anchor=\"middle\" y=\"309.5\">\n",
       "    <tspan class=\"displacy-word\" fill=\"currentColor\" x=\"225\">big</tspan>\n",
       "    <tspan class=\"displacy-tag\" dy=\"2em\" fill=\"currentColor\" x=\"225\">ADJ</tspan>\n",
       "</text>\n",
       "\n",
       "<text class=\"displacy-token\" fill=\"currentColor\" text-anchor=\"middle\" y=\"309.5\">\n",
       "    <tspan class=\"displacy-word\" fill=\"currentColor\" x=\"400\">dog</tspan>\n",
       "    <tspan class=\"displacy-tag\" dy=\"2em\" fill=\"currentColor\" x=\"400\">NOUN</tspan>\n",
       "</text>\n",
       "\n",
       "<text class=\"displacy-token\" fill=\"currentColor\" text-anchor=\"middle\" y=\"309.5\">\n",
       "    <tspan class=\"displacy-word\" fill=\"currentColor\" x=\"575\">chased</tspan>\n",
       "    <tspan class=\"displacy-tag\" dy=\"2em\" fill=\"currentColor\" x=\"575\">VERB</tspan>\n",
       "</text>\n",
       "\n",
       "<text class=\"displacy-token\" fill=\"currentColor\" text-anchor=\"middle\" y=\"309.5\">\n",
       "    <tspan class=\"displacy-word\" fill=\"currentColor\" x=\"750\">the</tspan>\n",
       "    <tspan class=\"displacy-tag\" dy=\"2em\" fill=\"currentColor\" x=\"750\">DET</tspan>\n",
       "</text>\n",
       "\n",
       "<text class=\"displacy-token\" fill=\"currentColor\" text-anchor=\"middle\" y=\"309.5\">\n",
       "    <tspan class=\"displacy-word\" fill=\"currentColor\" x=\"925\">small</tspan>\n",
       "    <tspan class=\"displacy-tag\" dy=\"2em\" fill=\"currentColor\" x=\"925\">ADJ</tspan>\n",
       "</text>\n",
       "\n",
       "<text class=\"displacy-token\" fill=\"currentColor\" text-anchor=\"middle\" y=\"309.5\">\n",
       "    <tspan class=\"displacy-word\" fill=\"currentColor\" x=\"1100\">cat</tspan>\n",
       "    <tspan class=\"displacy-tag\" dy=\"2em\" fill=\"currentColor\" x=\"1100\">NOUN</tspan>\n",
       "</text>\n",
       "\n",
       "<g class=\"displacy-arrow\">\n",
       "    <path class=\"displacy-arc\" id=\"arrow-bdbf615a9e0f4324906b05d5ba6d8e18-0-0\" stroke-width=\"2px\" d=\"M70,264.5 C70,89.5 395.0,89.5 395.0,264.5\" fill=\"none\" stroke=\"currentColor\"/>\n",
       "    <text dy=\"1.25em\" style=\"font-size: 0.8em; letter-spacing: 1px\">\n",
       "        <textPath xlink:href=\"#arrow-bdbf615a9e0f4324906b05d5ba6d8e18-0-0\" class=\"displacy-label\" startOffset=\"50%\" side=\"left\" fill=\"currentColor\" text-anchor=\"middle\">det</textPath>\n",
       "    </text>\n",
       "    <path class=\"displacy-arrowhead\" d=\"M70,266.5 L62,254.5 78,254.5\" fill=\"currentColor\"/>\n",
       "</g>\n",
       "\n",
       "<g class=\"displacy-arrow\">\n",
       "    <path class=\"displacy-arc\" id=\"arrow-bdbf615a9e0f4324906b05d5ba6d8e18-0-1\" stroke-width=\"2px\" d=\"M245,264.5 C245,177.0 390.0,177.0 390.0,264.5\" fill=\"none\" stroke=\"currentColor\"/>\n",
       "    <text dy=\"1.25em\" style=\"font-size: 0.8em; letter-spacing: 1px\">\n",
       "        <textPath xlink:href=\"#arrow-bdbf615a9e0f4324906b05d5ba6d8e18-0-1\" class=\"displacy-label\" startOffset=\"50%\" side=\"left\" fill=\"currentColor\" text-anchor=\"middle\">amod</textPath>\n",
       "    </text>\n",
       "    <path class=\"displacy-arrowhead\" d=\"M245,266.5 L237,254.5 253,254.5\" fill=\"currentColor\"/>\n",
       "</g>\n",
       "\n",
       "<g class=\"displacy-arrow\">\n",
       "    <path class=\"displacy-arc\" id=\"arrow-bdbf615a9e0f4324906b05d5ba6d8e18-0-2\" stroke-width=\"2px\" d=\"M420,264.5 C420,177.0 565.0,177.0 565.0,264.5\" fill=\"none\" stroke=\"currentColor\"/>\n",
       "    <text dy=\"1.25em\" style=\"font-size: 0.8em; letter-spacing: 1px\">\n",
       "        <textPath xlink:href=\"#arrow-bdbf615a9e0f4324906b05d5ba6d8e18-0-2\" class=\"displacy-label\" startOffset=\"50%\" side=\"left\" fill=\"currentColor\" text-anchor=\"middle\">nsubj</textPath>\n",
       "    </text>\n",
       "    <path class=\"displacy-arrowhead\" d=\"M420,266.5 L412,254.5 428,254.5\" fill=\"currentColor\"/>\n",
       "</g>\n",
       "\n",
       "<g class=\"displacy-arrow\">\n",
       "    <path class=\"displacy-arc\" id=\"arrow-bdbf615a9e0f4324906b05d5ba6d8e18-0-3\" stroke-width=\"2px\" d=\"M770,264.5 C770,89.5 1095.0,89.5 1095.0,264.5\" fill=\"none\" stroke=\"currentColor\"/>\n",
       "    <text dy=\"1.25em\" style=\"font-size: 0.8em; letter-spacing: 1px\">\n",
       "        <textPath xlink:href=\"#arrow-bdbf615a9e0f4324906b05d5ba6d8e18-0-3\" class=\"displacy-label\" startOffset=\"50%\" side=\"left\" fill=\"currentColor\" text-anchor=\"middle\">det</textPath>\n",
       "    </text>\n",
       "    <path class=\"displacy-arrowhead\" d=\"M770,266.5 L762,254.5 778,254.5\" fill=\"currentColor\"/>\n",
       "</g>\n",
       "\n",
       "<g class=\"displacy-arrow\">\n",
       "    <path class=\"displacy-arc\" id=\"arrow-bdbf615a9e0f4324906b05d5ba6d8e18-0-4\" stroke-width=\"2px\" d=\"M945,264.5 C945,177.0 1090.0,177.0 1090.0,264.5\" fill=\"none\" stroke=\"currentColor\"/>\n",
       "    <text dy=\"1.25em\" style=\"font-size: 0.8em; letter-spacing: 1px\">\n",
       "        <textPath xlink:href=\"#arrow-bdbf615a9e0f4324906b05d5ba6d8e18-0-4\" class=\"displacy-label\" startOffset=\"50%\" side=\"left\" fill=\"currentColor\" text-anchor=\"middle\">amod</textPath>\n",
       "    </text>\n",
       "    <path class=\"displacy-arrowhead\" d=\"M945,266.5 L937,254.5 953,254.5\" fill=\"currentColor\"/>\n",
       "</g>\n",
       "\n",
       "<g class=\"displacy-arrow\">\n",
       "    <path class=\"displacy-arc\" id=\"arrow-bdbf615a9e0f4324906b05d5ba6d8e18-0-5\" stroke-width=\"2px\" d=\"M595,264.5 C595,2.0 1100.0,2.0 1100.0,264.5\" fill=\"none\" stroke=\"currentColor\"/>\n",
       "    <text dy=\"1.25em\" style=\"font-size: 0.8em; letter-spacing: 1px\">\n",
       "        <textPath xlink:href=\"#arrow-bdbf615a9e0f4324906b05d5ba6d8e18-0-5\" class=\"displacy-label\" startOffset=\"50%\" side=\"left\" fill=\"currentColor\" text-anchor=\"middle\">dobj</textPath>\n",
       "    </text>\n",
       "    <path class=\"displacy-arrowhead\" d=\"M1100.0,266.5 L1108.0,254.5 1092.0,254.5\" fill=\"currentColor\"/>\n",
       "</g>\n",
       "</svg></span>"
      ],
      "text/plain": [
       "<IPython.core.display.HTML object>"
      ]
     },
     "metadata": {},
     "output_type": "display_data"
    },
    {
     "name": "stdout",
     "output_type": "stream",
     "text": [
      "Token: The, Dependency: det\n",
      "Token: big, Dependency: amod\n",
      "Token: dog, Dependency: nsubj\n",
      "Token: chased, Dependency: ROOT\n",
      "Token: the, Dependency: det\n",
      "Token: small, Dependency: amod\n",
      "Token: cat, Dependency: dobj\n"
     ]
    }
   ],
   "source": [
    "from spacy.matcher import Matcher\n",
    "from spacy import displacy\n",
    "\n",
    "# Load the spaCy model\n",
    "nlp = spacy.load(\"en_core_web_sm\")\n",
    "\n",
    "# Create a Matcher\n",
    "matcher = Matcher(nlp.vocab)\n",
    "\n",
    "# Define the existing pattern\n",
    "pattern1 = [{\"DEP\": \"nsubj\"}, {\"DEP\": \"ROOT\"}, {\"DEP\": \"dobj\"}]\n",
    "\n",
    "# Add the existing pattern to the Matcher\n",
    "matcher.add(\"SubRootObject\", [pattern1])\n",
    "\n",
    "# Define the third pattern\n",
    "pattern3 = [{\"DEP\": \"amod\", \"OP\": \"*\"}, {\"DEP\": \"nsubj\"}, {\"DEP\": \"ROOT\"}, {\"DEP\": \"amod\", \"OP\": \"*\"}, {\"DEP\": \"dobj\"}]\n",
    "\n",
    "# Add the third pattern to the Matcher\n",
    "matcher.add(\"SubRootObjectWithAdjectives\", [pattern3])\n",
    "\n",
    "# Process the text with spaCy\n",
    "doc = nlp(\"The big dog chased the small cat\")\n",
    "\n",
    "# Find matches using the Matcher\n",
    "matches = matcher(doc)\n",
    "\n",
    "# Visualize the dependency tree\n",
    "displacy.render(doc, style=\"dep\")\n",
    "\n",
    "# Not needed, only for illustration\n",
    "for pattern_id, start, end in matches:\n",
    "    print(\"Matching Sentence: \", doc[start:end])\n",
    "    print(\"Pattern Type: \", doc.vocab.strings[pattern_id])\n",
    "\n",
    "# Separate printing to avoid mixing with visualization\n",
    "for token in doc:\n",
    "    print(\"Token: {}, Dependency: {}\".format(token.text, token.dep_))\n"
   ]
  },
  {
   "cell_type": "markdown",
   "id": "9b8043e9-316c-4122-bc4c-c00143a2c8dd",
   "metadata": {},
   "source": [
    "## 1. Design a pattern to identify a noun at least one time:"
   ]
  },
  {
   "cell_type": "code",
   "execution_count": 5,
   "id": "a2d898ff-f809-40e4-8d9b-017ef9383949",
   "metadata": {
    "tags": []
   },
   "outputs": [
    {
     "name": "stdout",
     "output_type": "stream",
     "text": [
      "Matching Sentence:  sentence\n",
      "Matching Sentence:  noun\n"
     ]
    }
   ],
   "source": [
    "# Create a Matcher\n",
    "matcher = Matcher(nlp.vocab)\n",
    "\n",
    "# Define a pattern to identify at least one noun\n",
    "pattern_one_noun = [{\"POS\": \"NOUN\"}]\n",
    "\n",
    "# Add the pattern to the Matcher with a unique name\n",
    "matcher.add(\"OneNoun\", [pattern_one_noun])\n",
    "\n",
    "# Process the text with spaCy\n",
    "doc = nlp(\"This is an example sentence with at least one noun.\")\n",
    "\n",
    "# Find matches using the Matcher\n",
    "matches = matcher(doc)\n",
    "\n",
    "# Print matching tokens\n",
    "for pattern_id, start, end in matches:\n",
    "    print(\"Matching Sentence: \", doc[start:end])\n"
   ]
  },
  {
   "cell_type": "markdown",
   "id": "47497dcc-447a-49ae-98fe-ca69258febd6",
   "metadata": {},
   "source": [
    "## 2. Design a pattern to identify a noun of length >= 10 characters:"
   ]
  },
  {
   "cell_type": "code",
   "execution_count": 6,
   "id": "3fe70b1b-d799-4cd7-aef6-fa8f6a2fb799",
   "metadata": {
    "tags": []
   },
   "outputs": [
    {
     "name": "stdout",
     "output_type": "stream",
     "text": [
      "Matching Sentence:  verylongnoun\n",
      "Matching Sentence:  characters\n"
     ]
    }
   ],
   "source": [
    "# Create a Matcher\n",
    "matcher = Matcher(nlp.vocab)\n",
    "\n",
    "# Define a pattern to identify a noun of length >= 10 characters\n",
    "pattern_long_noun = [{\"POS\": \"NOUN\", \"LENGTH\": {\">=\": 10}}]\n",
    "\n",
    "# Add the pattern to the Matcher with a unique name\n",
    "matcher.add(\"LongNoun\", [pattern_long_noun])\n",
    "\n",
    "# Process the text with spaCy\n",
    "doc = nlp(\"This is a sentence with a verylongnoun that has more than 10 characters.\")\n",
    "\n",
    "# Find matches using the Matcher\n",
    "matches = matcher(doc)\n",
    "\n",
    "# Print matching tokens\n",
    "for pattern_id, start, end in matches:\n",
    "    print(\"Matching Sentence: \", doc[start:end])\n"
   ]
  },
  {
   "cell_type": "markdown",
   "id": "f66f4e56-3e28-49bf-8a65-f4ce90306485",
   "metadata": {},
   "source": [
    "## 3. Design a pattern to identify vulgar language (using NOT_IN):"
   ]
  },
  {
   "cell_type": "code",
   "execution_count": 7,
   "id": "42fb0d33-a5e7-40ea-af8c-d8723a3dc831",
   "metadata": {
    "tags": []
   },
   "outputs": [
    {
     "name": "stdout",
     "output_type": "stream",
     "text": [
      "Vulgar Language Detected:  vulgarword2\n"
     ]
    }
   ],
   "source": [
    "import spacy\n",
    "from spacy.matcher import Matcher\n",
    "\n",
    "# Load the spaCy model\n",
    "nlp = spacy.load(\"en_core_web_sm\")\n",
    "\n",
    "# Define a list of vulgar words\n",
    "vulgar_words = [\"vulgarword1\", \"vulgarword2\"]\n",
    "\n",
    "# Custom callback function to handle matches\n",
    "def handle_vulgar_word(matcher, doc, i, matches):\n",
    "    match_id, start, end = matches[i]\n",
    "    # Do something with the match (in this case, print the sentence)\n",
    "    print(\"Vulgar Language Detected: \", doc[start:end])\n",
    "\n",
    "# Create a Matcher and add the pattern with the custom callback\n",
    "matcher = Matcher(nlp.vocab)\n",
    "matcher.add(\"VULGAR_WORD\", [[{\"LOWER\": {\"IN\": vulgar_words}}]], on_match=handle_vulgar_word)\n",
    "\n",
    "# Process the text with spaCy\n",
    "doc = nlp(\"This sentence may contain vulgerword1 or vulgarword2.\")\n",
    "\n",
    "# Find matches using the Matcher\n",
    "matches = matcher(doc)\n"
   ]
  },
  {
   "cell_type": "markdown",
   "id": "c009f4f6-8868-460d-a08a-390046f69ba7",
   "metadata": {},
   "source": [
    "## Task 6: Getting Replies"
   ]
  },
  {
   "cell_type": "code",
   "execution_count": 8,
   "id": "e4bca294-c214-412b-8ba3-9773ef417372",
   "metadata": {
    "tags": []
   },
   "outputs": [],
   "source": [
    "import spacy\n",
    "from spacy.matcher import Matcher\n",
    "\n",
    "def utterance(msg):\n",
    "    nlp = spacy.load('en_core_web_sm')\n",
    "    doc = nlp(msg)\n",
    "    matcher = Matcher(nlp.vocab)\n",
    "    pattern1 = [{\"LEMMA\": {\"IN\": [\"salam\", \"assalam\", \"hi\", \"hello\"]}}]\n",
    "    matcher.add(\"greeting\", [pattern1])\n",
    "    matches = matcher(doc)\n",
    "    \n",
    "    if len(matches) == 0:\n",
    "        print('Please rephrase your request. Be as specific as possible!')\n",
    "        return\n",
    "    \n",
    "    for pattern_id, start, end in matches:\n",
    "        if doc.vocab.strings[pattern_id] == \"greeting\":\n",
    "            print(\"Welcome to Pizza ordering system\")\n",
    "            return"
   ]
  },
  {
   "cell_type": "code",
   "execution_count": 9,
   "id": "643f8e89-8147-4a63-9b12-066916e11b9a",
   "metadata": {
    "tags": []
   },
   "outputs": [
    {
     "name": "stdout",
     "output_type": "stream",
     "text": [
      "Welcome to Pizza ordering system\n"
     ]
    }
   ],
   "source": [
    "msg = nlp(\"Hi\")\n",
    "utterance(msg)"
   ]
  },
  {
   "cell_type": "code",
   "execution_count": 10,
   "id": "9a411313-1589-4284-a6cf-b0d7bdc95044",
   "metadata": {
    "tags": []
   },
   "outputs": [],
   "source": [
    "# while True:\n",
    "    # message = input(\"You: \")\n",
    "    # if message.lower() == \"quit\":\n",
    "        # break\n",
    "    # else:\n",
    "        # print(\"Bot:\", utterance(nlp(message)))"
   ]
  },
  {
   "cell_type": "markdown",
   "id": "f8d9330d-50c8-4bfc-9c28-922f7340877a",
   "metadata": {},
   "source": [
    "### 1. Extend the code by adding pattern and matches if a user enters: “I would like to order a pizza”. The bot should ask about which pizza type he/she wants."
   ]
  },
  {
   "cell_type": "code",
   "execution_count": 11,
   "id": "cb972842-7b3e-4e77-bba9-36487afce7c4",
   "metadata": {
    "tags": []
   },
   "outputs": [
    {
     "name": "stdout",
     "output_type": "stream",
     "text": [
      "Welcome to Pizza ordering system\n",
      "Sure! What type of pizza would you like to order?\n"
     ]
    }
   ],
   "source": [
    "import spacy\n",
    "from spacy.matcher import Matcher\n",
    "\n",
    "def utterance(msg):\n",
    "    nlp = spacy.load('en_core_web_sm')\n",
    "    doc = nlp(msg)\n",
    "    matcher = Matcher(nlp.vocab)\n",
    "\n",
    "    # Pattern for greetings\n",
    "    pattern_greeting = [{\"LEMMA\": {\"IN\": [\"salam\", \"assalam\", \"hi\", \"hello\"]}}]\n",
    "\n",
    "    # Pattern for pizza order\n",
    "    pattern_order_pizza = [{\"LEMMA\": \"I\"}, {\"LEMMA\": \"would\"}, {\"LEMMA\": \"like\"}, {\"LEMMA\": \"to\"},\n",
    "                           {\"LEMMA\": \"order\"}, {\"LEMMA\": \"a\"}, {\"LEMMA\": \"pizza\"}]\n",
    "\n",
    "    matcher.add(\"greeting\", [pattern_greeting])\n",
    "    matcher.add(\"order_pizza\", [pattern_order_pizza])\n",
    "\n",
    "    matches = matcher(doc)\n",
    "\n",
    "    if len(matches) == 0:\n",
    "        print('Please rephrase your request. Be as specific as possible!')\n",
    "        return\n",
    "\n",
    "    for pattern_id, start, end in matches:\n",
    "        if doc.vocab.strings[pattern_id] == \"greeting\":\n",
    "            print(\"Welcome to Pizza ordering system\")\n",
    "        elif doc.vocab.strings[pattern_id] == \"order_pizza\":\n",
    "            print(\"Sure! What type of pizza would you like to order?\")\n",
    "            # Add logic here to handle user's response about pizza type\n",
    "\n",
    "utterance(\"Hi, I would like to order a pizza.\")\n"
   ]
  },
  {
   "cell_type": "markdown",
   "id": "6568ebee-c747-4291-9a66-0ff753b85eaf",
   "metadata": {},
   "source": [
    "## 2. Extend the code by adding pattern and matches if a user enters: “I would like to complain about an order”."
   ]
  },
  {
   "cell_type": "code",
   "execution_count": 12,
   "id": "d82bdecf-4d48-4fad-bfec-58553bff7f51",
   "metadata": {
    "tags": []
   },
   "outputs": [
    {
     "name": "stdout",
     "output_type": "stream",
     "text": [
      "I'm sorry to hear that. Please provide details about your complaint.\n"
     ]
    }
   ],
   "source": [
    "import spacy\n",
    "from spacy.matcher import Matcher\n",
    "\n",
    "def utterance(msg):\n",
    "    nlp = spacy.load('en_core_web_sm')\n",
    "    doc = nlp(msg)\n",
    "    matcher = Matcher(nlp.vocab)\n",
    "\n",
    "    # Pattern for greetings\n",
    "    pattern_greeting = [{\"LEMMA\": {\"IN\": [\"salam\", \"assalam\", \"hi\", \"hello\"]}}]\n",
    "\n",
    "    # Pattern for pizza order\n",
    "    pattern_order_pizza = [{\"LEMMA\": \"I\"}, {\"LEMMA\": \"would\"}, {\"LEMMA\": \"like\"}, {\"LEMMA\": \"to\"},\n",
    "                           {\"LEMMA\": \"order\"}, {\"LEMMA\": \"a\"}, {\"LEMMA\": \"pizza\"}]\n",
    "\n",
    "    # Pattern for order complaint\n",
    "    pattern_complaint = [{\"LEMMA\": \"I\"}, {\"LEMMA\": \"would\"}, {\"LEMMA\": \"like\"}, {\"LEMMA\": \"to\"},\n",
    "                         {\"LEMMA\": \"complain\"}, {\"LEMMA\": \"about\"}, {\"LEMMA\": \"an\"}, {\"LEMMA\": \"order\"}]\n",
    "\n",
    "    matcher.add(\"greeting\", [pattern_greeting])\n",
    "    matcher.add(\"order_pizza\", [pattern_order_pizza])\n",
    "    matcher.add(\"complaint\", [pattern_complaint])\n",
    "\n",
    "    matches = matcher(doc)\n",
    "\n",
    "    if len(matches) == 0:\n",
    "        print('Please rephrase your request. Be as specific as possible!')\n",
    "        return\n",
    "\n",
    "    for pattern_id, start, end in matches:\n",
    "        if doc.vocab.strings[pattern_id] == \"greeting\":\n",
    "            print(\"Welcome to Pizza ordering system\")\n",
    "        elif doc.vocab.strings[pattern_id] == \"order_pizza\":\n",
    "            print(\"Sure! What type of pizza would you like to order?\")\n",
    "            # Add logic here to handle user's response about pizza type\n",
    "        elif doc.vocab.strings[pattern_id] == \"complaint\":\n",
    "            print(\"I'm sorry to hear that. Please provide details about your complaint.\")\n",
    "            # Add logic here to handle user's complaint\n",
    "\n",
    "# Example usage\n",
    "utterance(\"I would like to complain about an order.\")\n"
   ]
  },
  {
   "cell_type": "markdown",
   "id": "d61f2193-8be5-4b94-b6d5-e9e12df4a480",
   "metadata": {
    "tags": []
   },
   "source": [
    "### 3. In respone to what pizza type user wants, the user may want to enter “Chief Special Pizza”. Use the .lefts (mentioned in Lab 03) to get the pizza type. Ask about quantity. Use Cardinal as ent type to get the quantity, and place the order. Ask for address, and confirm the user with address."
   ]
  },
  {
   "cell_type": "code",
   "execution_count": 13,
   "id": "796cfdf1-4499-41b0-88be-2f39e81158e2",
   "metadata": {
    "tags": []
   },
   "outputs": [
    {
     "name": "stdout",
     "output_type": "stream",
     "text": [
      "Welcome to Pizza ordering system\n",
      "Sure! How many Pizza pizzas would you like to order?\n",
      "I'm sorry, but I couldn't determine the quantity. Please provide a numeric quantity.\n"
     ]
    }
   ],
   "source": [
    "import spacy\n",
    "from spacy.matcher import Matcher\n",
    "\n",
    "def process_order(doc):\n",
    "    # Find the pizza type\n",
    "    pizza_type = None\n",
    "    for token in doc:\n",
    "        if token.dep_ == \"dobj\" and token.pos_ == \"PROPN\":\n",
    "            pizza_type = token.text\n",
    "            break\n",
    "\n",
    "    if pizza_type:\n",
    "        # Ask about quantity\n",
    "        print(f\"Sure! How many {pizza_type} pizzas would you like to order?\")\n",
    "\n",
    "        # Use Cardinal as ent type to get the quantity\n",
    "        quantity = None\n",
    "        for ent in doc.ents:\n",
    "            if ent.label_ == 'CARDINAL':\n",
    "                quantity = ent.text\n",
    "\n",
    "        if quantity:\n",
    "            print(f\"Great! I'll place an order for {quantity} {pizza_type} pizzas.\")\n",
    "\n",
    "            # Ask for address\n",
    "            print(\"Could you please provide your delivery address?\")\n",
    "\n",
    "            # Confirm the user with the address\n",
    "            address = input()  # Assume the user provides the address as input\n",
    "            print(f\"Thank you! Your order for {quantity} {pizza_type} pizzas will be delivered to {address}.\")\n",
    "        else:\n",
    "            print(\"I'm sorry, but I couldn't determine the quantity. Please provide a numeric quantity.\")\n",
    "    else:\n",
    "        print(\"I'm sorry, but I couldn't determine the pizza type. Please be more specific.\")\n",
    "\n",
    "def utterance(msg):\n",
    "    nlp = spacy.load('en_core_web_sm')\n",
    "    doc = nlp(msg)\n",
    "    matcher = Matcher(nlp.vocab)\n",
    "\n",
    "    # Pattern for greetings\n",
    "    pattern_greeting = [{\"LEMMA\": {\"IN\": [\"salam\", \"assalam\", \"hi\", \"hello\"]}}]\n",
    "\n",
    "    # Pattern for pizza order\n",
    "    pattern_order_pizza = [{\"LEMMA\": \"I\"}, {\"LEMMA\": \"would\"}, {\"LEMMA\": \"like\"}, {\"LEMMA\": \"to\"},\n",
    "                           {\"LEMMA\": \"order\"}, {\"LEMMA\": {\"IN\": [\"a\", \"an\"]}}, {\"LEMMA\": \"Chief\"},\n",
    "                           {\"LEMMA\": \"Special\"}, {\"LEMMA\": \"Pizza\"}]\n",
    "\n",
    "    matcher.add(\"greeting\", [pattern_greeting])\n",
    "    matcher.add(\"order_pizza\", [pattern_order_pizza])\n",
    "\n",
    "    matches = matcher(doc)\n",
    "\n",
    "    if len(matches) == 0:\n",
    "        print('Please rephrase your request. Be as specific as possible!')\n",
    "        return\n",
    "\n",
    "    for pattern_id, start, end in matches:\n",
    "        if doc.vocab.strings[pattern_id] == \"greeting\":\n",
    "            print(\"Welcome to Pizza ordering system\")\n",
    "        elif doc.vocab.strings[pattern_id] == \"order_pizza\":\n",
    "            process_order(doc)\n",
    "\n",
    "# Example usage\n",
    "utterance(\"Hi, I would like to order a Chief Special Pizza.\")\n"
   ]
  }
 ],
 "metadata": {
  "kernelspec": {
   "display_name": "spaCy",
   "language": "python",
   "name": "spacy"
  },
  "language_info": {
   "codemirror_mode": {
    "name": "ipython",
    "version": 3
   },
   "file_extension": ".py",
   "mimetype": "text/x-python",
   "name": "python",
   "nbconvert_exporter": "python",
   "pygments_lexer": "ipython3",
   "version": "3.11.5"
  }
 },
 "nbformat": 4,
 "nbformat_minor": 5
}
