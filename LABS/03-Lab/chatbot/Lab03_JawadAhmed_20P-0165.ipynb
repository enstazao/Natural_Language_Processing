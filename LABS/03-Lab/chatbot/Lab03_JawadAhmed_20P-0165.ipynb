{
 "cells": [
  {
   "cell_type": "markdown",
   "id": "e192de34-1373-4fa2-8ed8-b7565700ba6c",
   "metadata": {
    "tags": []
   },
   "source": [
    "## Task 1: Spacy Installation"
   ]
  },
  {
   "cell_type": "markdown",
   "id": "ccd0be54-05a7-4d49-9d4b-8d99c87845bf",
   "metadata": {
    "tags": []
   },
   "source": [
    "## Task 2: spaCy Hello World"
   ]
  },
  {
   "cell_type": "code",
   "execution_count": 1,
   "id": "7a9a5b4e-e563-4b32-a499-57610cf303ca",
   "metadata": {
    "tags": []
   },
   "outputs": [
    {
     "name": "stdout",
     "output_type": "stream",
     "text": [
      "Hello World! \n"
     ]
    }
   ],
   "source": [
    "\n",
    "from spacy.tokens.doc import Doc\n",
    "\n",
    "from spacy.vocab import Vocab\n",
    "\n",
    "doc = Doc(Vocab(), words = [u'Hello', u'World!'])\n",
    "print(doc)"
   ]
  },
  {
   "cell_type": "code",
   "execution_count": 4,
   "id": "4cc278d2-0a9c-4aba-bef4-872df3faf867",
   "metadata": {
    "tags": []
   },
   "outputs": [
    {
     "name": "stdout",
     "output_type": "stream",
     "text": [
      "<class 'spacy.tokens.doc.Doc'>\n",
      "<spacy.vocab.Vocab object at 0x7f1f6031a7a0>\n",
      "Hello\n",
      "World!\n"
     ]
    }
   ],
   "source": [
    "print(type(doc))\n",
    "print(doc.vocab)\n",
    "for token in doc:\n",
    "    lexeme = doc.vocab[token.text]\n",
    "    print(lexeme.text)"
   ]
  },
  {
   "cell_type": "markdown",
   "id": "18a1f961-3fce-4222-b77f-041d0bbb6782",
   "metadata": {},
   "source": [
    "# Questions:\n",
    "\n",
    "## 1. The `Vocab()` object belongs to which class?\n",
    "\n",
    "**Belongs to Class:**\n",
    "- The `Vocab()` object belongs to the `spacy.vocab.Vocab` class.\n",
    "\n",
    "**Purpose:**\n",
    "- Serves as a memory-efficient container.\n",
    "- Manages the vocabulary of the language model.\n",
    "- Facilitates quick access to word representations.\n",
    "\n",
    "---\n",
    "\n",
    "## 2. What is a lexeme object (You need to check the API)?\n",
    "\n",
    "**Definition:**\n",
    "- The Lexeme object allows access to properties and features associated with individual words.\n",
    "\n",
    "**Purpose:**\n",
    "- Provides a foundation for linguistic analysis.\n",
    "- Essential for various natural language processing tasks.\n",
    "\n",
    "**API Check:**\n",
    "- The Lexeme object is an instance of the `spacy.lexeme.Lexeme` class.\n"
   ]
  },
  {
   "cell_type": "code",
   "execution_count": 5,
   "id": "7313168f-5cdb-4e1c-84c0-d54a7d9c2eda",
   "metadata": {
    "tags": []
   },
   "outputs": [
    {
     "name": "stdout",
     "output_type": "stream",
     "text": [
      "['I', 'want', 'to', 'learn', 'spacy']\n",
      "['I', 'want', 'to', 'learn', 'spacy']\n"
     ]
    }
   ],
   "source": [
    "import spacy\n",
    "\n",
    "nlp = spacy.load('en_core_web_sm')\n",
    "\n",
    "doc = nlp(u'I want to learn spacy')\n",
    "\n",
    "token_text1 = [token.text for token in doc]\n",
    "\n",
    "token_text2 = [doc[i].text for i in range(len(doc))]\n",
    "\n",
    "print(token_text1)\n",
    "\n",
    "print(token_text2)"
   ]
  },
  {
   "cell_type": "markdown",
   "id": "5df5e4f0-0306-427e-b75d-b17e303f9039",
   "metadata": {
    "tags": []
   },
   "source": [
    "# Questions:\n",
    "\n",
    "## 1. What is `en_core_web_sm`?\n",
    "\n",
    "**Answer:** `en_core_web_sm` is a pre-trained English language model in Spacy. It belongs to the \"web\" models and offers various functions for performing natural language tasks.\n",
    "\n",
    "---\n",
    "\n",
    "## 2. What is the size of `en_core_web_sm`?\n",
    "\n",
    "**Answer:** `en_core_web_sm` is an English multi-task CNN (Convolutional Neural Network) model trained on OntoNotes, and its size is approximately 11 MB.\n",
    "\n",
    "---\n",
    "\n",
    "## 3. What other variations can be used?\n",
    "\n",
    "- **en_core_web_md:**\n",
    "  - A medium-sized English model with word vectors. It includes more features and is larger than `en_core_web_sm`.\n",
    "\n",
    "- **en_core_web_lg:**\n",
    "  - A large-sized English model with word vectors. It is the largest among the English models provided by Spacy and includes even more features.\n",
    "\n",
    "- **Specialized Models:**\n",
    "  - Spacy offers models trained for specific tasks, such as `en_core_web_trf`, which is a transformer-based model. Transformer-based models may provide improved performance in certain scenarios.\n"
   ]
  },
  {
   "cell_type": "code",
   "execution_count": 6,
   "id": "50a2c077-397f-405c-bf67-a0060c56e4a6",
   "metadata": {
    "tags": []
   },
   "outputs": [
    {
     "name": "stdout",
     "output_type": "stream",
     "text": [
      "[]\n",
      "[I]\n",
      "[]\n",
      "[to]\n",
      "[]\n",
      "[]\n"
     ]
    }
   ],
   "source": [
    "doc = nlp(u'I want to learn spaCy.')\n",
    "for i in range(len(doc)):\n",
    "    print([t for t in doc[i].lefts])"
   ]
  },
  {
   "cell_type": "code",
   "execution_count": 8,
   "id": "d161e763-c395-484b-a806-e623317ac0f6",
   "metadata": {
    "tags": []
   },
   "outputs": [
    {
     "name": "stdout",
     "output_type": "stream",
     "text": [
      "[]\n",
      "[]\n",
      "[learn, .]\n",
      "[I, learn, .]\n",
      "[]\n",
      "[]\n",
      "[spaCy]\n",
      "[to, spaCy]\n",
      "[]\n",
      "[]\n",
      "[]\n",
      "[]\n"
     ]
    }
   ],
   "source": [
    "doc = nlp(u'I want to learn spaCy.')\n",
    "for i in range(len(doc)):\n",
    "    print([t for t in doc[i].rights])\n",
    "    print([t for t in doc[i].children])"
   ]
  },
  {
   "cell_type": "code",
   "execution_count": 9,
   "id": "749b5961-d771-4a13-a374-b2869c6eb18c",
   "metadata": {
    "tags": []
   },
   "outputs": [],
   "source": [
    "from spacy import displacy"
   ]
  },
  {
   "cell_type": "code",
   "execution_count": 10,
   "id": "bb51b5dd-cab7-4215-847a-dd5eba4ed1d7",
   "metadata": {
    "tags": []
   },
   "outputs": [
    {
     "data": {
      "text/html": [
       "<span class=\"tex2jax_ignore\"><svg xmlns=\"http://www.w3.org/2000/svg\" xmlns:xlink=\"http://www.w3.org/1999/xlink\" xml:lang=\"en\" id=\"6d1dfa9e11134e8ca11511d0040fb578-0\" class=\"displacy\" width=\"925\" height=\"312.0\" direction=\"ltr\" style=\"max-width: none; height: 312.0px; color: #000000; background: #ffffff; font-family: Arial; direction: ltr\">\n",
       "<text class=\"displacy-token\" fill=\"currentColor\" text-anchor=\"middle\" y=\"222.0\">\n",
       "    <tspan class=\"displacy-word\" fill=\"currentColor\" x=\"50\">I</tspan>\n",
       "    <tspan class=\"displacy-tag\" dy=\"2em\" fill=\"currentColor\" x=\"50\">PRON</tspan>\n",
       "</text>\n",
       "\n",
       "<text class=\"displacy-token\" fill=\"currentColor\" text-anchor=\"middle\" y=\"222.0\">\n",
       "    <tspan class=\"displacy-word\" fill=\"currentColor\" x=\"225\">want</tspan>\n",
       "    <tspan class=\"displacy-tag\" dy=\"2em\" fill=\"currentColor\" x=\"225\">VERB</tspan>\n",
       "</text>\n",
       "\n",
       "<text class=\"displacy-token\" fill=\"currentColor\" text-anchor=\"middle\" y=\"222.0\">\n",
       "    <tspan class=\"displacy-word\" fill=\"currentColor\" x=\"400\">to</tspan>\n",
       "    <tspan class=\"displacy-tag\" dy=\"2em\" fill=\"currentColor\" x=\"400\">PART</tspan>\n",
       "</text>\n",
       "\n",
       "<text class=\"displacy-token\" fill=\"currentColor\" text-anchor=\"middle\" y=\"222.0\">\n",
       "    <tspan class=\"displacy-word\" fill=\"currentColor\" x=\"575\">learn</tspan>\n",
       "    <tspan class=\"displacy-tag\" dy=\"2em\" fill=\"currentColor\" x=\"575\">VERB</tspan>\n",
       "</text>\n",
       "\n",
       "<text class=\"displacy-token\" fill=\"currentColor\" text-anchor=\"middle\" y=\"222.0\">\n",
       "    <tspan class=\"displacy-word\" fill=\"currentColor\" x=\"750\">spaCy.</tspan>\n",
       "    <tspan class=\"displacy-tag\" dy=\"2em\" fill=\"currentColor\" x=\"750\">ADJ</tspan>\n",
       "</text>\n",
       "\n",
       "<g class=\"displacy-arrow\">\n",
       "    <path class=\"displacy-arc\" id=\"arrow-6d1dfa9e11134e8ca11511d0040fb578-0-0\" stroke-width=\"2px\" d=\"M70,177.0 C70,89.5 220.0,89.5 220.0,177.0\" fill=\"none\" stroke=\"currentColor\"/>\n",
       "    <text dy=\"1.25em\" style=\"font-size: 0.8em; letter-spacing: 1px\">\n",
       "        <textPath xlink:href=\"#arrow-6d1dfa9e11134e8ca11511d0040fb578-0-0\" class=\"displacy-label\" startOffset=\"50%\" side=\"left\" fill=\"currentColor\" text-anchor=\"middle\">nsubj</textPath>\n",
       "    </text>\n",
       "    <path class=\"displacy-arrowhead\" d=\"M70,179.0 L62,167.0 78,167.0\" fill=\"currentColor\"/>\n",
       "</g>\n",
       "\n",
       "<g class=\"displacy-arrow\">\n",
       "    <path class=\"displacy-arc\" id=\"arrow-6d1dfa9e11134e8ca11511d0040fb578-0-1\" stroke-width=\"2px\" d=\"M420,177.0 C420,89.5 570.0,89.5 570.0,177.0\" fill=\"none\" stroke=\"currentColor\"/>\n",
       "    <text dy=\"1.25em\" style=\"font-size: 0.8em; letter-spacing: 1px\">\n",
       "        <textPath xlink:href=\"#arrow-6d1dfa9e11134e8ca11511d0040fb578-0-1\" class=\"displacy-label\" startOffset=\"50%\" side=\"left\" fill=\"currentColor\" text-anchor=\"middle\">aux</textPath>\n",
       "    </text>\n",
       "    <path class=\"displacy-arrowhead\" d=\"M420,179.0 L412,167.0 428,167.0\" fill=\"currentColor\"/>\n",
       "</g>\n",
       "\n",
       "<g class=\"displacy-arrow\">\n",
       "    <path class=\"displacy-arc\" id=\"arrow-6d1dfa9e11134e8ca11511d0040fb578-0-2\" stroke-width=\"2px\" d=\"M245,177.0 C245,2.0 575.0,2.0 575.0,177.0\" fill=\"none\" stroke=\"currentColor\"/>\n",
       "    <text dy=\"1.25em\" style=\"font-size: 0.8em; letter-spacing: 1px\">\n",
       "        <textPath xlink:href=\"#arrow-6d1dfa9e11134e8ca11511d0040fb578-0-2\" class=\"displacy-label\" startOffset=\"50%\" side=\"left\" fill=\"currentColor\" text-anchor=\"middle\">xcomp</textPath>\n",
       "    </text>\n",
       "    <path class=\"displacy-arrowhead\" d=\"M575.0,179.0 L583.0,167.0 567.0,167.0\" fill=\"currentColor\"/>\n",
       "</g>\n",
       "\n",
       "<g class=\"displacy-arrow\">\n",
       "    <path class=\"displacy-arc\" id=\"arrow-6d1dfa9e11134e8ca11511d0040fb578-0-3\" stroke-width=\"2px\" d=\"M595,177.0 C595,89.5 745.0,89.5 745.0,177.0\" fill=\"none\" stroke=\"currentColor\"/>\n",
       "    <text dy=\"1.25em\" style=\"font-size: 0.8em; letter-spacing: 1px\">\n",
       "        <textPath xlink:href=\"#arrow-6d1dfa9e11134e8ca11511d0040fb578-0-3\" class=\"displacy-label\" startOffset=\"50%\" side=\"left\" fill=\"currentColor\" text-anchor=\"middle\">dobj</textPath>\n",
       "    </text>\n",
       "    <path class=\"displacy-arrowhead\" d=\"M745.0,179.0 L753.0,167.0 737.0,167.0\" fill=\"currentColor\"/>\n",
       "</g>\n",
       "</svg></span>"
      ],
      "text/plain": [
       "<IPython.core.display.HTML object>"
      ]
     },
     "metadata": {},
     "output_type": "display_data"
    }
   ],
   "source": [
    "displacy.render(doc, style='dep')"
   ]
  },
  {
   "cell_type": "markdown",
   "id": "9a3761b8-a172-451a-bd94-72204f5b25dd",
   "metadata": {},
   "source": [
    "# Questions\n",
    "## 1. Draw the left and right dependencies for the sentence: I want to learn spaCy."
   ]
  },
  {
   "cell_type": "code",
   "execution_count": 11,
   "id": "dee47099-8688-4a3e-b6df-16445bc7afcd",
   "metadata": {
    "tags": []
   },
   "outputs": [
    {
     "data": {
      "text/html": [
       "<span class=\"tex2jax_ignore\"><svg xmlns=\"http://www.w3.org/2000/svg\" xmlns:xlink=\"http://www.w3.org/1999/xlink\" xml:lang=\"en\" id=\"36429c407fae486caf5d0678a97aa34a-0\" class=\"displacy\" width=\"550\" height=\"237.0\" direction=\"ltr\" style=\"max-width: none; height: 237.0px; color: #000000; background: #ffffff; font-family: Arial; direction: ltr\">\n",
       "<text class=\"displacy-token\" fill=\"currentColor\" text-anchor=\"middle\" y=\"147.0\">\n",
       "    <tspan class=\"displacy-word\" fill=\"currentColor\" x=\"50\">I</tspan>\n",
       "    <tspan class=\"displacy-tag\" dy=\"2em\" fill=\"currentColor\" x=\"50\">PRON</tspan>\n",
       "</text>\n",
       "\n",
       "<text class=\"displacy-token\" fill=\"currentColor\" text-anchor=\"middle\" y=\"147.0\">\n",
       "    <tspan class=\"displacy-word\" fill=\"currentColor\" x=\"150\">want</tspan>\n",
       "    <tspan class=\"displacy-tag\" dy=\"2em\" fill=\"currentColor\" x=\"150\">VERB</tspan>\n",
       "</text>\n",
       "\n",
       "<text class=\"displacy-token\" fill=\"currentColor\" text-anchor=\"middle\" y=\"147.0\">\n",
       "    <tspan class=\"displacy-word\" fill=\"currentColor\" x=\"250\">to</tspan>\n",
       "    <tspan class=\"displacy-tag\" dy=\"2em\" fill=\"currentColor\" x=\"250\">PART</tspan>\n",
       "</text>\n",
       "\n",
       "<text class=\"displacy-token\" fill=\"currentColor\" text-anchor=\"middle\" y=\"147.0\">\n",
       "    <tspan class=\"displacy-word\" fill=\"currentColor\" x=\"350\">learn</tspan>\n",
       "    <tspan class=\"displacy-tag\" dy=\"2em\" fill=\"currentColor\" x=\"350\">VERB</tspan>\n",
       "</text>\n",
       "\n",
       "<text class=\"displacy-token\" fill=\"currentColor\" text-anchor=\"middle\" y=\"147.0\">\n",
       "    <tspan class=\"displacy-word\" fill=\"currentColor\" x=\"450\">spaCy.</tspan>\n",
       "    <tspan class=\"displacy-tag\" dy=\"2em\" fill=\"currentColor\" x=\"450\">ADJ</tspan>\n",
       "</text>\n",
       "\n",
       "<g class=\"displacy-arrow\">\n",
       "    <path class=\"displacy-arc\" id=\"arrow-36429c407fae486caf5d0678a97aa34a-0-0\" stroke-width=\"2px\" d=\"M62,102.0 62,85.33333333333333 147.0,85.33333333333333 147.0,102.0\" fill=\"none\" stroke=\"currentColor\"/>\n",
       "    <text dy=\"1.25em\" style=\"font-size: 0.8em; letter-spacing: 1px\">\n",
       "        <textPath xlink:href=\"#arrow-36429c407fae486caf5d0678a97aa34a-0-0\" class=\"displacy-label\" startOffset=\"50%\" side=\"left\" fill=\"currentColor\" text-anchor=\"middle\">nsubj</textPath>\n",
       "    </text>\n",
       "    <path class=\"displacy-arrowhead\" d=\"M62,104.0 L58,96.0 66,96.0\" fill=\"currentColor\"/>\n",
       "</g>\n",
       "\n",
       "<g class=\"displacy-arrow\">\n",
       "    <path class=\"displacy-arc\" id=\"arrow-36429c407fae486caf5d0678a97aa34a-0-1\" stroke-width=\"2px\" d=\"M262,102.0 262,85.33333333333333 347.0,85.33333333333333 347.0,102.0\" fill=\"none\" stroke=\"currentColor\"/>\n",
       "    <text dy=\"1.25em\" style=\"font-size: 0.8em; letter-spacing: 1px\">\n",
       "        <textPath xlink:href=\"#arrow-36429c407fae486caf5d0678a97aa34a-0-1\" class=\"displacy-label\" startOffset=\"50%\" side=\"left\" fill=\"currentColor\" text-anchor=\"middle\">aux</textPath>\n",
       "    </text>\n",
       "    <path class=\"displacy-arrowhead\" d=\"M262,104.0 L258,96.0 266,96.0\" fill=\"currentColor\"/>\n",
       "</g>\n",
       "\n",
       "<g class=\"displacy-arrow\">\n",
       "    <path class=\"displacy-arc\" id=\"arrow-36429c407fae486caf5d0678a97aa34a-0-2\" stroke-width=\"2px\" d=\"M162,102.0 162,68.66666666666666 350.0,68.66666666666666 350.0,102.0\" fill=\"none\" stroke=\"currentColor\"/>\n",
       "    <text dy=\"1.25em\" style=\"font-size: 0.8em; letter-spacing: 1px\">\n",
       "        <textPath xlink:href=\"#arrow-36429c407fae486caf5d0678a97aa34a-0-2\" class=\"displacy-label\" startOffset=\"50%\" side=\"left\" fill=\"currentColor\" text-anchor=\"middle\">xcomp</textPath>\n",
       "    </text>\n",
       "    <path class=\"displacy-arrowhead\" d=\"M350.0,104.0 L354.0,96.0 346.0,96.0\" fill=\"currentColor\"/>\n",
       "</g>\n",
       "\n",
       "<g class=\"displacy-arrow\">\n",
       "    <path class=\"displacy-arc\" id=\"arrow-36429c407fae486caf5d0678a97aa34a-0-3\" stroke-width=\"2px\" d=\"M362,102.0 362,85.33333333333333 447.0,85.33333333333333 447.0,102.0\" fill=\"none\" stroke=\"currentColor\"/>\n",
       "    <text dy=\"1.25em\" style=\"font-size: 0.8em; letter-spacing: 1px\">\n",
       "        <textPath xlink:href=\"#arrow-36429c407fae486caf5d0678a97aa34a-0-3\" class=\"displacy-label\" startOffset=\"50%\" side=\"left\" fill=\"currentColor\" text-anchor=\"middle\">dobj</textPath>\n",
       "    </text>\n",
       "    <path class=\"displacy-arrowhead\" d=\"M447.0,104.0 L451.0,96.0 443.0,96.0\" fill=\"currentColor\"/>\n",
       "</g>\n",
       "</svg></span>"
      ],
      "text/plain": [
       "<IPython.core.display.HTML object>"
      ]
     },
     "metadata": {},
     "output_type": "display_data"
    }
   ],
   "source": [
    "# Draw left and right dependencies\n",
    "displacy.render(doc, style='dep', options={'distance': 100, 'compact': True}, jupyter=True)"
   ]
  },
  {
   "cell_type": "markdown",
   "id": "b0d3a973-0844-4cd1-bf8f-5400b221d5fb",
   "metadata": {},
   "source": [
    "## 2. Draw the children for the sentence: I want to learn spaCy."
   ]
  },
  {
   "cell_type": "code",
   "execution_count": 12,
   "id": "d1a57de7-f89b-4974-9cbe-3774836bc513",
   "metadata": {
    "tags": []
   },
   "outputs": [
    {
     "data": {
      "text/html": [
       "<span class=\"tex2jax_ignore\"><svg xmlns=\"http://www.w3.org/2000/svg\" xmlns:xlink=\"http://www.w3.org/1999/xlink\" xml:lang=\"en\" id=\"2ce773b81bc843829b6d43d43faa0125-0\" class=\"displacy\" width=\"550\" height=\"237.0\" direction=\"ltr\" style=\"max-width: none; height: 237.0px; color: #000000; background: #ffffff; font-family: Arial; direction: ltr\">\n",
       "<text class=\"displacy-token\" fill=\"currentColor\" text-anchor=\"middle\" y=\"147.0\">\n",
       "    <tspan class=\"displacy-word\" fill=\"currentColor\" x=\"50\">I</tspan>\n",
       "    <tspan class=\"displacy-tag\" dy=\"2em\" fill=\"currentColor\" x=\"50\">PRON</tspan>\n",
       "</text>\n",
       "\n",
       "<text class=\"displacy-token\" fill=\"currentColor\" text-anchor=\"middle\" y=\"147.0\">\n",
       "    <tspan class=\"displacy-word\" fill=\"currentColor\" x=\"150\">want</tspan>\n",
       "    <tspan class=\"displacy-tag\" dy=\"2em\" fill=\"currentColor\" x=\"150\">VERB</tspan>\n",
       "</text>\n",
       "\n",
       "<text class=\"displacy-token\" fill=\"currentColor\" text-anchor=\"middle\" y=\"147.0\">\n",
       "    <tspan class=\"displacy-word\" fill=\"currentColor\" x=\"250\">to</tspan>\n",
       "    <tspan class=\"displacy-tag\" dy=\"2em\" fill=\"currentColor\" x=\"250\">PART</tspan>\n",
       "</text>\n",
       "\n",
       "<text class=\"displacy-token\" fill=\"currentColor\" text-anchor=\"middle\" y=\"147.0\">\n",
       "    <tspan class=\"displacy-word\" fill=\"currentColor\" x=\"350\">learn</tspan>\n",
       "    <tspan class=\"displacy-tag\" dy=\"2em\" fill=\"currentColor\" x=\"350\">VERB</tspan>\n",
       "</text>\n",
       "\n",
       "<text class=\"displacy-token\" fill=\"currentColor\" text-anchor=\"middle\" y=\"147.0\">\n",
       "    <tspan class=\"displacy-word\" fill=\"currentColor\" x=\"450\">spaCy.</tspan>\n",
       "    <tspan class=\"displacy-tag\" dy=\"2em\" fill=\"currentColor\" x=\"450\">ADJ</tspan>\n",
       "</text>\n",
       "\n",
       "<g class=\"displacy-arrow\">\n",
       "    <path class=\"displacy-arc\" id=\"arrow-2ce773b81bc843829b6d43d43faa0125-0-0\" stroke-width=\"2px\" d=\"M62,102.0 62,85.33333333333333 147.0,85.33333333333333 147.0,102.0\" fill=\"none\" stroke=\"currentColor\"/>\n",
       "    <text dy=\"1.25em\" style=\"font-size: 0.8em; letter-spacing: 1px\">\n",
       "        <textPath xlink:href=\"#arrow-2ce773b81bc843829b6d43d43faa0125-0-0\" class=\"displacy-label\" startOffset=\"50%\" side=\"left\" fill=\"currentColor\" text-anchor=\"middle\">nsubj</textPath>\n",
       "    </text>\n",
       "    <path class=\"displacy-arrowhead\" d=\"M62,104.0 L58,96.0 66,96.0\" fill=\"currentColor\"/>\n",
       "</g>\n",
       "\n",
       "<g class=\"displacy-arrow\">\n",
       "    <path class=\"displacy-arc\" id=\"arrow-2ce773b81bc843829b6d43d43faa0125-0-1\" stroke-width=\"2px\" d=\"M262,102.0 262,85.33333333333333 347.0,85.33333333333333 347.0,102.0\" fill=\"none\" stroke=\"currentColor\"/>\n",
       "    <text dy=\"1.25em\" style=\"font-size: 0.8em; letter-spacing: 1px\">\n",
       "        <textPath xlink:href=\"#arrow-2ce773b81bc843829b6d43d43faa0125-0-1\" class=\"displacy-label\" startOffset=\"50%\" side=\"left\" fill=\"currentColor\" text-anchor=\"middle\">aux</textPath>\n",
       "    </text>\n",
       "    <path class=\"displacy-arrowhead\" d=\"M262,104.0 L258,96.0 266,96.0\" fill=\"currentColor\"/>\n",
       "</g>\n",
       "\n",
       "<g class=\"displacy-arrow\">\n",
       "    <path class=\"displacy-arc\" id=\"arrow-2ce773b81bc843829b6d43d43faa0125-0-2\" stroke-width=\"2px\" d=\"M162,102.0 162,68.66666666666666 350.0,68.66666666666666 350.0,102.0\" fill=\"none\" stroke=\"currentColor\"/>\n",
       "    <text dy=\"1.25em\" style=\"font-size: 0.8em; letter-spacing: 1px\">\n",
       "        <textPath xlink:href=\"#arrow-2ce773b81bc843829b6d43d43faa0125-0-2\" class=\"displacy-label\" startOffset=\"50%\" side=\"left\" fill=\"currentColor\" text-anchor=\"middle\">xcomp</textPath>\n",
       "    </text>\n",
       "    <path class=\"displacy-arrowhead\" d=\"M350.0,104.0 L354.0,96.0 346.0,96.0\" fill=\"currentColor\"/>\n",
       "</g>\n",
       "\n",
       "<g class=\"displacy-arrow\">\n",
       "    <path class=\"displacy-arc\" id=\"arrow-2ce773b81bc843829b6d43d43faa0125-0-3\" stroke-width=\"2px\" d=\"M362,102.0 362,85.33333333333333 447.0,85.33333333333333 447.0,102.0\" fill=\"none\" stroke=\"currentColor\"/>\n",
       "    <text dy=\"1.25em\" style=\"font-size: 0.8em; letter-spacing: 1px\">\n",
       "        <textPath xlink:href=\"#arrow-2ce773b81bc843829b6d43d43faa0125-0-3\" class=\"displacy-label\" startOffset=\"50%\" side=\"left\" fill=\"currentColor\" text-anchor=\"middle\">dobj</textPath>\n",
       "    </text>\n",
       "    <path class=\"displacy-arrowhead\" d=\"M447.0,104.0 L451.0,96.0 443.0,96.0\" fill=\"currentColor\"/>\n",
       "</g>\n",
       "</svg></span>"
      ],
      "text/plain": [
       "<IPython.core.display.HTML object>"
      ]
     },
     "metadata": {},
     "output_type": "display_data"
    }
   ],
   "source": [
    "# Draw children\n",
    "displacy.render(doc, style='dep', options={'distance': 100, 'compact': True, 'mode': 'dep'}, jupyter=True)\n"
   ]
  },
  {
   "cell_type": "markdown",
   "id": "21b6299d-1c65-48bd-b3ba-b63e413d5458",
   "metadata": {},
   "source": [
    "## 3. Draw the left and right dependencies for the sentence: I would very much want to eat a hot dinner."
   ]
  },
  {
   "cell_type": "code",
   "execution_count": 13,
   "id": "420aed3c-14d7-4b37-a417-154512d9f210",
   "metadata": {
    "tags": []
   },
   "outputs": [
    {
     "data": {
      "text/html": [
       "<span class=\"tex2jax_ignore\"><svg xmlns=\"http://www.w3.org/2000/svg\" xmlns:xlink=\"http://www.w3.org/1999/xlink\" xml:lang=\"en\" id=\"244d1e6a2b054a319495590402967c05-0\" class=\"displacy\" width=\"1050\" height=\"287.0\" direction=\"ltr\" style=\"max-width: none; height: 287.0px; color: #000000; background: #ffffff; font-family: Arial; direction: ltr\">\n",
       "<text class=\"displacy-token\" fill=\"currentColor\" text-anchor=\"middle\" y=\"197.0\">\n",
       "    <tspan class=\"displacy-word\" fill=\"currentColor\" x=\"50\">I</tspan>\n",
       "    <tspan class=\"displacy-tag\" dy=\"2em\" fill=\"currentColor\" x=\"50\">PRON</tspan>\n",
       "</text>\n",
       "\n",
       "<text class=\"displacy-token\" fill=\"currentColor\" text-anchor=\"middle\" y=\"197.0\">\n",
       "    <tspan class=\"displacy-word\" fill=\"currentColor\" x=\"150\">would</tspan>\n",
       "    <tspan class=\"displacy-tag\" dy=\"2em\" fill=\"currentColor\" x=\"150\">AUX</tspan>\n",
       "</text>\n",
       "\n",
       "<text class=\"displacy-token\" fill=\"currentColor\" text-anchor=\"middle\" y=\"197.0\">\n",
       "    <tspan class=\"displacy-word\" fill=\"currentColor\" x=\"250\">very</tspan>\n",
       "    <tspan class=\"displacy-tag\" dy=\"2em\" fill=\"currentColor\" x=\"250\">ADV</tspan>\n",
       "</text>\n",
       "\n",
       "<text class=\"displacy-token\" fill=\"currentColor\" text-anchor=\"middle\" y=\"197.0\">\n",
       "    <tspan class=\"displacy-word\" fill=\"currentColor\" x=\"350\">much</tspan>\n",
       "    <tspan class=\"displacy-tag\" dy=\"2em\" fill=\"currentColor\" x=\"350\">ADV</tspan>\n",
       "</text>\n",
       "\n",
       "<text class=\"displacy-token\" fill=\"currentColor\" text-anchor=\"middle\" y=\"197.0\">\n",
       "    <tspan class=\"displacy-word\" fill=\"currentColor\" x=\"450\">want</tspan>\n",
       "    <tspan class=\"displacy-tag\" dy=\"2em\" fill=\"currentColor\" x=\"450\">VERB</tspan>\n",
       "</text>\n",
       "\n",
       "<text class=\"displacy-token\" fill=\"currentColor\" text-anchor=\"middle\" y=\"197.0\">\n",
       "    <tspan class=\"displacy-word\" fill=\"currentColor\" x=\"550\">to</tspan>\n",
       "    <tspan class=\"displacy-tag\" dy=\"2em\" fill=\"currentColor\" x=\"550\">PART</tspan>\n",
       "</text>\n",
       "\n",
       "<text class=\"displacy-token\" fill=\"currentColor\" text-anchor=\"middle\" y=\"197.0\">\n",
       "    <tspan class=\"displacy-word\" fill=\"currentColor\" x=\"650\">eat</tspan>\n",
       "    <tspan class=\"displacy-tag\" dy=\"2em\" fill=\"currentColor\" x=\"650\">VERB</tspan>\n",
       "</text>\n",
       "\n",
       "<text class=\"displacy-token\" fill=\"currentColor\" text-anchor=\"middle\" y=\"197.0\">\n",
       "    <tspan class=\"displacy-word\" fill=\"currentColor\" x=\"750\">a</tspan>\n",
       "    <tspan class=\"displacy-tag\" dy=\"2em\" fill=\"currentColor\" x=\"750\">DET</tspan>\n",
       "</text>\n",
       "\n",
       "<text class=\"displacy-token\" fill=\"currentColor\" text-anchor=\"middle\" y=\"197.0\">\n",
       "    <tspan class=\"displacy-word\" fill=\"currentColor\" x=\"850\">hot</tspan>\n",
       "    <tspan class=\"displacy-tag\" dy=\"2em\" fill=\"currentColor\" x=\"850\">ADJ</tspan>\n",
       "</text>\n",
       "\n",
       "<text class=\"displacy-token\" fill=\"currentColor\" text-anchor=\"middle\" y=\"197.0\">\n",
       "    <tspan class=\"displacy-word\" fill=\"currentColor\" x=\"950\">dinner.</tspan>\n",
       "    <tspan class=\"displacy-tag\" dy=\"2em\" fill=\"currentColor\" x=\"950\">NOUN</tspan>\n",
       "</text>\n",
       "\n",
       "<g class=\"displacy-arrow\">\n",
       "    <path class=\"displacy-arc\" id=\"arrow-244d1e6a2b054a319495590402967c05-0-0\" stroke-width=\"2px\" d=\"M62,152.0 62,102.0 450.0,102.0 450.0,152.0\" fill=\"none\" stroke=\"currentColor\"/>\n",
       "    <text dy=\"1.25em\" style=\"font-size: 0.8em; letter-spacing: 1px\">\n",
       "        <textPath xlink:href=\"#arrow-244d1e6a2b054a319495590402967c05-0-0\" class=\"displacy-label\" startOffset=\"50%\" side=\"left\" fill=\"currentColor\" text-anchor=\"middle\">nsubj</textPath>\n",
       "    </text>\n",
       "    <path class=\"displacy-arrowhead\" d=\"M62,154.0 L58,146.0 66,146.0\" fill=\"currentColor\"/>\n",
       "</g>\n",
       "\n",
       "<g class=\"displacy-arrow\">\n",
       "    <path class=\"displacy-arc\" id=\"arrow-244d1e6a2b054a319495590402967c05-0-1\" stroke-width=\"2px\" d=\"M162,152.0 162,118.66666666666666 447.0,118.66666666666666 447.0,152.0\" fill=\"none\" stroke=\"currentColor\"/>\n",
       "    <text dy=\"1.25em\" style=\"font-size: 0.8em; letter-spacing: 1px\">\n",
       "        <textPath xlink:href=\"#arrow-244d1e6a2b054a319495590402967c05-0-1\" class=\"displacy-label\" startOffset=\"50%\" side=\"left\" fill=\"currentColor\" text-anchor=\"middle\">aux</textPath>\n",
       "    </text>\n",
       "    <path class=\"displacy-arrowhead\" d=\"M162,154.0 L158,146.0 166,146.0\" fill=\"currentColor\"/>\n",
       "</g>\n",
       "\n",
       "<g class=\"displacy-arrow\">\n",
       "    <path class=\"displacy-arc\" id=\"arrow-244d1e6a2b054a319495590402967c05-0-2\" stroke-width=\"2px\" d=\"M262,152.0 262,135.33333333333334 344.0,135.33333333333334 344.0,152.0\" fill=\"none\" stroke=\"currentColor\"/>\n",
       "    <text dy=\"1.25em\" style=\"font-size: 0.8em; letter-spacing: 1px\">\n",
       "        <textPath xlink:href=\"#arrow-244d1e6a2b054a319495590402967c05-0-2\" class=\"displacy-label\" startOffset=\"50%\" side=\"left\" fill=\"currentColor\" text-anchor=\"middle\">advmod</textPath>\n",
       "    </text>\n",
       "    <path class=\"displacy-arrowhead\" d=\"M262,154.0 L258,146.0 266,146.0\" fill=\"currentColor\"/>\n",
       "</g>\n",
       "\n",
       "<g class=\"displacy-arrow\">\n",
       "    <path class=\"displacy-arc\" id=\"arrow-244d1e6a2b054a319495590402967c05-0-3\" stroke-width=\"2px\" d=\"M362,152.0 362,135.33333333333334 444.0,135.33333333333334 444.0,152.0\" fill=\"none\" stroke=\"currentColor\"/>\n",
       "    <text dy=\"1.25em\" style=\"font-size: 0.8em; letter-spacing: 1px\">\n",
       "        <textPath xlink:href=\"#arrow-244d1e6a2b054a319495590402967c05-0-3\" class=\"displacy-label\" startOffset=\"50%\" side=\"left\" fill=\"currentColor\" text-anchor=\"middle\">advmod</textPath>\n",
       "    </text>\n",
       "    <path class=\"displacy-arrowhead\" d=\"M362,154.0 L358,146.0 366,146.0\" fill=\"currentColor\"/>\n",
       "</g>\n",
       "\n",
       "<g class=\"displacy-arrow\">\n",
       "    <path class=\"displacy-arc\" id=\"arrow-244d1e6a2b054a319495590402967c05-0-4\" stroke-width=\"2px\" d=\"M562,152.0 562,135.33333333333334 644.0,135.33333333333334 644.0,152.0\" fill=\"none\" stroke=\"currentColor\"/>\n",
       "    <text dy=\"1.25em\" style=\"font-size: 0.8em; letter-spacing: 1px\">\n",
       "        <textPath xlink:href=\"#arrow-244d1e6a2b054a319495590402967c05-0-4\" class=\"displacy-label\" startOffset=\"50%\" side=\"left\" fill=\"currentColor\" text-anchor=\"middle\">aux</textPath>\n",
       "    </text>\n",
       "    <path class=\"displacy-arrowhead\" d=\"M562,154.0 L558,146.0 566,146.0\" fill=\"currentColor\"/>\n",
       "</g>\n",
       "\n",
       "<g class=\"displacy-arrow\">\n",
       "    <path class=\"displacy-arc\" id=\"arrow-244d1e6a2b054a319495590402967c05-0-5\" stroke-width=\"2px\" d=\"M462,152.0 462,118.66666666666666 647.0,118.66666666666666 647.0,152.0\" fill=\"none\" stroke=\"currentColor\"/>\n",
       "    <text dy=\"1.25em\" style=\"font-size: 0.8em; letter-spacing: 1px\">\n",
       "        <textPath xlink:href=\"#arrow-244d1e6a2b054a319495590402967c05-0-5\" class=\"displacy-label\" startOffset=\"50%\" side=\"left\" fill=\"currentColor\" text-anchor=\"middle\">xcomp</textPath>\n",
       "    </text>\n",
       "    <path class=\"displacy-arrowhead\" d=\"M647.0,154.0 L651.0,146.0 643.0,146.0\" fill=\"currentColor\"/>\n",
       "</g>\n",
       "\n",
       "<g class=\"displacy-arrow\">\n",
       "    <path class=\"displacy-arc\" id=\"arrow-244d1e6a2b054a319495590402967c05-0-6\" stroke-width=\"2px\" d=\"M762,152.0 762,118.66666666666666 947.0,118.66666666666666 947.0,152.0\" fill=\"none\" stroke=\"currentColor\"/>\n",
       "    <text dy=\"1.25em\" style=\"font-size: 0.8em; letter-spacing: 1px\">\n",
       "        <textPath xlink:href=\"#arrow-244d1e6a2b054a319495590402967c05-0-6\" class=\"displacy-label\" startOffset=\"50%\" side=\"left\" fill=\"currentColor\" text-anchor=\"middle\">det</textPath>\n",
       "    </text>\n",
       "    <path class=\"displacy-arrowhead\" d=\"M762,154.0 L758,146.0 766,146.0\" fill=\"currentColor\"/>\n",
       "</g>\n",
       "\n",
       "<g class=\"displacy-arrow\">\n",
       "    <path class=\"displacy-arc\" id=\"arrow-244d1e6a2b054a319495590402967c05-0-7\" stroke-width=\"2px\" d=\"M862,152.0 862,135.33333333333334 944.0,135.33333333333334 944.0,152.0\" fill=\"none\" stroke=\"currentColor\"/>\n",
       "    <text dy=\"1.25em\" style=\"font-size: 0.8em; letter-spacing: 1px\">\n",
       "        <textPath xlink:href=\"#arrow-244d1e6a2b054a319495590402967c05-0-7\" class=\"displacy-label\" startOffset=\"50%\" side=\"left\" fill=\"currentColor\" text-anchor=\"middle\">amod</textPath>\n",
       "    </text>\n",
       "    <path class=\"displacy-arrowhead\" d=\"M862,154.0 L858,146.0 866,146.0\" fill=\"currentColor\"/>\n",
       "</g>\n",
       "\n",
       "<g class=\"displacy-arrow\">\n",
       "    <path class=\"displacy-arc\" id=\"arrow-244d1e6a2b054a319495590402967c05-0-8\" stroke-width=\"2px\" d=\"M662,152.0 662,102.0 950.0,102.0 950.0,152.0\" fill=\"none\" stroke=\"currentColor\"/>\n",
       "    <text dy=\"1.25em\" style=\"font-size: 0.8em; letter-spacing: 1px\">\n",
       "        <textPath xlink:href=\"#arrow-244d1e6a2b054a319495590402967c05-0-8\" class=\"displacy-label\" startOffset=\"50%\" side=\"left\" fill=\"currentColor\" text-anchor=\"middle\">dobj</textPath>\n",
       "    </text>\n",
       "    <path class=\"displacy-arrowhead\" d=\"M950.0,154.0 L954.0,146.0 946.0,146.0\" fill=\"currentColor\"/>\n",
       "</g>\n",
       "</svg></span>"
      ],
      "text/plain": [
       "<IPython.core.display.HTML object>"
      ]
     },
     "metadata": {},
     "output_type": "display_data"
    }
   ],
   "source": [
    "# Process the second sentence\n",
    "doc2 = nlp(\"I would very much want to eat a hot dinner.\")\n",
    "\n",
    "# Draw left and right dependencies\n",
    "displacy.render(doc2, style='dep', options={'distance': 100, 'compact': True}, jupyter=True)\n"
   ]
  },
  {
   "cell_type": "markdown",
   "id": "4e3325fc-1411-453a-a1cc-6e1603e9059e",
   "metadata": {},
   "source": [
    "## 4. Present a list of all dependency grammars of your sentences above."
   ]
  },
  {
   "cell_type": "code",
   "execution_count": 14,
   "id": "bd941cc1-b915-400d-a9d5-c1d77031e41f",
   "metadata": {
    "tags": []
   },
   "outputs": [
    {
     "name": "stdout",
     "output_type": "stream",
     "text": [
      "I: nsubj\n",
      "want: ROOT\n",
      "to: aux\n",
      "learn: xcomp\n",
      "spaCy: dobj\n",
      ".: punct\n",
      "\n",
      "\n",
      "I: nsubj\n",
      "would: aux\n",
      "very: advmod\n",
      "much: advmod\n",
      "want: ROOT\n",
      "to: aux\n",
      "eat: xcomp\n",
      "a: det\n",
      "hot: amod\n",
      "dinner: dobj\n",
      ".: punct\n",
      "\n",
      "\n"
     ]
    }
   ],
   "source": [
    "# Display dependency grammars for the first sentence\n",
    "for token in doc:\n",
    "    print(f\"{token.text}: {token.dep_}\")\n",
    "print(\"\\n\")\n",
    "\n",
    "# Display dependency grammars for the second sentence\n",
    "for token in doc2:\n",
    "    print(f\"{token.text}: {token.dep_}\")\n",
    "print(\"\\n\")\n"
   ]
  },
  {
   "cell_type": "markdown",
   "id": "45c5a7ba-28b1-4904-8502-1afbdb348e9f",
   "metadata": {
    "tags": []
   },
   "source": [
    "# Task 3: NLTK vs spaCy Pipelines"
   ]
  },
  {
   "cell_type": "markdown",
   "id": "07d34530-4ae5-4784-8f7e-9faa789020a0",
   "metadata": {},
   "source": [
    "## Step 01: Take Raw Text"
   ]
  },
  {
   "cell_type": "code",
   "execution_count": 15,
   "id": "a3aa2102-7f23-44d1-8218-5a7fc2c03890",
   "metadata": {
    "tags": []
   },
   "outputs": [],
   "source": [
    "texts = [u\"We are nearing the end of the semester at Peshawar. Final exams of the Fall 2023 semester will start soon.\"]"
   ]
  },
  {
   "cell_type": "markdown",
   "id": "ea787ac6-89c7-4431-9778-9cd90710e272",
   "metadata": {
    "tags": []
   },
   "source": [
    "## Step 02: Do Sentence Level Segmentation"
   ]
  },
  {
   "cell_type": "code",
   "execution_count": 16,
   "id": "3c1fd031-9a0c-4323-b72e-2647f0a4002e",
   "metadata": {
    "tags": []
   },
   "outputs": [],
   "source": [
    "import nltk"
   ]
  },
  {
   "cell_type": "code",
   "execution_count": 17,
   "id": "3be7223e-ea47-498f-a33b-5505ea351bd2",
   "metadata": {
    "tags": []
   },
   "outputs": [
    {
     "name": "stdout",
     "output_type": "stream",
     "text": [
      "['We are nearing the end of the semester at Peshawar.', 'Final exams of the Fall 2023 semester will start soon.']\n"
     ]
    }
   ],
   "source": [
    "for text in texts:\n",
    "    sentences = nltk.sent_tokenize(text)\n",
    "    print(sentences)"
   ]
  },
  {
   "cell_type": "markdown",
   "id": "a93d5435-a860-4908-b1e5-6c5b81605624",
   "metadata": {},
   "source": [
    "## Step03: Extract Tokens in Sentences"
   ]
  },
  {
   "cell_type": "code",
   "execution_count": 18,
   "id": "9de83b07-1fc5-422c-b0ac-3c010cb2d826",
   "metadata": {
    "tags": []
   },
   "outputs": [
    {
     "name": "stdout",
     "output_type": "stream",
     "text": [
      "['We', 'are', 'nearing', 'the', 'end', 'of', 'the', 'semester', 'at', 'Peshawar', '.']\n",
      "['Final', 'exams', 'of', 'the', 'Fall', '2023', 'semester', 'will', 'start', 'soon', '.']\n"
     ]
    }
   ],
   "source": [
    "for sentence in sentences:\n",
    "    words = nltk.word_tokenize(sentence)\n",
    "    print(words)"
   ]
  },
  {
   "cell_type": "markdown",
   "id": "9c2a7362-f04b-4c8a-bdc5-9cb4d4ed93b3",
   "metadata": {},
   "source": [
    "## Step 04: Perform Part of Speech Tagging"
   ]
  },
  {
   "cell_type": "code",
   "execution_count": 19,
   "id": "5a90f706-74db-46de-a2d0-40ec4d2a350c",
   "metadata": {
    "tags": []
   },
   "outputs": [
    {
     "name": "stdout",
     "output_type": "stream",
     "text": [
      "[('Final', 'JJ'), ('exams', 'NN'), ('of', 'IN'), ('the', 'DT'), ('Fall', 'NN'), ('2023', 'CD'), ('semester', 'NN'), ('will', 'MD'), ('start', 'VB'), ('soon', 'RB'), ('.', '.')]\n"
     ]
    }
   ],
   "source": [
    "tagged_words = nltk.pos_tag(words)\n",
    "print(tagged_words)"
   ]
  },
  {
   "cell_type": "markdown",
   "id": "29f01746-d92f-4b0c-a83e-29c3a147ab04",
   "metadata": {},
   "source": [
    "## Step 05: Detect Named Entity of Tagged Words"
   ]
  },
  {
   "cell_type": "code",
   "execution_count": 20,
   "id": "45be2f2f-daa6-490b-a218-a8437b7a0c19",
   "metadata": {
    "tags": []
   },
   "outputs": [
    {
     "name": "stdout",
     "output_type": "stream",
     "text": [
      "(S\n",
      "  Final/JJ\n",
      "  exams/NN\n",
      "  of/IN\n",
      "  the/DT\n",
      "  Fall/NN\n",
      "  2023/CD\n",
      "  semester/NN\n",
      "  will/MD\n",
      "  start/VB\n",
      "  soon/RB\n",
      "  ./.)\n"
     ]
    }
   ],
   "source": [
    "ne_tagged_words = nltk.ne_chunk(tagged_words)\n",
    "print(ne_tagged_words)"
   ]
  },
  {
   "cell_type": "code",
   "execution_count": 21,
   "id": "1c323434-c951-4666-8d4f-8cdd38bfe57e",
   "metadata": {
    "tags": []
   },
   "outputs": [
    {
     "name": "stderr",
     "output_type": "stream",
     "text": [
      "[nltk_data] Downloading package punkt to /home/jadi/nltk_data...\n",
      "[nltk_data]   Package punkt is already up-to-date!\n"
     ]
    },
    {
     "data": {
      "text/plain": [
       "True"
      ]
     },
     "execution_count": 21,
     "metadata": {},
     "output_type": "execute_result"
    }
   ],
   "source": [
    "nltk.download('punkt') # Sentence Tokenize"
   ]
  },
  {
   "cell_type": "code",
   "execution_count": 22,
   "id": "da517600-fc9c-4c54-beac-eacfa33e6997",
   "metadata": {
    "tags": []
   },
   "outputs": [
    {
     "name": "stderr",
     "output_type": "stream",
     "text": [
      "[nltk_data] Downloading package averaged_perceptron_tagger to\n",
      "[nltk_data]     /home/jadi/nltk_data...\n",
      "[nltk_data]   Package averaged_perceptron_tagger is already up-to-\n",
      "[nltk_data]       date!\n"
     ]
    },
    {
     "data": {
      "text/plain": [
       "True"
      ]
     },
     "execution_count": 22,
     "metadata": {},
     "output_type": "execute_result"
    }
   ],
   "source": [
    "nltk.download('averaged_perceptron_tagger') # POS Tagging"
   ]
  },
  {
   "cell_type": "code",
   "execution_count": 23,
   "id": "f6b75d26-e091-40b7-9b10-cd4e3fdb70ee",
   "metadata": {
    "tags": []
   },
   "outputs": [
    {
     "name": "stderr",
     "output_type": "stream",
     "text": [
      "[nltk_data] Downloading package maxent_ne_chunker to\n",
      "[nltk_data]     /home/jadi/nltk_data...\n",
      "[nltk_data]   Package maxent_ne_chunker is already up-to-date!\n"
     ]
    },
    {
     "data": {
      "text/plain": [
       "True"
      ]
     },
     "execution_count": 23,
     "metadata": {},
     "output_type": "execute_result"
    }
   ],
   "source": [
    "nltk.download('maxent_ne_chunker')# Named Entity Chunking"
   ]
  },
  {
   "cell_type": "code",
   "execution_count": 24,
   "id": "f665953b-e05a-44b1-a7b8-7993f570f760",
   "metadata": {
    "tags": []
   },
   "outputs": [
    {
     "name": "stderr",
     "output_type": "stream",
     "text": [
      "[nltk_data] Downloading package words to /home/jadi/nltk_data...\n",
      "[nltk_data]   Package words is already up-to-date!\n"
     ]
    },
    {
     "data": {
      "text/plain": [
       "True"
      ]
     },
     "execution_count": 24,
     "metadata": {},
     "output_type": "execute_result"
    }
   ],
   "source": [
    "nltk.download('words')# Word Tokenize"
   ]
  },
  {
   "cell_type": "code",
   "execution_count": 25,
   "id": "59467323-07a4-4a0c-82a3-ebefd6c41f51",
   "metadata": {
    "tags": []
   },
   "outputs": [
    {
     "data": {
      "text/html": [
       "<span class=\"tex2jax_ignore\"><div class=\"entities\" style=\"line-height: 2.5; direction: ltr\">We are nearing \n",
       "<mark class=\"entity\" style=\"background: #bfe1d9; padding: 0.45em 0.6em; margin: 0 0.25em; line-height: 1; border-radius: 0.35em;\">\n",
       "    the end of the semester\n",
       "    <span style=\"font-size: 0.8em; font-weight: bold; line-height: 1; border-radius: 0.35em; vertical-align: middle; margin-left: 0.5rem\">DATE</span>\n",
       "</mark>\n",
       " at \n",
       "<mark class=\"entity\" style=\"background: #feca74; padding: 0.45em 0.6em; margin: 0 0.25em; line-height: 1; border-radius: 0.35em;\">\n",
       "    Peshawar\n",
       "    <span style=\"font-size: 0.8em; font-weight: bold; line-height: 1; border-radius: 0.35em; vertical-align: middle; margin-left: 0.5rem\">GPE</span>\n",
       "</mark>\n",
       ". Final exams of the Fall 2023 semester will start soon.</div></span>"
      ],
      "text/plain": [
       "<IPython.core.display.HTML object>"
      ]
     },
     "metadata": {},
     "output_type": "display_data"
    }
   ],
   "source": [
    "from spacy import displacy\n",
    "doc = nlp(u'We are nearing the end of the semester at Peshawar. Final exams of the Fall 2023 semester will start soon.')\n",
    "displacy.render(doc, style='ent')"
   ]
  },
  {
   "cell_type": "code",
   "execution_count": 26,
   "id": "af8597c7-3b5f-4058-86d6-e2d40cd9d3b4",
   "metadata": {
    "tags": []
   },
   "outputs": [
    {
     "name": "stdout",
     "output_type": "stream",
     "text": [
      "the end of the semester DATE\n",
      "Peshawar GPE\n"
     ]
    }
   ],
   "source": [
    "for ent in doc.ents:\n",
    "    print(ent.text, ent.label_)"
   ]
  },
  {
   "cell_type": "markdown",
   "id": "65d37736-9b67-43d3-b48c-fd59685878df",
   "metadata": {
    "tags": []
   },
   "source": [
    "# Questions"
   ]
  },
  {
   "cell_type": "markdown",
   "id": "b33e9c12-21f8-4848-b53e-d2115c8c3b9a",
   "metadata": {},
   "source": [
    "## 1. How did the Named Entity Output of the NLTK pipeline look like? Present its output."
   ]
  },
  {
   "cell_type": "code",
   "execution_count": 24,
   "id": "039c529e-9ea4-4be3-9bf3-14e3263376b2",
   "metadata": {
    "tags": []
   },
   "outputs": [
    {
     "name": "stdout",
     "output_type": "stream",
     "text": [
      "['We are nearing the end of the semester at Peshawar.', 'Final exams of the Fall 2023 semester will start soon.']\n",
      "['We', 'are', 'nearing', 'the', 'end', 'of', 'the', 'semester', 'at', 'Peshawar', '.']\n",
      "[('We', 'PRP'), ('are', 'VBP'), ('nearing', 'VBG'), ('the', 'DT'), ('end', 'NN'), ('of', 'IN'), ('the', 'DT'), ('semester', 'NN'), ('at', 'IN'), ('Peshawar', 'NNP'), ('.', '.')]\n",
      "(S\n",
      "  We/PRP\n",
      "  are/VBP\n",
      "  nearing/VBG\n",
      "  the/DT\n",
      "  end/NN\n",
      "  of/IN\n",
      "  the/DT\n",
      "  semester/NN\n",
      "  at/IN\n",
      "  (ORGANIZATION Peshawar/NNP)\n",
      "  ./.)\n",
      "['Final', 'exams', 'of', 'the', 'Fall', '2023', 'semester', 'will', 'start', 'soon', '.']\n",
      "[('Final', 'JJ'), ('exams', 'NN'), ('of', 'IN'), ('the', 'DT'), ('Fall', 'NN'), ('2023', 'CD'), ('semester', 'NN'), ('will', 'MD'), ('start', 'VB'), ('soon', 'RB'), ('.', '.')]\n",
      "(S\n",
      "  Final/JJ\n",
      "  exams/NN\n",
      "  of/IN\n",
      "  the/DT\n",
      "  Fall/NN\n",
      "  2023/CD\n",
      "  semester/NN\n",
      "  will/MD\n",
      "  start/VB\n",
      "  soon/RB\n",
      "  ./.)\n"
     ]
    }
   ],
   "source": [
    "import nltk\n",
    "\n",
    "texts = [u\"We are nearing the end of the semester at Peshawar. Final exams of the Fall 2023 semester will start soon.\"]\n",
    "\n",
    "for text in texts:\n",
    "    sentences = nltk.sent_tokenize(text)\n",
    "    print(sentences)\n",
    "    \n",
    "    for sentence in sentences:\n",
    "        words = nltk.word_tokenize(sentence)\n",
    "        print(words)\n",
    "        \n",
    "        tagged_words = nltk.pos_tag(words)\n",
    "        print(tagged_words)\n",
    "        \n",
    "        ne_tagged_words = nltk.ne_chunk(tagged_words)\n",
    "        print(ne_tagged_words)\n"
   ]
  },
  {
   "cell_type": "markdown",
   "id": "3cb4cb51-6fa3-4e2d-bad2-e2bc3680d9f9",
   "metadata": {},
   "source": [
    "## 2. How did the Named Entity Output of the spaCy pipeline look like? Present its output."
   ]
  },
  {
   "cell_type": "code",
   "execution_count": 25,
   "id": "20227262-e073-4334-9f6d-52fc8ce5465a",
   "metadata": {
    "tags": []
   },
   "outputs": [
    {
     "data": {
      "text/html": [
       "<span class=\"tex2jax_ignore\"><div class=\"entities\" style=\"line-height: 2.5; direction: ltr\">We are nearing \n",
       "<mark class=\"entity\" style=\"background: #bfe1d9; padding: 0.45em 0.6em; margin: 0 0.25em; line-height: 1; border-radius: 0.35em;\">\n",
       "    the end of the semester\n",
       "    <span style=\"font-size: 0.8em; font-weight: bold; line-height: 1; border-radius: 0.35em; vertical-align: middle; margin-left: 0.5rem\">DATE</span>\n",
       "</mark>\n",
       " at \n",
       "<mark class=\"entity\" style=\"background: #feca74; padding: 0.45em 0.6em; margin: 0 0.25em; line-height: 1; border-radius: 0.35em;\">\n",
       "    Peshawar\n",
       "    <span style=\"font-size: 0.8em; font-weight: bold; line-height: 1; border-radius: 0.35em; vertical-align: middle; margin-left: 0.5rem\">GPE</span>\n",
       "</mark>\n",
       ". Final exams of the Fall 2023 semester will start soon.</div></span>"
      ],
      "text/plain": [
       "<IPython.core.display.HTML object>"
      ]
     },
     "metadata": {},
     "output_type": "display_data"
    },
    {
     "name": "stdout",
     "output_type": "stream",
     "text": [
      "the end of the semester DATE\n",
      "Peshawar GPE\n"
     ]
    }
   ],
   "source": [
    "from spacy import displacy\n",
    "\n",
    "doc = nlp(u'We are nearing the end of the semester at Peshawar. Final exams of the Fall 2023 semester will start soon.')\n",
    "\n",
    "# Visualize named entities\n",
    "displacy.render(doc, style='ent')\n",
    "\n",
    "# Print named entities and their labels\n",
    "for ent in doc.ents:\n",
    "    print(ent.text, ent.label_)\n"
   ]
  },
  {
   "cell_type": "code",
   "execution_count": 26,
   "id": "ae408a0a-ff36-482e-acb1-784b161d58d9",
   "metadata": {
    "tags": []
   },
   "outputs": [
    {
     "data": {
      "text/plain": [
       "['tok2vec', 'tagger', 'parser', 'attribute_ruler', 'lemmatizer', 'ner']"
      ]
     },
     "execution_count": 26,
     "metadata": {},
     "output_type": "execute_result"
    }
   ],
   "source": [
    "import spacy\n",
    "nlp = spacy.load('en_core_web_sm')\n",
    "nlp.pipe_names"
   ]
  },
  {
   "cell_type": "markdown",
   "id": "8aeddf1f-d387-4190-bb8a-43e56273a4e6",
   "metadata": {},
   "source": [
    "## What is the default pipeline structure of spaCy?\n",
    "1. **Tokenizer:** Splits text into individual tokens (words or subwords).\n",
    "2. **Part-of-Speech Tagger:** Assigns parts of speech (e.g., noun, verb) to tokens.\n",
    "3. **Dependency Parser:** Establishes syntactic relationships between words.\n",
    "4. **Named Entity Recognizer (NER):** Identifies entities like persons, locations, dates, etc.\n",
    "5. **Text Classification:** Assigns labels to the entire text (e.g., sentiment analysis).\n",
    "6. **Entity Linker:** Connects named entities to knowledge base entries.\n",
    "7. **Text Vectorization:** Generates vectors representing word and document semantics.\n",
    "8. **Sentence Boundary Detector:** Identifies sentence boundaries.\n",
    "9. **Morphological Analysis:** Provides information about word morphology (e.g., lemma).\n",
    "\n"
   ]
  },
  {
   "cell_type": "code",
   "execution_count": 27,
   "id": "e311a6b0-3b21-41de-b178-8cac269c10be",
   "metadata": {
    "tags": []
   },
   "outputs": [],
   "source": [
    "nlp = spacy.load('en_core_web_sm',disable=['parser'])"
   ]
  },
  {
   "cell_type": "code",
   "execution_count": 28,
   "id": "9ab07eed-eb5d-4990-855e-97061177650c",
   "metadata": {
    "tags": []
   },
   "outputs": [],
   "source": [
    "## Adding a custom component\n",
    "from spacy.language import Language\n",
    "@Language.component(\"my_component\")\n",
    "def my_component(doc):\n",
    "# Do something to the doc here\n",
    "    return doc"
   ]
  },
  {
   "cell_type": "code",
   "execution_count": 29,
   "id": "46a83506-4be8-43e9-8eb0-34e4eac0ab63",
   "metadata": {
    "tags": []
   },
   "outputs": [
    {
     "data": {
      "text/plain": [
       "<function __main__.my_component(doc)>"
      ]
     },
     "execution_count": 29,
     "metadata": {},
     "output_type": "execute_result"
    }
   ],
   "source": [
    "nlp.add_pipe(\"my_component\")"
   ]
  },
  {
   "cell_type": "markdown",
   "id": "671487f1-f197-4fcb-b29b-b26294c596c1",
   "metadata": {
    "tags": []
   },
   "source": [
    "## Task 4: Finding Patterns in Sentences"
   ]
  },
  {
   "cell_type": "code",
   "execution_count": 30,
   "id": "6396b277-f354-4e5d-9b86-2480ad4309b2",
   "metadata": {
    "tags": []
   },
   "outputs": [
    {
     "data": {
      "text/html": [
       "<span class=\"tex2jax_ignore\"><svg xmlns=\"http://www.w3.org/2000/svg\" xmlns:xlink=\"http://www.w3.org/1999/xlink\" xml:lang=\"en\" id=\"02ba8e3307a0421a939ccc853c0ad050-0\" class=\"displacy\" width=\"925\" height=\"312.0\" direction=\"ltr\" style=\"max-width: none; height: 312.0px; color: #000000; background: #ffffff; font-family: Arial; direction: ltr\">\n",
       "<text class=\"displacy-token\" fill=\"currentColor\" text-anchor=\"middle\" y=\"222.0\">\n",
       "    <tspan class=\"displacy-word\" fill=\"currentColor\" x=\"50\">I</tspan>\n",
       "    <tspan class=\"displacy-tag\" dy=\"2em\" fill=\"currentColor\" x=\"50\">PRON</tspan>\n",
       "</text>\n",
       "\n",
       "<text class=\"displacy-token\" fill=\"currentColor\" text-anchor=\"middle\" y=\"222.0\">\n",
       "    <tspan class=\"displacy-word\" fill=\"currentColor\" x=\"225\">want</tspan>\n",
       "    <tspan class=\"displacy-tag\" dy=\"2em\" fill=\"currentColor\" x=\"225\">VERB</tspan>\n",
       "</text>\n",
       "\n",
       "<text class=\"displacy-token\" fill=\"currentColor\" text-anchor=\"middle\" y=\"222.0\">\n",
       "    <tspan class=\"displacy-word\" fill=\"currentColor\" x=\"400\">to</tspan>\n",
       "    <tspan class=\"displacy-tag\" dy=\"2em\" fill=\"currentColor\" x=\"400\">PART</tspan>\n",
       "</text>\n",
       "\n",
       "<text class=\"displacy-token\" fill=\"currentColor\" text-anchor=\"middle\" y=\"222.0\">\n",
       "    <tspan class=\"displacy-word\" fill=\"currentColor\" x=\"575\">learn</tspan>\n",
       "    <tspan class=\"displacy-tag\" dy=\"2em\" fill=\"currentColor\" x=\"575\">VERB</tspan>\n",
       "</text>\n",
       "\n",
       "<text class=\"displacy-token\" fill=\"currentColor\" text-anchor=\"middle\" y=\"222.0\">\n",
       "    <tspan class=\"displacy-word\" fill=\"currentColor\" x=\"750\">spaCy.</tspan>\n",
       "    <tspan class=\"displacy-tag\" dy=\"2em\" fill=\"currentColor\" x=\"750\">ADJ</tspan>\n",
       "</text>\n",
       "\n",
       "<g class=\"displacy-arrow\">\n",
       "    <path class=\"displacy-arc\" id=\"arrow-02ba8e3307a0421a939ccc853c0ad050-0-0\" stroke-width=\"2px\" d=\"M70,177.0 C70,89.5 220.0,89.5 220.0,177.0\" fill=\"none\" stroke=\"currentColor\"/>\n",
       "    <text dy=\"1.25em\" style=\"font-size: 0.8em; letter-spacing: 1px\">\n",
       "        <textPath xlink:href=\"#arrow-02ba8e3307a0421a939ccc853c0ad050-0-0\" class=\"displacy-label\" startOffset=\"50%\" side=\"left\" fill=\"currentColor\" text-anchor=\"middle\">nsubj</textPath>\n",
       "    </text>\n",
       "    <path class=\"displacy-arrowhead\" d=\"M70,179.0 L62,167.0 78,167.0\" fill=\"currentColor\"/>\n",
       "</g>\n",
       "\n",
       "<g class=\"displacy-arrow\">\n",
       "    <path class=\"displacy-arc\" id=\"arrow-02ba8e3307a0421a939ccc853c0ad050-0-1\" stroke-width=\"2px\" d=\"M420,177.0 C420,89.5 570.0,89.5 570.0,177.0\" fill=\"none\" stroke=\"currentColor\"/>\n",
       "    <text dy=\"1.25em\" style=\"font-size: 0.8em; letter-spacing: 1px\">\n",
       "        <textPath xlink:href=\"#arrow-02ba8e3307a0421a939ccc853c0ad050-0-1\" class=\"displacy-label\" startOffset=\"50%\" side=\"left\" fill=\"currentColor\" text-anchor=\"middle\">aux</textPath>\n",
       "    </text>\n",
       "    <path class=\"displacy-arrowhead\" d=\"M420,179.0 L412,167.0 428,167.0\" fill=\"currentColor\"/>\n",
       "</g>\n",
       "\n",
       "<g class=\"displacy-arrow\">\n",
       "    <path class=\"displacy-arc\" id=\"arrow-02ba8e3307a0421a939ccc853c0ad050-0-2\" stroke-width=\"2px\" d=\"M245,177.0 C245,2.0 575.0,2.0 575.0,177.0\" fill=\"none\" stroke=\"currentColor\"/>\n",
       "    <text dy=\"1.25em\" style=\"font-size: 0.8em; letter-spacing: 1px\">\n",
       "        <textPath xlink:href=\"#arrow-02ba8e3307a0421a939ccc853c0ad050-0-2\" class=\"displacy-label\" startOffset=\"50%\" side=\"left\" fill=\"currentColor\" text-anchor=\"middle\">xcomp</textPath>\n",
       "    </text>\n",
       "    <path class=\"displacy-arrowhead\" d=\"M575.0,179.0 L583.0,167.0 567.0,167.0\" fill=\"currentColor\"/>\n",
       "</g>\n",
       "\n",
       "<g class=\"displacy-arrow\">\n",
       "    <path class=\"displacy-arc\" id=\"arrow-02ba8e3307a0421a939ccc853c0ad050-0-3\" stroke-width=\"2px\" d=\"M595,177.0 C595,89.5 745.0,89.5 745.0,177.0\" fill=\"none\" stroke=\"currentColor\"/>\n",
       "    <text dy=\"1.25em\" style=\"font-size: 0.8em; letter-spacing: 1px\">\n",
       "        <textPath xlink:href=\"#arrow-02ba8e3307a0421a939ccc853c0ad050-0-3\" class=\"displacy-label\" startOffset=\"50%\" side=\"left\" fill=\"currentColor\" text-anchor=\"middle\">dobj</textPath>\n",
       "    </text>\n",
       "    <path class=\"displacy-arrowhead\" d=\"M745.0,179.0 L753.0,167.0 737.0,167.0\" fill=\"currentColor\"/>\n",
       "</g>\n",
       "</svg></span>"
      ],
      "text/plain": [
       "<IPython.core.display.HTML object>"
      ]
     },
     "metadata": {},
     "output_type": "display_data"
    }
   ],
   "source": [
    "import spacy\n",
    "from spacy import displacy\n",
    "\n",
    "# Load English model with a dependency parser\n",
    "nlp = spacy.load('en_core_web_sm')\n",
    "\n",
    "# Process the text\n",
    "doc = nlp(u'I want to learn spaCy.')\n",
    "\n",
    "# Visualize the dependency tree\n",
    "displacy.render(doc, style='dep', jupyter=True)\n"
   ]
  },
  {
   "cell_type": "code",
   "execution_count": 31,
   "id": "1875b2c7-de21-47ba-8155-30e8b6651f2f",
   "metadata": {
    "tags": []
   },
   "outputs": [
    {
     "data": {
      "text/html": [
       "<span class=\"tex2jax_ignore\"><svg xmlns=\"http://www.w3.org/2000/svg\" xmlns:xlink=\"http://www.w3.org/1999/xlink\" xml:lang=\"en\" id=\"5dceee2dfb6d44318f7d6ac43cc5db00-0\" class=\"displacy\" width=\"925\" height=\"399.5\" direction=\"ltr\" style=\"max-width: none; height: 399.5px; color: #000000; background: #ffffff; font-family: Arial; direction: ltr\">\n",
       "<text class=\"displacy-token\" fill=\"currentColor\" text-anchor=\"middle\" y=\"309.5\">\n",
       "    <tspan class=\"displacy-word\" fill=\"currentColor\" x=\"50\">How</tspan>\n",
       "    <tspan class=\"displacy-tag\" dy=\"2em\" fill=\"currentColor\" x=\"50\">SCONJ</tspan>\n",
       "</text>\n",
       "\n",
       "<text class=\"displacy-token\" fill=\"currentColor\" text-anchor=\"middle\" y=\"309.5\">\n",
       "    <tspan class=\"displacy-word\" fill=\"currentColor\" x=\"225\">do</tspan>\n",
       "    <tspan class=\"displacy-tag\" dy=\"2em\" fill=\"currentColor\" x=\"225\">AUX</tspan>\n",
       "</text>\n",
       "\n",
       "<text class=\"displacy-token\" fill=\"currentColor\" text-anchor=\"middle\" y=\"309.5\">\n",
       "    <tspan class=\"displacy-word\" fill=\"currentColor\" x=\"400\">I</tspan>\n",
       "    <tspan class=\"displacy-tag\" dy=\"2em\" fill=\"currentColor\" x=\"400\">PRON</tspan>\n",
       "</text>\n",
       "\n",
       "<text class=\"displacy-token\" fill=\"currentColor\" text-anchor=\"middle\" y=\"309.5\">\n",
       "    <tspan class=\"displacy-word\" fill=\"currentColor\" x=\"575\">learn</tspan>\n",
       "    <tspan class=\"displacy-tag\" dy=\"2em\" fill=\"currentColor\" x=\"575\">VERB</tspan>\n",
       "</text>\n",
       "\n",
       "<text class=\"displacy-token\" fill=\"currentColor\" text-anchor=\"middle\" y=\"309.5\">\n",
       "    <tspan class=\"displacy-word\" fill=\"currentColor\" x=\"750\">spaCy</tspan>\n",
       "    <tspan class=\"displacy-tag\" dy=\"2em\" fill=\"currentColor\" x=\"750\">ADJ</tspan>\n",
       "</text>\n",
       "\n",
       "<g class=\"displacy-arrow\">\n",
       "    <path class=\"displacy-arc\" id=\"arrow-5dceee2dfb6d44318f7d6ac43cc5db00-0-0\" stroke-width=\"2px\" d=\"M70,264.5 C70,2.0 575.0,2.0 575.0,264.5\" fill=\"none\" stroke=\"currentColor\"/>\n",
       "    <text dy=\"1.25em\" style=\"font-size: 0.8em; letter-spacing: 1px\">\n",
       "        <textPath xlink:href=\"#arrow-5dceee2dfb6d44318f7d6ac43cc5db00-0-0\" class=\"displacy-label\" startOffset=\"50%\" side=\"left\" fill=\"currentColor\" text-anchor=\"middle\">advmod</textPath>\n",
       "    </text>\n",
       "    <path class=\"displacy-arrowhead\" d=\"M70,266.5 L62,254.5 78,254.5\" fill=\"currentColor\"/>\n",
       "</g>\n",
       "\n",
       "<g class=\"displacy-arrow\">\n",
       "    <path class=\"displacy-arc\" id=\"arrow-5dceee2dfb6d44318f7d6ac43cc5db00-0-1\" stroke-width=\"2px\" d=\"M245,264.5 C245,89.5 570.0,89.5 570.0,264.5\" fill=\"none\" stroke=\"currentColor\"/>\n",
       "    <text dy=\"1.25em\" style=\"font-size: 0.8em; letter-spacing: 1px\">\n",
       "        <textPath xlink:href=\"#arrow-5dceee2dfb6d44318f7d6ac43cc5db00-0-1\" class=\"displacy-label\" startOffset=\"50%\" side=\"left\" fill=\"currentColor\" text-anchor=\"middle\">aux</textPath>\n",
       "    </text>\n",
       "    <path class=\"displacy-arrowhead\" d=\"M245,266.5 L237,254.5 253,254.5\" fill=\"currentColor\"/>\n",
       "</g>\n",
       "\n",
       "<g class=\"displacy-arrow\">\n",
       "    <path class=\"displacy-arc\" id=\"arrow-5dceee2dfb6d44318f7d6ac43cc5db00-0-2\" stroke-width=\"2px\" d=\"M420,264.5 C420,177.0 565.0,177.0 565.0,264.5\" fill=\"none\" stroke=\"currentColor\"/>\n",
       "    <text dy=\"1.25em\" style=\"font-size: 0.8em; letter-spacing: 1px\">\n",
       "        <textPath xlink:href=\"#arrow-5dceee2dfb6d44318f7d6ac43cc5db00-0-2\" class=\"displacy-label\" startOffset=\"50%\" side=\"left\" fill=\"currentColor\" text-anchor=\"middle\">nsubj</textPath>\n",
       "    </text>\n",
       "    <path class=\"displacy-arrowhead\" d=\"M420,266.5 L412,254.5 428,254.5\" fill=\"currentColor\"/>\n",
       "</g>\n",
       "\n",
       "<g class=\"displacy-arrow\">\n",
       "    <path class=\"displacy-arc\" id=\"arrow-5dceee2dfb6d44318f7d6ac43cc5db00-0-3\" stroke-width=\"2px\" d=\"M595,264.5 C595,177.0 740.0,177.0 740.0,264.5\" fill=\"none\" stroke=\"currentColor\"/>\n",
       "    <text dy=\"1.25em\" style=\"font-size: 0.8em; letter-spacing: 1px\">\n",
       "        <textPath xlink:href=\"#arrow-5dceee2dfb6d44318f7d6ac43cc5db00-0-3\" class=\"displacy-label\" startOffset=\"50%\" side=\"left\" fill=\"currentColor\" text-anchor=\"middle\">intj</textPath>\n",
       "    </text>\n",
       "    <path class=\"displacy-arrowhead\" d=\"M740.0,266.5 L748.0,254.5 732.0,254.5\" fill=\"currentColor\"/>\n",
       "</g>\n",
       "</svg></span>"
      ],
      "text/plain": [
       "<IPython.core.display.HTML object>"
      ]
     },
     "metadata": {},
     "output_type": "display_data"
    }
   ],
   "source": [
    "import spacy\n",
    "from spacy import displacy\n",
    "\n",
    "# Load English model with a dependency parser\n",
    "nlp = spacy.load('en_core_web_sm')\n",
    "\n",
    "# Process the text\n",
    "doc = nlp(u'How do I learn spaCy')\n",
    "\n",
    "# Visualize the dependency tree\n",
    "displacy.render(doc, style='dep', jupyter=True)\n"
   ]
  },
  {
   "cell_type": "code",
   "execution_count": 32,
   "id": "bd816fb1-f313-4b84-8520-26b1367f664e",
   "metadata": {
    "tags": []
   },
   "outputs": [
    {
     "name": "stdout",
     "output_type": "stream",
     "text": [
      "advmod\n",
      "aux\n",
      "nsubj\n",
      "Found\n"
     ]
    }
   ],
   "source": [
    "import spacy\n",
    "\n",
    "def dep_pattern(doc):\n",
    "    for i in range(len(doc) - 1):\n",
    "        print(doc[i].dep_)\n",
    "        if doc[i].dep_ == 'nsubj' and doc[i+1].dep_ == 'ROOT' and doc[i+2].dep_ == 'acomp':\n",
    "            return True\n",
    "    return False\n",
    "\n",
    "# Load English model with a dependency parser\n",
    "nlp = spacy.load('en_core_web_sm')\n",
    "\n",
    "# Process the text\n",
    "doc = nlp(u'How do I learn spaCy.')\n",
    "\n",
    "# Check for the dependency pattern\n",
    "if dep_pattern(doc):\n",
    "    print('Found')\n",
    "else:\n",
    "    print('Not found')\n"
   ]
  },
  {
   "cell_type": "code",
   "execution_count": 33,
   "id": "b41f8682-35d4-47f2-9618-16b283de7d4a",
   "metadata": {
    "tags": []
   },
   "outputs": [
    {
     "name": "stdout",
     "output_type": "stream",
     "text": [
      "nsubj\n",
      "ROOT\n",
      "aux\n",
      "xcomp\n",
      "dobj\n",
      "Not found\n"
     ]
    }
   ],
   "source": [
    "import spacy\n",
    "\n",
    "def dep_pattern(doc):\n",
    "    for i in range(len(doc) - 1):\n",
    "        print(doc[i].dep_)\n",
    "        if doc[i].dep_ == 'nsubj' and doc[i+1].dep_ == 'ROOT' and doc[i+2].dep_ == 'acomp':\n",
    "            return True\n",
    "    return False\n",
    "\n",
    "# Load English model with a dependency parser\n",
    "nlp = spacy.load('en_core_web_sm')\n",
    "\n",
    "# Process the text\n",
    "doc = nlp(u'I want to learn spacy.')\n",
    "\n",
    "# Check for the dependency pattern\n",
    "if dep_pattern(doc):\n",
    "    print('Found')\n",
    "else:\n",
    "    print('Not found')\n"
   ]
  },
  {
   "cell_type": "markdown",
   "id": "d161d3e3-bab5-417a-91cc-733f9ea47281",
   "metadata": {},
   "source": [
    "## Lab 04"
   ]
  },
  {
   "cell_type": "markdown",
   "id": "a0ccce92-eaba-4d73-95a9-f9e1ff5e9c38",
   "metadata": {},
   "source": [
    "## Task 5: Finding Multiple Patterns automatically in Sentences"
   ]
  },
  {
   "cell_type": "code",
   "execution_count": 5,
   "id": "109282a6-694b-4f45-babb-e3bf9f961532",
   "metadata": {
    "tags": []
   },
   "outputs": [
    {
     "data": {
      "text/html": [
       "<span class=\"tex2jax_ignore\"><svg xmlns=\"http://www.w3.org/2000/svg\" xmlns:xlink=\"http://www.w3.org/1999/xlink\" xml:lang=\"en\" id=\"60792ab4b8b0453db3729fa2094bad17-0\" class=\"displacy\" width=\"925\" height=\"312.0\" direction=\"ltr\" style=\"max-width: none; height: 312.0px; color: #000000; background: #ffffff; font-family: Arial; direction: ltr\">\n",
       "<text class=\"displacy-token\" fill=\"currentColor\" text-anchor=\"middle\" y=\"222.0\">\n",
       "    <tspan class=\"displacy-word\" fill=\"currentColor\" x=\"50\">The</tspan>\n",
       "    <tspan class=\"displacy-tag\" dy=\"2em\" fill=\"currentColor\" x=\"50\">DET</tspan>\n",
       "</text>\n",
       "\n",
       "<text class=\"displacy-token\" fill=\"currentColor\" text-anchor=\"middle\" y=\"222.0\">\n",
       "    <tspan class=\"displacy-word\" fill=\"currentColor\" x=\"225\">big</tspan>\n",
       "    <tspan class=\"displacy-tag\" dy=\"2em\" fill=\"currentColor\" x=\"225\">ADJ</tspan>\n",
       "</text>\n",
       "\n",
       "<text class=\"displacy-token\" fill=\"currentColor\" text-anchor=\"middle\" y=\"222.0\">\n",
       "    <tspan class=\"displacy-word\" fill=\"currentColor\" x=\"400\">dog</tspan>\n",
       "    <tspan class=\"displacy-tag\" dy=\"2em\" fill=\"currentColor\" x=\"400\">NOUN</tspan>\n",
       "</text>\n",
       "\n",
       "<text class=\"displacy-token\" fill=\"currentColor\" text-anchor=\"middle\" y=\"222.0\">\n",
       "    <tspan class=\"displacy-word\" fill=\"currentColor\" x=\"575\">chased</tspan>\n",
       "    <tspan class=\"displacy-tag\" dy=\"2em\" fill=\"currentColor\" x=\"575\">VERB</tspan>\n",
       "</text>\n",
       "\n",
       "<text class=\"displacy-token\" fill=\"currentColor\" text-anchor=\"middle\" y=\"222.0\">\n",
       "    <tspan class=\"displacy-word\" fill=\"currentColor\" x=\"750\">everybody</tspan>\n",
       "    <tspan class=\"displacy-tag\" dy=\"2em\" fill=\"currentColor\" x=\"750\">PRON</tspan>\n",
       "</text>\n",
       "\n",
       "<g class=\"displacy-arrow\">\n",
       "    <path class=\"displacy-arc\" id=\"arrow-60792ab4b8b0453db3729fa2094bad17-0-0\" stroke-width=\"2px\" d=\"M70,177.0 C70,2.0 400.0,2.0 400.0,177.0\" fill=\"none\" stroke=\"currentColor\"/>\n",
       "    <text dy=\"1.25em\" style=\"font-size: 0.8em; letter-spacing: 1px\">\n",
       "        <textPath xlink:href=\"#arrow-60792ab4b8b0453db3729fa2094bad17-0-0\" class=\"displacy-label\" startOffset=\"50%\" side=\"left\" fill=\"currentColor\" text-anchor=\"middle\">det</textPath>\n",
       "    </text>\n",
       "    <path class=\"displacy-arrowhead\" d=\"M70,179.0 L62,167.0 78,167.0\" fill=\"currentColor\"/>\n",
       "</g>\n",
       "\n",
       "<g class=\"displacy-arrow\">\n",
       "    <path class=\"displacy-arc\" id=\"arrow-60792ab4b8b0453db3729fa2094bad17-0-1\" stroke-width=\"2px\" d=\"M245,177.0 C245,89.5 395.0,89.5 395.0,177.0\" fill=\"none\" stroke=\"currentColor\"/>\n",
       "    <text dy=\"1.25em\" style=\"font-size: 0.8em; letter-spacing: 1px\">\n",
       "        <textPath xlink:href=\"#arrow-60792ab4b8b0453db3729fa2094bad17-0-1\" class=\"displacy-label\" startOffset=\"50%\" side=\"left\" fill=\"currentColor\" text-anchor=\"middle\">amod</textPath>\n",
       "    </text>\n",
       "    <path class=\"displacy-arrowhead\" d=\"M245,179.0 L237,167.0 253,167.0\" fill=\"currentColor\"/>\n",
       "</g>\n",
       "\n",
       "<g class=\"displacy-arrow\">\n",
       "    <path class=\"displacy-arc\" id=\"arrow-60792ab4b8b0453db3729fa2094bad17-0-2\" stroke-width=\"2px\" d=\"M420,177.0 C420,89.5 570.0,89.5 570.0,177.0\" fill=\"none\" stroke=\"currentColor\"/>\n",
       "    <text dy=\"1.25em\" style=\"font-size: 0.8em; letter-spacing: 1px\">\n",
       "        <textPath xlink:href=\"#arrow-60792ab4b8b0453db3729fa2094bad17-0-2\" class=\"displacy-label\" startOffset=\"50%\" side=\"left\" fill=\"currentColor\" text-anchor=\"middle\">nsubj</textPath>\n",
       "    </text>\n",
       "    <path class=\"displacy-arrowhead\" d=\"M420,179.0 L412,167.0 428,167.0\" fill=\"currentColor\"/>\n",
       "</g>\n",
       "\n",
       "<g class=\"displacy-arrow\">\n",
       "    <path class=\"displacy-arc\" id=\"arrow-60792ab4b8b0453db3729fa2094bad17-0-3\" stroke-width=\"2px\" d=\"M595,177.0 C595,89.5 745.0,89.5 745.0,177.0\" fill=\"none\" stroke=\"currentColor\"/>\n",
       "    <text dy=\"1.25em\" style=\"font-size: 0.8em; letter-spacing: 1px\">\n",
       "        <textPath xlink:href=\"#arrow-60792ab4b8b0453db3729fa2094bad17-0-3\" class=\"displacy-label\" startOffset=\"50%\" side=\"left\" fill=\"currentColor\" text-anchor=\"middle\">dobj</textPath>\n",
       "    </text>\n",
       "    <path class=\"displacy-arrowhead\" d=\"M745.0,179.0 L753.0,167.0 737.0,167.0\" fill=\"currentColor\"/>\n",
       "</g>\n",
       "</svg></span>"
      ],
      "text/plain": [
       "<IPython.core.display.HTML object>"
      ]
     },
     "metadata": {},
     "output_type": "display_data"
    },
    {
     "name": "stdout",
     "output_type": "stream",
     "text": [
      "Matching Sentence:  dog chased everybody\n",
      "Pattern Type:  SubRootObject\n",
      "Dependency: dog-nsubj\n",
      "Dependency: chased-ROOT\n",
      "Dependency: everybody-dobj\n"
     ]
    }
   ],
   "source": [
    "from spacy.matcher import Matcher\n",
    "import spacy\n",
    "from spacy import displacy\n",
    "\n",
    "nlp = spacy.load('en_core_web_sm')\n",
    "# Create a Matcher\n",
    "matcher = Matcher(nlp.vocab)\n",
    "\n",
    "# Define a pattern\n",
    "pattern1 = [{\"DEP\": \"nsubj\"}, {\"DEP\": \"ROOT\"}, {\"DEP\": \"dobj\"}]\n",
    "\n",
    "# Add the pattern to the Matcher with a unique name\n",
    "matcher.add(\"SubRootObject\", [pattern1])\n",
    "\n",
    "# Process the text with spaCy\n",
    "doc = nlp(\"The big dog chased everybody\")\n",
    "\n",
    "# Find matches using the Matcher\n",
    "matches = matcher(doc)\n",
    "\n",
    "# Visualize the dependency tree\n",
    "displacy.render(doc, style='dep')\n",
    "\n",
    "# Not needed, only for illustration\n",
    "for pattern_id, start, end in matches:\n",
    "    print(\"Matching Sentence: \", doc[start:end])\n",
    "    print(\"Pattern Type: \", doc.vocab.strings[pattern_id])\n",
    "    \n",
    "    for token in doc[start:end]:\n",
    "        print(\"Dependency: {}-{}\".format(token, token.dep_))\n"
   ]
  },
  {
   "cell_type": "markdown",
   "id": "7f809c5b-12f9-48ea-b6b5-2a4382803fec",
   "metadata": {},
   "source": [
    "## 1. What text and dependencies did the above code catch for the sentence “The big dog chased everybody”."
   ]
  },
  {
   "cell_type": "markdown",
   "id": "49faa9b4-a6f0-4069-8b47-4bcd93029906",
   "metadata": {},
   "source": [
    "### Answer:\n",
    "\n",
    "**Input Sentence:** \"The big dog chased everybody.\"\n",
    "\n",
    "**Dependencies Caught:**\n",
    "- **Matching Sentence:** The big dog chased everybody.\n",
    "- **Pattern Type:** SubRootObject\n",
    "- **Dependency Details:**\n",
    "  - Token 1 (nsubj): The - Dependency: det\n",
    "  - Token 2 (ROOT): chased - Dependency: ROOT\n",
    "  - Token 3 (dobj): everybody - Dependency: nsubj"
   ]
  },
  {
   "cell_type": "markdown",
   "id": "1325922f-b8fb-4146-8b62-248c27f670af",
   "metadata": {},
   "source": [
    "### 2. Change the sentence to “The big dog chased the cat”. Does the pattern catch the SVO pattern? If not, add another pattern2 to the matcher. The pattern should be DEP: nsubj, DEP: ROOT, DEP: det, DEP: dobj. When done, update matcher.add(\"SubRootDetObject\", [pattern2])\n",
    "\n",
    "#### Match Successfully!!!"
   ]
  },
  {
   "cell_type": "code",
   "execution_count": 6,
   "id": "43ba4e62-ba2d-4f51-a9ce-93ab41ca5c01",
   "metadata": {
    "tags": []
   },
   "outputs": [
    {
     "data": {
      "text/html": [
       "<span class=\"tex2jax_ignore\"><svg xmlns=\"http://www.w3.org/2000/svg\" xmlns:xlink=\"http://www.w3.org/1999/xlink\" xml:lang=\"en\" id=\"362c3623d4c8417cbd627ef894967784-0\" class=\"displacy\" width=\"1100\" height=\"312.0\" direction=\"ltr\" style=\"max-width: none; height: 312.0px; color: #000000; background: #ffffff; font-family: Arial; direction: ltr\">\n",
       "<text class=\"displacy-token\" fill=\"currentColor\" text-anchor=\"middle\" y=\"222.0\">\n",
       "    <tspan class=\"displacy-word\" fill=\"currentColor\" x=\"50\">The</tspan>\n",
       "    <tspan class=\"displacy-tag\" dy=\"2em\" fill=\"currentColor\" x=\"50\">DET</tspan>\n",
       "</text>\n",
       "\n",
       "<text class=\"displacy-token\" fill=\"currentColor\" text-anchor=\"middle\" y=\"222.0\">\n",
       "    <tspan class=\"displacy-word\" fill=\"currentColor\" x=\"225\">big</tspan>\n",
       "    <tspan class=\"displacy-tag\" dy=\"2em\" fill=\"currentColor\" x=\"225\">ADJ</tspan>\n",
       "</text>\n",
       "\n",
       "<text class=\"displacy-token\" fill=\"currentColor\" text-anchor=\"middle\" y=\"222.0\">\n",
       "    <tspan class=\"displacy-word\" fill=\"currentColor\" x=\"400\">dog</tspan>\n",
       "    <tspan class=\"displacy-tag\" dy=\"2em\" fill=\"currentColor\" x=\"400\">NOUN</tspan>\n",
       "</text>\n",
       "\n",
       "<text class=\"displacy-token\" fill=\"currentColor\" text-anchor=\"middle\" y=\"222.0\">\n",
       "    <tspan class=\"displacy-word\" fill=\"currentColor\" x=\"575\">chased</tspan>\n",
       "    <tspan class=\"displacy-tag\" dy=\"2em\" fill=\"currentColor\" x=\"575\">VERB</tspan>\n",
       "</text>\n",
       "\n",
       "<text class=\"displacy-token\" fill=\"currentColor\" text-anchor=\"middle\" y=\"222.0\">\n",
       "    <tspan class=\"displacy-word\" fill=\"currentColor\" x=\"750\">the</tspan>\n",
       "    <tspan class=\"displacy-tag\" dy=\"2em\" fill=\"currentColor\" x=\"750\">DET</tspan>\n",
       "</text>\n",
       "\n",
       "<text class=\"displacy-token\" fill=\"currentColor\" text-anchor=\"middle\" y=\"222.0\">\n",
       "    <tspan class=\"displacy-word\" fill=\"currentColor\" x=\"925\">cat</tspan>\n",
       "    <tspan class=\"displacy-tag\" dy=\"2em\" fill=\"currentColor\" x=\"925\">NOUN</tspan>\n",
       "</text>\n",
       "\n",
       "<g class=\"displacy-arrow\">\n",
       "    <path class=\"displacy-arc\" id=\"arrow-362c3623d4c8417cbd627ef894967784-0-0\" stroke-width=\"2px\" d=\"M70,177.0 C70,2.0 400.0,2.0 400.0,177.0\" fill=\"none\" stroke=\"currentColor\"/>\n",
       "    <text dy=\"1.25em\" style=\"font-size: 0.8em; letter-spacing: 1px\">\n",
       "        <textPath xlink:href=\"#arrow-362c3623d4c8417cbd627ef894967784-0-0\" class=\"displacy-label\" startOffset=\"50%\" side=\"left\" fill=\"currentColor\" text-anchor=\"middle\">det</textPath>\n",
       "    </text>\n",
       "    <path class=\"displacy-arrowhead\" d=\"M70,179.0 L62,167.0 78,167.0\" fill=\"currentColor\"/>\n",
       "</g>\n",
       "\n",
       "<g class=\"displacy-arrow\">\n",
       "    <path class=\"displacy-arc\" id=\"arrow-362c3623d4c8417cbd627ef894967784-0-1\" stroke-width=\"2px\" d=\"M245,177.0 C245,89.5 395.0,89.5 395.0,177.0\" fill=\"none\" stroke=\"currentColor\"/>\n",
       "    <text dy=\"1.25em\" style=\"font-size: 0.8em; letter-spacing: 1px\">\n",
       "        <textPath xlink:href=\"#arrow-362c3623d4c8417cbd627ef894967784-0-1\" class=\"displacy-label\" startOffset=\"50%\" side=\"left\" fill=\"currentColor\" text-anchor=\"middle\">amod</textPath>\n",
       "    </text>\n",
       "    <path class=\"displacy-arrowhead\" d=\"M245,179.0 L237,167.0 253,167.0\" fill=\"currentColor\"/>\n",
       "</g>\n",
       "\n",
       "<g class=\"displacy-arrow\">\n",
       "    <path class=\"displacy-arc\" id=\"arrow-362c3623d4c8417cbd627ef894967784-0-2\" stroke-width=\"2px\" d=\"M420,177.0 C420,89.5 570.0,89.5 570.0,177.0\" fill=\"none\" stroke=\"currentColor\"/>\n",
       "    <text dy=\"1.25em\" style=\"font-size: 0.8em; letter-spacing: 1px\">\n",
       "        <textPath xlink:href=\"#arrow-362c3623d4c8417cbd627ef894967784-0-2\" class=\"displacy-label\" startOffset=\"50%\" side=\"left\" fill=\"currentColor\" text-anchor=\"middle\">nsubj</textPath>\n",
       "    </text>\n",
       "    <path class=\"displacy-arrowhead\" d=\"M420,179.0 L412,167.0 428,167.0\" fill=\"currentColor\"/>\n",
       "</g>\n",
       "\n",
       "<g class=\"displacy-arrow\">\n",
       "    <path class=\"displacy-arc\" id=\"arrow-362c3623d4c8417cbd627ef894967784-0-3\" stroke-width=\"2px\" d=\"M770,177.0 C770,89.5 920.0,89.5 920.0,177.0\" fill=\"none\" stroke=\"currentColor\"/>\n",
       "    <text dy=\"1.25em\" style=\"font-size: 0.8em; letter-spacing: 1px\">\n",
       "        <textPath xlink:href=\"#arrow-362c3623d4c8417cbd627ef894967784-0-3\" class=\"displacy-label\" startOffset=\"50%\" side=\"left\" fill=\"currentColor\" text-anchor=\"middle\">det</textPath>\n",
       "    </text>\n",
       "    <path class=\"displacy-arrowhead\" d=\"M770,179.0 L762,167.0 778,167.0\" fill=\"currentColor\"/>\n",
       "</g>\n",
       "\n",
       "<g class=\"displacy-arrow\">\n",
       "    <path class=\"displacy-arc\" id=\"arrow-362c3623d4c8417cbd627ef894967784-0-4\" stroke-width=\"2px\" d=\"M595,177.0 C595,2.0 925.0,2.0 925.0,177.0\" fill=\"none\" stroke=\"currentColor\"/>\n",
       "    <text dy=\"1.25em\" style=\"font-size: 0.8em; letter-spacing: 1px\">\n",
       "        <textPath xlink:href=\"#arrow-362c3623d4c8417cbd627ef894967784-0-4\" class=\"displacy-label\" startOffset=\"50%\" side=\"left\" fill=\"currentColor\" text-anchor=\"middle\">dobj</textPath>\n",
       "    </text>\n",
       "    <path class=\"displacy-arrowhead\" d=\"M925.0,179.0 L933.0,167.0 917.0,167.0\" fill=\"currentColor\"/>\n",
       "</g>\n",
       "</svg></span>"
      ],
      "text/plain": [
       "<IPython.core.display.HTML object>"
      ]
     },
     "metadata": {},
     "output_type": "display_data"
    },
    {
     "name": "stdout",
     "output_type": "stream",
     "text": [
      "Token: The, Dependency: det\n",
      "Token: big, Dependency: amod\n",
      "Token: dog, Dependency: nsubj\n",
      "Token: chased, Dependency: ROOT\n",
      "Token: the, Dependency: det\n",
      "Token: cat, Dependency: dobj\n"
     ]
    }
   ],
   "source": [
    "from spacy.matcher import Matcher\n",
    "from spacy import displacy\n",
    "\n",
    "# Create a Matcher\n",
    "matcher = Matcher(nlp.vocab)\n",
    "\n",
    "# Define a pattern\n",
    "pattern1 = [{\"DEP\": \"nsubj\"}, {\"DEP\": \"ROOT\"}, {\"DEP\": \"dobj\"}]\n",
    "\n",
    "# Add the pattern to the Matcher with a unique name\n",
    "matcher.add(\"SubRootObject\", [pattern1])\n",
    "\n",
    "# Process the text with spaCy\n",
    "doc = nlp(\"The big dog chased the cat\")\n",
    "\n",
    "# Find matches using the Matcher\n",
    "matches = matcher(doc)\n",
    "\n",
    "# Visualize the dependency tree\n",
    "displacy.render(doc, style='dep')\n",
    "\n",
    "# Not needed, only for illustration\n",
    "for pattern_id, start, end in matches:\n",
    "    print(\"Matching Sentence: \", doc[start:end])\n",
    "    print(\"Pattern Type: \", doc.vocab.strings[pattern_id])\n",
    "\n",
    "# Separate printing to avoid mixing with visualization\n",
    "for token in doc:\n",
    "    print(\"Token: {}, Dependency: {}\".format(token.text, token.dep_))\n"
   ]
  },
  {
   "cell_type": "code",
   "execution_count": 7,
   "id": "a813e3f1-27ce-4474-9059-4ae8d5160c83",
   "metadata": {
    "tags": []
   },
   "outputs": [
    {
     "data": {
      "text/html": [
       "<span class=\"tex2jax_ignore\"><svg xmlns=\"http://www.w3.org/2000/svg\" xmlns:xlink=\"http://www.w3.org/1999/xlink\" xml:lang=\"en\" id=\"9dea41db446e4e67b602fad356464458-0\" class=\"displacy\" width=\"1275\" height=\"399.5\" direction=\"ltr\" style=\"max-width: none; height: 399.5px; color: #000000; background: #ffffff; font-family: Arial; direction: ltr\">\n",
       "<text class=\"displacy-token\" fill=\"currentColor\" text-anchor=\"middle\" y=\"309.5\">\n",
       "    <tspan class=\"displacy-word\" fill=\"currentColor\" x=\"50\">The</tspan>\n",
       "    <tspan class=\"displacy-tag\" dy=\"2em\" fill=\"currentColor\" x=\"50\">DET</tspan>\n",
       "</text>\n",
       "\n",
       "<text class=\"displacy-token\" fill=\"currentColor\" text-anchor=\"middle\" y=\"309.5\">\n",
       "    <tspan class=\"displacy-word\" fill=\"currentColor\" x=\"225\">big</tspan>\n",
       "    <tspan class=\"displacy-tag\" dy=\"2em\" fill=\"currentColor\" x=\"225\">ADJ</tspan>\n",
       "</text>\n",
       "\n",
       "<text class=\"displacy-token\" fill=\"currentColor\" text-anchor=\"middle\" y=\"309.5\">\n",
       "    <tspan class=\"displacy-word\" fill=\"currentColor\" x=\"400\">dog</tspan>\n",
       "    <tspan class=\"displacy-tag\" dy=\"2em\" fill=\"currentColor\" x=\"400\">NOUN</tspan>\n",
       "</text>\n",
       "\n",
       "<text class=\"displacy-token\" fill=\"currentColor\" text-anchor=\"middle\" y=\"309.5\">\n",
       "    <tspan class=\"displacy-word\" fill=\"currentColor\" x=\"575\">chased</tspan>\n",
       "    <tspan class=\"displacy-tag\" dy=\"2em\" fill=\"currentColor\" x=\"575\">VERB</tspan>\n",
       "</text>\n",
       "\n",
       "<text class=\"displacy-token\" fill=\"currentColor\" text-anchor=\"middle\" y=\"309.5\">\n",
       "    <tspan class=\"displacy-word\" fill=\"currentColor\" x=\"750\">the</tspan>\n",
       "    <tspan class=\"displacy-tag\" dy=\"2em\" fill=\"currentColor\" x=\"750\">DET</tspan>\n",
       "</text>\n",
       "\n",
       "<text class=\"displacy-token\" fill=\"currentColor\" text-anchor=\"middle\" y=\"309.5\">\n",
       "    <tspan class=\"displacy-word\" fill=\"currentColor\" x=\"925\">small</tspan>\n",
       "    <tspan class=\"displacy-tag\" dy=\"2em\" fill=\"currentColor\" x=\"925\">ADJ</tspan>\n",
       "</text>\n",
       "\n",
       "<text class=\"displacy-token\" fill=\"currentColor\" text-anchor=\"middle\" y=\"309.5\">\n",
       "    <tspan class=\"displacy-word\" fill=\"currentColor\" x=\"1100\">cat</tspan>\n",
       "    <tspan class=\"displacy-tag\" dy=\"2em\" fill=\"currentColor\" x=\"1100\">NOUN</tspan>\n",
       "</text>\n",
       "\n",
       "<g class=\"displacy-arrow\">\n",
       "    <path class=\"displacy-arc\" id=\"arrow-9dea41db446e4e67b602fad356464458-0-0\" stroke-width=\"2px\" d=\"M70,264.5 C70,89.5 395.0,89.5 395.0,264.5\" fill=\"none\" stroke=\"currentColor\"/>\n",
       "    <text dy=\"1.25em\" style=\"font-size: 0.8em; letter-spacing: 1px\">\n",
       "        <textPath xlink:href=\"#arrow-9dea41db446e4e67b602fad356464458-0-0\" class=\"displacy-label\" startOffset=\"50%\" side=\"left\" fill=\"currentColor\" text-anchor=\"middle\">det</textPath>\n",
       "    </text>\n",
       "    <path class=\"displacy-arrowhead\" d=\"M70,266.5 L62,254.5 78,254.5\" fill=\"currentColor\"/>\n",
       "</g>\n",
       "\n",
       "<g class=\"displacy-arrow\">\n",
       "    <path class=\"displacy-arc\" id=\"arrow-9dea41db446e4e67b602fad356464458-0-1\" stroke-width=\"2px\" d=\"M245,264.5 C245,177.0 390.0,177.0 390.0,264.5\" fill=\"none\" stroke=\"currentColor\"/>\n",
       "    <text dy=\"1.25em\" style=\"font-size: 0.8em; letter-spacing: 1px\">\n",
       "        <textPath xlink:href=\"#arrow-9dea41db446e4e67b602fad356464458-0-1\" class=\"displacy-label\" startOffset=\"50%\" side=\"left\" fill=\"currentColor\" text-anchor=\"middle\">amod</textPath>\n",
       "    </text>\n",
       "    <path class=\"displacy-arrowhead\" d=\"M245,266.5 L237,254.5 253,254.5\" fill=\"currentColor\"/>\n",
       "</g>\n",
       "\n",
       "<g class=\"displacy-arrow\">\n",
       "    <path class=\"displacy-arc\" id=\"arrow-9dea41db446e4e67b602fad356464458-0-2\" stroke-width=\"2px\" d=\"M420,264.5 C420,177.0 565.0,177.0 565.0,264.5\" fill=\"none\" stroke=\"currentColor\"/>\n",
       "    <text dy=\"1.25em\" style=\"font-size: 0.8em; letter-spacing: 1px\">\n",
       "        <textPath xlink:href=\"#arrow-9dea41db446e4e67b602fad356464458-0-2\" class=\"displacy-label\" startOffset=\"50%\" side=\"left\" fill=\"currentColor\" text-anchor=\"middle\">nsubj</textPath>\n",
       "    </text>\n",
       "    <path class=\"displacy-arrowhead\" d=\"M420,266.5 L412,254.5 428,254.5\" fill=\"currentColor\"/>\n",
       "</g>\n",
       "\n",
       "<g class=\"displacy-arrow\">\n",
       "    <path class=\"displacy-arc\" id=\"arrow-9dea41db446e4e67b602fad356464458-0-3\" stroke-width=\"2px\" d=\"M770,264.5 C770,89.5 1095.0,89.5 1095.0,264.5\" fill=\"none\" stroke=\"currentColor\"/>\n",
       "    <text dy=\"1.25em\" style=\"font-size: 0.8em; letter-spacing: 1px\">\n",
       "        <textPath xlink:href=\"#arrow-9dea41db446e4e67b602fad356464458-0-3\" class=\"displacy-label\" startOffset=\"50%\" side=\"left\" fill=\"currentColor\" text-anchor=\"middle\">det</textPath>\n",
       "    </text>\n",
       "    <path class=\"displacy-arrowhead\" d=\"M770,266.5 L762,254.5 778,254.5\" fill=\"currentColor\"/>\n",
       "</g>\n",
       "\n",
       "<g class=\"displacy-arrow\">\n",
       "    <path class=\"displacy-arc\" id=\"arrow-9dea41db446e4e67b602fad356464458-0-4\" stroke-width=\"2px\" d=\"M945,264.5 C945,177.0 1090.0,177.0 1090.0,264.5\" fill=\"none\" stroke=\"currentColor\"/>\n",
       "    <text dy=\"1.25em\" style=\"font-size: 0.8em; letter-spacing: 1px\">\n",
       "        <textPath xlink:href=\"#arrow-9dea41db446e4e67b602fad356464458-0-4\" class=\"displacy-label\" startOffset=\"50%\" side=\"left\" fill=\"currentColor\" text-anchor=\"middle\">amod</textPath>\n",
       "    </text>\n",
       "    <path class=\"displacy-arrowhead\" d=\"M945,266.5 L937,254.5 953,254.5\" fill=\"currentColor\"/>\n",
       "</g>\n",
       "\n",
       "<g class=\"displacy-arrow\">\n",
       "    <path class=\"displacy-arc\" id=\"arrow-9dea41db446e4e67b602fad356464458-0-5\" stroke-width=\"2px\" d=\"M595,264.5 C595,2.0 1100.0,2.0 1100.0,264.5\" fill=\"none\" stroke=\"currentColor\"/>\n",
       "    <text dy=\"1.25em\" style=\"font-size: 0.8em; letter-spacing: 1px\">\n",
       "        <textPath xlink:href=\"#arrow-9dea41db446e4e67b602fad356464458-0-5\" class=\"displacy-label\" startOffset=\"50%\" side=\"left\" fill=\"currentColor\" text-anchor=\"middle\">dobj</textPath>\n",
       "    </text>\n",
       "    <path class=\"displacy-arrowhead\" d=\"M1100.0,266.5 L1108.0,254.5 1092.0,254.5\" fill=\"currentColor\"/>\n",
       "</g>\n",
       "</svg></span>"
      ],
      "text/plain": [
       "<IPython.core.display.HTML object>"
      ]
     },
     "metadata": {},
     "output_type": "display_data"
    },
    {
     "name": "stdout",
     "output_type": "stream",
     "text": [
      "Token: The, Dependency: det\n",
      "Token: big, Dependency: amod\n",
      "Token: dog, Dependency: nsubj\n",
      "Token: chased, Dependency: ROOT\n",
      "Token: the, Dependency: det\n",
      "Token: small, Dependency: amod\n",
      "Token: cat, Dependency: dobj\n"
     ]
    }
   ],
   "source": [
    "from spacy.matcher import Matcher\n",
    "from spacy import displacy\n",
    "\n",
    "# Load the spaCy model\n",
    "nlp = spacy.load(\"en_core_web_sm\")\n",
    "\n",
    "# Create a Matcher\n",
    "matcher = Matcher(nlp.vocab)\n",
    "\n",
    "# Define the existing pattern\n",
    "pattern1 = [{\"DEP\": \"nsubj\"}, {\"DEP\": \"ROOT\"}, {\"DEP\": \"dobj\"}]\n",
    "\n",
    "# Add the existing pattern to the Matcher\n",
    "matcher.add(\"SubRootObject\", [pattern1])\n",
    "\n",
    "# Define the third pattern\n",
    "pattern3 = [{\"DEP\": \"amod\", \"OP\": \"*\"}, {\"DEP\": \"nsubj\"}, {\"DEP\": \"ROOT\"}, {\"DEP\": \"amod\", \"OP\": \"*\"}, {\"DEP\": \"dobj\"}]\n",
    "\n",
    "# Add the third pattern to the Matcher\n",
    "matcher.add(\"SubRootObjectWithAdjectives\", [pattern3])\n",
    "\n",
    "# Process the text with spaCy\n",
    "doc = nlp(\"The big dog chased the small cat\")\n",
    "\n",
    "# Find matches using the Matcher\n",
    "matches = matcher(doc)\n",
    "\n",
    "# Visualize the dependency tree\n",
    "displacy.render(doc, style=\"dep\")\n",
    "\n",
    "# Not needed, only for illustration\n",
    "for pattern_id, start, end in matches:\n",
    "    print(\"Matching Sentence: \", doc[start:end])\n",
    "    print(\"Pattern Type: \", doc.vocab.strings[pattern_id])\n",
    "\n",
    "# Separate printing to avoid mixing with visualization\n",
    "for token in doc:\n",
    "    print(\"Token: {}, Dependency: {}\".format(token.text, token.dep_))\n"
   ]
  },
  {
   "cell_type": "markdown",
   "id": "9b8043e9-316c-4122-bc4c-c00143a2c8dd",
   "metadata": {},
   "source": [
    "## 1. Design a pattern to identify a noun at least one time:"
   ]
  },
  {
   "cell_type": "code",
   "execution_count": 8,
   "id": "a2d898ff-f809-40e4-8d9b-017ef9383949",
   "metadata": {
    "tags": []
   },
   "outputs": [
    {
     "name": "stdout",
     "output_type": "stream",
     "text": [
      "Matching Sentence:  sentence\n",
      "Matching Sentence:  noun\n"
     ]
    }
   ],
   "source": [
    "# Create a Matcher\n",
    "matcher = Matcher(nlp.vocab)\n",
    "\n",
    "# Define a pattern to identify at least one noun\n",
    "pattern_one_noun = [{\"POS\": \"NOUN\"}]\n",
    "\n",
    "# Add the pattern to the Matcher with a unique name\n",
    "matcher.add(\"OneNoun\", [pattern_one_noun])\n",
    "\n",
    "# Process the text with spaCy\n",
    "doc = nlp(\"This is an example sentence with at least one noun.\")\n",
    "\n",
    "# Find matches using the Matcher\n",
    "matches = matcher(doc)\n",
    "\n",
    "# Print matching tokens\n",
    "for pattern_id, start, end in matches:\n",
    "    print(\"Matching Sentence: \", doc[start:end])\n"
   ]
  },
  {
   "cell_type": "markdown",
   "id": "47497dcc-447a-49ae-98fe-ca69258febd6",
   "metadata": {},
   "source": [
    "## 2. Design a pattern to identify a noun of length >= 10 characters:"
   ]
  },
  {
   "cell_type": "code",
   "execution_count": 9,
   "id": "3fe70b1b-d799-4cd7-aef6-fa8f6a2fb799",
   "metadata": {
    "tags": []
   },
   "outputs": [
    {
     "name": "stdout",
     "output_type": "stream",
     "text": [
      "Matching Sentence:  verylongnoun\n",
      "Matching Sentence:  characters\n"
     ]
    }
   ],
   "source": [
    "# Create a Matcher\n",
    "matcher = Matcher(nlp.vocab)\n",
    "\n",
    "# Define a pattern to identify a noun of length >= 10 characters\n",
    "pattern_long_noun = [{\"POS\": \"NOUN\", \"LENGTH\": {\">=\": 10}}]\n",
    "\n",
    "# Add the pattern to the Matcher with a unique name\n",
    "matcher.add(\"LongNoun\", [pattern_long_noun])\n",
    "\n",
    "# Process the text with spaCy\n",
    "doc = nlp(\"This is a sentence with a verylongnoun that has more than 10 characters.\")\n",
    "\n",
    "# Find matches using the Matcher\n",
    "matches = matcher(doc)\n",
    "\n",
    "# Print matching tokens\n",
    "for pattern_id, start, end in matches:\n",
    "    print(\"Matching Sentence: \", doc[start:end])\n"
   ]
  },
  {
   "cell_type": "markdown",
   "id": "f66f4e56-3e28-49bf-8a65-f4ce90306485",
   "metadata": {},
   "source": [
    "## 3. Design a pattern to identify vulgar language (using NOT_IN):"
   ]
  },
  {
   "cell_type": "code",
   "execution_count": 10,
   "id": "42fb0d33-a5e7-40ea-af8c-d8723a3dc831",
   "metadata": {
    "tags": []
   },
   "outputs": [
    {
     "name": "stdout",
     "output_type": "stream",
     "text": [
      "Vulgar Language Detected:  vulgarword2\n"
     ]
    }
   ],
   "source": [
    "import spacy\n",
    "from spacy.matcher import Matcher\n",
    "\n",
    "# Load the spaCy model\n",
    "nlp = spacy.load(\"en_core_web_sm\")\n",
    "\n",
    "# Define a list of vulgar words\n",
    "vulgar_words = [\"vulgarword1\", \"vulgarword2\"]\n",
    "\n",
    "# Custom callback function to handle matches\n",
    "def handle_vulgar_word(matcher, doc, i, matches):\n",
    "    match_id, start, end = matches[i]\n",
    "    # Do something with the match (in this case, print the sentence)\n",
    "    print(\"Vulgar Language Detected: \", doc[start:end])\n",
    "\n",
    "# Create a Matcher and add the pattern with the custom callback\n",
    "matcher = Matcher(nlp.vocab)\n",
    "matcher.add(\"VULGAR_WORD\", [[{\"LOWER\": {\"IN\": vulgar_words}}]], on_match=handle_vulgar_word)\n",
    "\n",
    "# Process the text with spaCy\n",
    "doc = nlp(\"This sentence may contain vulgerword1 or vulgarword2.\")\n",
    "\n",
    "# Find matches using the Matcher\n",
    "matches = matcher(doc)\n"
   ]
  },
  {
   "cell_type": "markdown",
   "id": "c009f4f6-8868-460d-a08a-390046f69ba7",
   "metadata": {},
   "source": [
    "## Task 6: Getting Replies"
   ]
  },
  {
   "cell_type": "code",
   "execution_count": 11,
   "id": "e4bca294-c214-412b-8ba3-9773ef417372",
   "metadata": {
    "tags": []
   },
   "outputs": [],
   "source": [
    "import spacy\n",
    "from spacy.matcher import Matcher\n",
    "\n",
    "def utterance(msg):\n",
    "    nlp = spacy.load('en_core_web_sm')\n",
    "    doc = nlp(msg)\n",
    "    matcher = Matcher(nlp.vocab)\n",
    "    pattern1 = [{\"LEMMA\": {\"IN\": [\"salam\", \"assalam\", \"hi\", \"hello\"]}}]\n",
    "    matcher.add(\"greeting\", [pattern1])\n",
    "    matches = matcher(doc)\n",
    "    \n",
    "    if len(matches) == 0:\n",
    "        print('Please rephrase your request. Be as specific as possible!')\n",
    "        return\n",
    "    \n",
    "    for pattern_id, start, end in matches:\n",
    "        if doc.vocab.strings[pattern_id] == \"greeting\":\n",
    "            print(\"Welcome to Pizza ordering system\")\n",
    "            return"
   ]
  },
  {
   "cell_type": "code",
   "execution_count": 12,
   "id": "643f8e89-8147-4a63-9b12-066916e11b9a",
   "metadata": {
    "tags": []
   },
   "outputs": [
    {
     "name": "stdout",
     "output_type": "stream",
     "text": [
      "Welcome to Pizza ordering system\n"
     ]
    }
   ],
   "source": [
    "msg = nlp(\"Hi\")\n",
    "utterance(msg)"
   ]
  },
  {
   "cell_type": "code",
   "execution_count": 13,
   "id": "9a411313-1589-4284-a6cf-b0d7bdc95044",
   "metadata": {
    "tags": []
   },
   "outputs": [],
   "source": [
    "# while True:\n",
    "    # message = input(\"You: \")\n",
    "    # if message.lower() == \"quit\":\n",
    "        # break\n",
    "    # else:\n",
    "        # print(\"Bot:\", utterance(nlp(message)))"
   ]
  },
  {
   "cell_type": "markdown",
   "id": "f8d9330d-50c8-4bfc-9c28-922f7340877a",
   "metadata": {},
   "source": [
    "### 1. Extend the code by adding pattern and matches if a user enters: “I would like to order a pizza”. The bot should ask about which pizza type he/she wants."
   ]
  },
  {
   "cell_type": "code",
   "execution_count": 14,
   "id": "cb972842-7b3e-4e77-bba9-36487afce7c4",
   "metadata": {
    "tags": []
   },
   "outputs": [
    {
     "name": "stdout",
     "output_type": "stream",
     "text": [
      "Welcome to Pizza ordering system\n",
      "Sure! What type of pizza would you like to order?\n"
     ]
    }
   ],
   "source": [
    "import spacy\n",
    "from spacy.matcher import Matcher\n",
    "\n",
    "def utterance(msg):\n",
    "    nlp = spacy.load('en_core_web_sm')\n",
    "    doc = nlp(msg)\n",
    "    matcher = Matcher(nlp.vocab)\n",
    "\n",
    "    # Pattern for greetings\n",
    "    pattern_greeting = [{\"LEMMA\": {\"IN\": [\"salam\", \"assalam\", \"hi\", \"hello\"]}}]\n",
    "\n",
    "    # Pattern for pizza order\n",
    "    pattern_order_pizza = [{\"LEMMA\": \"I\"}, {\"LEMMA\": \"would\"}, {\"LEMMA\": \"like\"}, {\"LEMMA\": \"to\"},\n",
    "                           {\"LEMMA\": \"order\"}, {\"LEMMA\": \"a\"}, {\"LEMMA\": \"pizza\"}]\n",
    "\n",
    "    matcher.add(\"greeting\", [pattern_greeting])\n",
    "    matcher.add(\"order_pizza\", [pattern_order_pizza])\n",
    "\n",
    "    matches = matcher(doc)\n",
    "\n",
    "    if len(matches) == 0:\n",
    "        print('Please rephrase your request. Be as specific as possible!')\n",
    "        return\n",
    "\n",
    "    for pattern_id, start, end in matches:\n",
    "        if doc.vocab.strings[pattern_id] == \"greeting\":\n",
    "            print(\"Welcome to Pizza ordering system\")\n",
    "        elif doc.vocab.strings[pattern_id] == \"order_pizza\":\n",
    "            print(\"Sure! What type of pizza would you like to order?\")\n",
    "            # Add logic here to handle user's response about pizza type\n",
    "\n",
    "utterance(\"Hi, I would like to order a pizza.\")\n"
   ]
  },
  {
   "cell_type": "markdown",
   "id": "6568ebee-c747-4291-9a66-0ff753b85eaf",
   "metadata": {},
   "source": [
    "## 2. Extend the code by adding pattern and matches if a user enters: “I would like to complain about an order”."
   ]
  },
  {
   "cell_type": "code",
   "execution_count": 15,
   "id": "d82bdecf-4d48-4fad-bfec-58553bff7f51",
   "metadata": {
    "tags": []
   },
   "outputs": [
    {
     "name": "stdout",
     "output_type": "stream",
     "text": [
      "I'm sorry to hear that. Please provide details about your complaint.\n"
     ]
    }
   ],
   "source": [
    "import spacy\n",
    "from spacy.matcher import Matcher\n",
    "\n",
    "def utterance(msg):\n",
    "    nlp = spacy.load('en_core_web_sm')\n",
    "    doc = nlp(msg)\n",
    "    matcher = Matcher(nlp.vocab)\n",
    "\n",
    "    # Pattern for greetings\n",
    "    pattern_greeting = [{\"LEMMA\": {\"IN\": [\"salam\", \"assalam\", \"hi\", \"hello\"]}}]\n",
    "\n",
    "    # Pattern for pizza order\n",
    "    pattern_order_pizza = [{\"LEMMA\": \"I\"}, {\"LEMMA\": \"would\"}, {\"LEMMA\": \"like\"}, {\"LEMMA\": \"to\"},\n",
    "                           {\"LEMMA\": \"order\"}, {\"LEMMA\": \"a\"}, {\"LEMMA\": \"pizza\"}]\n",
    "\n",
    "    # Pattern for order complaint\n",
    "    pattern_complaint = [{\"LEMMA\": \"I\"}, {\"LEMMA\": \"would\"}, {\"LEMMA\": \"like\"}, {\"LEMMA\": \"to\"},\n",
    "                         {\"LEMMA\": \"complain\"}, {\"LEMMA\": \"about\"}, {\"LEMMA\": \"an\"}, {\"LEMMA\": \"order\"}]\n",
    "\n",
    "    matcher.add(\"greeting\", [pattern_greeting])\n",
    "    matcher.add(\"order_pizza\", [pattern_order_pizza])\n",
    "    matcher.add(\"complaint\", [pattern_complaint])\n",
    "\n",
    "    matches = matcher(doc)\n",
    "\n",
    "    if len(matches) == 0:\n",
    "        print('Please rephrase your request. Be as specific as possible!')\n",
    "        return\n",
    "\n",
    "    for pattern_id, start, end in matches:\n",
    "        if doc.vocab.strings[pattern_id] == \"greeting\":\n",
    "            print(\"Welcome to Pizza ordering system\")\n",
    "        elif doc.vocab.strings[pattern_id] == \"order_pizza\":\n",
    "            print(\"Sure! What type of pizza would you like to order?\")\n",
    "            # Add logic here to handle user's response about pizza type\n",
    "        elif doc.vocab.strings[pattern_id] == \"complaint\":\n",
    "            print(\"I'm sorry to hear that. Please provide details about your complaint.\")\n",
    "            # Add logic here to handle user's complaint\n",
    "\n",
    "# Example usage\n",
    "utterance(\"I would like to complain about an order.\")\n"
   ]
  },
  {
   "cell_type": "markdown",
   "id": "d61f2193-8be5-4b94-b6d5-e9e12df4a480",
   "metadata": {
    "tags": []
   },
   "source": [
    "### 3. In respone to what pizza type user wants, the user may want to enter “Chief Special Pizza”. Use the .lefts (mentioned in Lab 03) to get the pizza type. Ask about quantity. Use Cardinal as ent type to get the quantity, and place the order. Ask for address, and confirm the user with address."
   ]
  },
  {
   "cell_type": "code",
   "execution_count": 16,
   "id": "796cfdf1-4499-41b0-88be-2f39e81158e2",
   "metadata": {
    "tags": []
   },
   "outputs": [
    {
     "name": "stdout",
     "output_type": "stream",
     "text": [
      "Welcome to Pizza ordering system\n",
      "Sure! How many Pizza pizzas would you like to order?\n",
      "I'm sorry, but I couldn't determine the quantity. Please provide a numeric quantity.\n"
     ]
    }
   ],
   "source": [
    "import spacy\n",
    "from spacy.matcher import Matcher\n",
    "\n",
    "def process_order(doc):\n",
    "    # Find the pizza type\n",
    "    pizza_type = None\n",
    "    for token in doc:\n",
    "        if token.dep_ == \"dobj\" and token.pos_ == \"PROPN\":\n",
    "            pizza_type = token.text\n",
    "            break\n",
    "\n",
    "    if pizza_type:\n",
    "        # Ask about quantity\n",
    "        print(f\"Sure! How many {pizza_type} pizzas would you like to order?\")\n",
    "\n",
    "        # Use Cardinal as ent type to get the quantity\n",
    "        quantity = None\n",
    "        for ent in doc.ents:\n",
    "            if ent.label_ == 'CARDINAL':\n",
    "                quantity = ent.text\n",
    "\n",
    "        if quantity:\n",
    "            print(f\"Great! I'll place an order for {quantity} {pizza_type} pizzas.\")\n",
    "\n",
    "            # Ask for address\n",
    "            print(\"Could you please provide your delivery address?\")\n",
    "\n",
    "            # Confirm the user with the address\n",
    "            address = input()  # Assume the user provides the address as input\n",
    "            print(f\"Thank you! Your order for {quantity} {pizza_type} pizzas will be delivered to {address}.\")\n",
    "        else:\n",
    "            print(\"I'm sorry, but I couldn't determine the quantity. Please provide a numeric quantity.\")\n",
    "    else:\n",
    "        print(\"I'm sorry, but I couldn't determine the pizza type. Please be more specific.\")\n",
    "\n",
    "def utterance(msg):\n",
    "    nlp = spacy.load('en_core_web_sm')\n",
    "    doc = nlp(msg)\n",
    "    matcher = Matcher(nlp.vocab)\n",
    "\n",
    "    # Pattern for greetings\n",
    "    pattern_greeting = [{\"LEMMA\": {\"IN\": [\"salam\", \"assalam\", \"hi\", \"hello\"]}}]\n",
    "\n",
    "    # Pattern for pizza order\n",
    "    pattern_order_pizza = [{\"LEMMA\": \"I\"}, {\"LEMMA\": \"would\"}, {\"LEMMA\": \"like\"}, {\"LEMMA\": \"to\"},\n",
    "                           {\"LEMMA\": \"order\"}, {\"LEMMA\": {\"IN\": [\"a\", \"an\"]}}, {\"LEMMA\": \"Chief\"},\n",
    "                           {\"LEMMA\": \"Special\"}, {\"LEMMA\": \"Pizza\"}]\n",
    "\n",
    "    matcher.add(\"greeting\", [pattern_greeting])\n",
    "    matcher.add(\"order_pizza\", [pattern_order_pizza])\n",
    "\n",
    "    matches = matcher(doc)\n",
    "\n",
    "    if len(matches) == 0:\n",
    "        print('Please rephrase your request. Be as specific as possible!')\n",
    "        return\n",
    "\n",
    "    for pattern_id, start, end in matches:\n",
    "        if doc.vocab.strings[pattern_id] == \"greeting\":\n",
    "            print(\"Welcome to Pizza ordering system\")\n",
    "        elif doc.vocab.strings[pattern_id] == \"order_pizza\":\n",
    "            process_order(doc)\n",
    "\n",
    "# Example usage\n",
    "utterance(\"Hi, I would like to order a Chief Special Pizza.\")\n"
   ]
  },
  {
   "cell_type": "markdown",
   "id": "8c88043d-de86-4565-aed1-d47fe5e54893",
   "metadata": {},
   "source": []
  }
 ],
 "metadata": {
  "kernelspec": {
   "display_name": "spaCy",
   "language": "python",
   "name": "spacy"
  },
  "language_info": {
   "codemirror_mode": {
    "name": "ipython",
    "version": 3
   },
   "file_extension": ".py",
   "mimetype": "text/x-python",
   "name": "python",
   "nbconvert_exporter": "python",
   "pygments_lexer": "ipython3",
   "version": "3.11.5"
  }
 },
 "nbformat": 4,
 "nbformat_minor": 5
}
